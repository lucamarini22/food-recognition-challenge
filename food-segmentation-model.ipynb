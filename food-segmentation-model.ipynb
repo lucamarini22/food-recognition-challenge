{
 "cells": [
  {
   "cell_type": "markdown",
   "metadata": {},
   "source": [
    "<h1><center>DL Project (Food Recognition)</center></h1>\n",
    "<center>Students should develop a software system aimed at recognising and segmenting food items in each image.</center>\n",
    "<br>\n",
    "\n",
    "<h3><center>Gee Jun Hui Leonidas Yunani<br>Marini Luca</center></h3>\n",
    "\n",
    "<center>leonidas.gee@studio.unibo.it<br>luca.marini9@studio.unibo.it</center>\n",
    "<br>\n",
    "\n",
    "<center>Academic Year: 2020 / 2021</center>"
   ]
  },
  {
   "cell_type": "code",
   "execution_count": 1,
   "metadata": {
    "_kg_hide-input": false,
    "_kg_hide-output": true,
    "execution": {
     "iopub.execute_input": "2021-05-16T15:10:13.957992Z",
     "iopub.status.busy": "2021-05-16T15:10:13.956503Z",
     "iopub.status.idle": "2021-05-16T15:10:27.703616Z",
     "shell.execute_reply": "2021-05-16T15:10:27.703030Z"
    },
    "papermill": {
     "duration": 13.765411,
     "end_time": "2021-05-16T15:10:27.703759",
     "exception": false,
     "start_time": "2021-05-16T15:10:13.938348",
     "status": "completed"
    },
    "tags": []
   },
   "outputs": [
    {
     "name": "stdout",
     "output_type": "stream",
     "text": [
      "Collecting pycocotools\r\n",
      "  Downloading pycocotools-2.0.2.tar.gz (23 kB)\r\n",
      "Requirement already satisfied: setuptools>=18.0 in /opt/conda/lib/python3.7/site-packages (from pycocotools) (49.6.0.post20210108)\r\n",
      "Requirement already satisfied: cython>=0.27.3 in /opt/conda/lib/python3.7/site-packages (from pycocotools) (0.29.23)\r\n",
      "Requirement already satisfied: matplotlib>=2.1.0 in /opt/conda/lib/python3.7/site-packages (from pycocotools) (3.4.1)\r\n",
      "Requirement already satisfied: numpy>=1.16 in /opt/conda/lib/python3.7/site-packages (from matplotlib>=2.1.0->pycocotools) (1.19.5)\r\n",
      "Requirement already satisfied: python-dateutil>=2.7 in /opt/conda/lib/python3.7/site-packages (from matplotlib>=2.1.0->pycocotools) (2.8.1)\r\n",
      "Requirement already satisfied: cycler>=0.10 in /opt/conda/lib/python3.7/site-packages (from matplotlib>=2.1.0->pycocotools) (0.10.0)\r\n",
      "Requirement already satisfied: kiwisolver>=1.0.1 in /opt/conda/lib/python3.7/site-packages (from matplotlib>=2.1.0->pycocotools) (1.3.1)\r\n",
      "Requirement already satisfied: pyparsing>=2.2.1 in /opt/conda/lib/python3.7/site-packages (from matplotlib>=2.1.0->pycocotools) (2.4.7)\r\n",
      "Requirement already satisfied: pillow>=6.2.0 in /opt/conda/lib/python3.7/site-packages (from matplotlib>=2.1.0->pycocotools) (7.2.0)\r\n",
      "Requirement already satisfied: six in /opt/conda/lib/python3.7/site-packages (from cycler>=0.10->matplotlib>=2.1.0->pycocotools) (1.15.0)\r\n",
      "Building wheels for collected packages: pycocotools\r\n",
      "  Building wheel for pycocotools (setup.py) ... \u001b[?25l-\b \b\\\b \b|\b \b/\b \b-\b \b\\\b \b|\b \b/\b \bdone\r\n",
      "\u001b[?25h  Created wheel for pycocotools: filename=pycocotools-2.0.2-cp37-cp37m-linux_x86_64.whl size=272450 sha256=21b1a1002c438d1d0c4fa4f8e16b51939a3c9d14f916c2703d28080c075e712e\r\n",
      "  Stored in directory: /root/.cache/pip/wheels/bc/cf/1b/e95c99c5f9d1648be3f500ca55e7ce55f24818b0f48336adaf\r\n",
      "Successfully built pycocotools\r\n",
      "Installing collected packages: pycocotools\r\n",
      "Successfully installed pycocotools-2.0.2\r\n"
     ]
    }
   ],
   "source": [
    "# Install the pycoco library\n",
    "!pip install pycocotools"
   ]
  },
  {
   "cell_type": "code",
   "execution_count": 2,
   "metadata": {
    "execution": {
     "iopub.execute_input": "2021-05-16T15:10:27.742889Z",
     "iopub.status.busy": "2021-05-16T15:10:27.741767Z",
     "iopub.status.idle": "2021-05-16T15:10:29.405001Z",
     "shell.execute_reply": "2021-05-16T15:10:29.404076Z"
    },
    "papermill": {
     "duration": 1.684402,
     "end_time": "2021-05-16T15:10:29.405142",
     "exception": false,
     "start_time": "2021-05-16T15:10:27.720740",
     "status": "completed"
    },
    "tags": []
   },
   "outputs": [],
   "source": [
    "# Import the necessary libraries\n",
    "import numpy as np\n",
    "import pandas as pd\n",
    "import os\n",
    "import random\n",
    "import cv2\n",
    "from pycocotools.coco import COCO\n",
    "import matplotlib.pyplot as plt\n",
    "%matplotlib inline\n",
    "import imgaug.augmenters as iaa"
   ]
  },
  {
   "cell_type": "code",
   "execution_count": 3,
   "metadata": {
    "execution": {
     "iopub.execute_input": "2021-05-16T15:10:29.441249Z",
     "iopub.status.busy": "2021-05-16T15:10:29.439974Z",
     "iopub.status.idle": "2021-05-16T15:10:29.442253Z",
     "shell.execute_reply": "2021-05-16T15:10:29.442672Z"
    },
    "papermill": {
     "duration": 0.021817,
     "end_time": "2021-05-16T15:10:29.442797",
     "exception": false,
     "start_time": "2021-05-16T15:10:29.420980",
     "status": "completed"
    },
    "tags": []
   },
   "outputs": [],
   "source": [
    "# Set important parameters\n",
    "IMAGE_SIZE = (48, 48)\n",
    "BATCH_SIZE = 300\n",
    "EPOCHS = 5"
   ]
  },
  {
   "cell_type": "code",
   "execution_count": 4,
   "metadata": {
    "execution": {
     "iopub.execute_input": "2021-05-16T15:10:29.478307Z",
     "iopub.status.busy": "2021-05-16T15:10:29.477659Z",
     "iopub.status.idle": "2021-05-16T15:10:29.481088Z",
     "shell.execute_reply": "2021-05-16T15:10:29.480638Z"
    },
    "papermill": {
     "duration": 0.022628,
     "end_time": "2021-05-16T15:10:29.481208",
     "exception": false,
     "start_time": "2021-05-16T15:10:29.458580",
     "status": "completed"
    },
    "tags": []
   },
   "outputs": [],
   "source": [
    "# Define the image and annotation paths\n",
    "train_imgs_path = '../input/food-recognition-challenge/train-v0.4/train/images'\n",
    "train_anns_path = '../input/food-recognition-challenge/train-v0.4/train/annotations.json'\n",
    "\n",
    "val_imgs_path = '../input/food-recognition-challenge/val-v0.4/val/images'\n",
    "val_anns_path = '../input/food-recognition-challenge/val-v0.4/val/annotations.json'\n",
    "\n",
    "test_imgs_path = '../input/food-recognition-challenge/test_images-v0.4/val/images'\n",
    "test_anns_path = '../input/food-recognition-challenge/test_images-v0.4/val/annotations.json'"
   ]
  },
  {
   "cell_type": "code",
   "execution_count": 5,
   "metadata": {
    "execution": {
     "iopub.execute_input": "2021-05-16T15:10:29.518624Z",
     "iopub.status.busy": "2021-05-16T15:10:29.517456Z",
     "iopub.status.idle": "2021-05-16T15:10:29.520152Z",
     "shell.execute_reply": "2021-05-16T15:10:29.519736Z"
    },
    "papermill": {
     "duration": 0.02346,
     "end_time": "2021-05-16T15:10:29.520256",
     "exception": false,
     "start_time": "2021-05-16T15:10:29.496796",
     "status": "completed"
    },
    "tags": []
   },
   "outputs": [],
   "source": [
    "# Function to load JSON into a COCO api\n",
    "def getCOCO(anns_path):\n",
    "    # Initialize the COCO api for instance annotations\n",
    "    coco = COCO(anns_path)\n",
    "    \n",
    "    # Load the categories in a variable\n",
    "    catIDs = coco.getCatIds()\n",
    "    cats = coco.loadCats(catIDs)\n",
    "    \n",
    "    # Print number of categories\n",
    "    nms = [cat['name'] for cat in cats]\n",
    "    \n",
    "    # Create a dataframe of the count of each category\n",
    "    df = pd.DataFrame(columns=['Category', 'ID', 'Count'])\n",
    "    \n",
    "    # Add each category and its count row by row\n",
    "    for i, catID in enumerate(catIDs):\n",
    "        imgIds = coco.getImgIds(catIds=catID)\n",
    "        df.loc[i] = [nms[i]] + [catID] + [len(imgIds)]\n",
    "    \n",
    "    return coco, df"
   ]
  },
  {
   "cell_type": "code",
   "execution_count": 6,
   "metadata": {
    "_kg_hide-output": true,
    "execution": {
     "iopub.execute_input": "2021-05-16T15:10:29.555247Z",
     "iopub.status.busy": "2021-05-16T15:10:29.554735Z",
     "iopub.status.idle": "2021-05-16T15:10:34.765442Z",
     "shell.execute_reply": "2021-05-16T15:10:34.764993Z"
    },
    "papermill": {
     "duration": 5.229494,
     "end_time": "2021-05-16T15:10:34.765571",
     "exception": false,
     "start_time": "2021-05-16T15:10:29.536077",
     "status": "completed"
    },
    "tags": []
   },
   "outputs": [
    {
     "name": "stdout",
     "output_type": "stream",
     "text": [
      "loading annotations into memory...\n",
      "Done (t=2.64s)\n",
      "creating index...\n",
      "index created!\n",
      "loading annotations into memory...\n",
      "Done (t=0.14s)\n",
      "creating index...\n",
      "index created!\n",
      "loading annotations into memory...\n",
      "Done (t=0.13s)\n",
      "creating index...\n",
      "index created!\n"
     ]
    }
   ],
   "source": [
    "# Load the annotations of the image dataset\n",
    "train_coco, train_classes = getCOCO(train_anns_path)\n",
    "val_coco, val_classes = getCOCO(val_anns_path)\n",
    "test_coco, test_classes = getCOCO(test_anns_path)"
   ]
  },
  {
   "cell_type": "code",
   "execution_count": 7,
   "metadata": {
    "execution": {
     "iopub.execute_input": "2021-05-16T15:10:34.806712Z",
     "iopub.status.busy": "2021-05-16T15:10:34.806192Z",
     "iopub.status.idle": "2021-05-16T15:10:34.810065Z",
     "shell.execute_reply": "2021-05-16T15:10:34.809629Z"
    },
    "papermill": {
     "duration": 0.027405,
     "end_time": "2021-05-16T15:10:34.810169",
     "exception": false,
     "start_time": "2021-05-16T15:10:34.782764",
     "status": "completed"
    },
    "tags": []
   },
   "outputs": [],
   "source": [
    "def getMask(image_id, coco, classes, image_size):\n",
    "    # Create a zero array with the given size and number of classes\n",
    "    mask = np.zeros((image_size[0], image_size[1], 274))\n",
    "\n",
    "    annIds = coco.getAnnIds(int(image_id))\n",
    "    anns = coco.loadAnns(annIds)\n",
    "\n",
    "    for i, ann in enumerate(anns):\n",
    "        # Get the binary mask for the annotation\n",
    "        binary = cv2.resize(coco.annToMask(ann), image_size, interpolation=cv2.INTER_AREA)\n",
    "\n",
    "        # Get the channel index for the annotation\n",
    "        channel = classes[classes.ID == ann['category_id']].index[0] + 1\n",
    "\n",
    "        # Update the channel of the annotation\n",
    "        mask[:, :, channel] = binary\n",
    "\n",
    "        # Update the background channel of the annotation\n",
    "        if i == 0:\n",
    "            mask[:, :, 0] = np.logical_or(mask[:, :, 0], np.logical_not(binary))\n",
    "        else:\n",
    "            mask[:, :, 0] = np.logical_and(mask[:, :, 0], np.logical_not(binary))\n",
    "\n",
    "    return mask"
   ]
  },
  {
   "cell_type": "code",
   "execution_count": 8,
   "metadata": {
    "execution": {
     "iopub.execute_input": "2021-05-16T15:10:34.853497Z",
     "iopub.status.busy": "2021-05-16T15:10:34.852864Z",
     "iopub.status.idle": "2021-05-16T15:10:34.856118Z",
     "shell.execute_reply": "2021-05-16T15:10:34.855706Z"
    },
    "papermill": {
     "duration": 0.028686,
     "end_time": "2021-05-16T15:10:34.856225",
     "exception": false,
     "start_time": "2021-05-16T15:10:34.827539",
     "status": "completed"
    },
    "tags": []
   },
   "outputs": [],
   "source": [
    "def getGenerator(path, coco, classes, image_size, batch_size, augment=False):\n",
    "    c = 0\n",
    "    n = os.listdir(path)\n",
    "    random.shuffle(n)\n",
    "    \n",
    "    geo_aug = iaa.Fliplr(1.0)\n",
    "    \n",
    "    while (True):\n",
    "        img_batch = np.zeros((batch_size, image_size[0], image_size[1], 3)).astype('int')\n",
    "        mask_batch = np.zeros((batch_size, image_size[0], image_size[1], 274)).astype('float')\n",
    "\n",
    "        for i in range(c, c + batch_size):\n",
    "            img = cv2.imread(path + '/' + n[i])\n",
    "            img =  cv2.resize(img, image_size, interpolation=cv2.INTER_AREA)\n",
    "            img = cv2.cvtColor(img, cv2.COLOR_BGR2RGB)\n",
    "            \n",
    "            mask = getMask(n[i][1:-4], coco, classes, image_size)\n",
    "            \n",
    "            if augment == True:\n",
    "                if random.random() < 0.5:\n",
    "                    img = geo_aug(image=img)\n",
    "                    mask = geo_aug(image=mask)            \n",
    "            \n",
    "            img_batch[i-c] = img\n",
    "            mask_batch[i-c] = mask\n",
    "\n",
    "        c += batch_size\n",
    "        if(c + batch_size >= len(os.listdir(path))):\n",
    "            c = 0\n",
    "            random.shuffle(n)\n",
    "\n",
    "        yield img_batch, mask_batch"
   ]
  },
  {
   "cell_type": "code",
   "execution_count": 9,
   "metadata": {
    "execution": {
     "iopub.execute_input": "2021-05-16T15:10:34.895232Z",
     "iopub.status.busy": "2021-05-16T15:10:34.894714Z",
     "iopub.status.idle": "2021-05-16T15:10:35.648545Z",
     "shell.execute_reply": "2021-05-16T15:10:35.649148Z"
    },
    "papermill": {
     "duration": 0.776056,
     "end_time": "2021-05-16T15:10:35.649336",
     "exception": false,
     "start_time": "2021-05-16T15:10:34.873280",
     "status": "completed"
    },
    "tags": []
   },
   "outputs": [
    {
     "name": "stdout",
     "output_type": "stream",
     "text": [
      "Number of training images: 24120\n",
      "Number of validation images: 1269\n",
      "Number of test images: 1269\n"
     ]
    }
   ],
   "source": [
    "# Get the generators from the paths\n",
    "train_gen = getGenerator(train_imgs_path, train_coco, train_classes, IMAGE_SIZE, BATCH_SIZE, True)\n",
    "\n",
    "train_length = len(os.listdir(train_imgs_path))\n",
    "print('Number of training images: {}'.format(train_length))\n",
    "\n",
    "val_gen = getGenerator(val_imgs_path, val_coco, val_classes, IMAGE_SIZE, BATCH_SIZE)\n",
    "\n",
    "val_length = len(os.listdir(val_imgs_path))\n",
    "print('Number of validation images: {}'.format(val_length))\n",
    "\n",
    "test_gen = getGenerator(test_imgs_path, test_coco, test_classes, IMAGE_SIZE, BATCH_SIZE)\n",
    "\n",
    "test_length = len(os.listdir(test_imgs_path))\n",
    "print('Number of test images: {}'.format(test_length))"
   ]
  },
  {
   "cell_type": "code",
   "execution_count": 10,
   "metadata": {
    "execution": {
     "iopub.execute_input": "2021-05-16T15:10:35.693358Z",
     "iopub.status.busy": "2021-05-16T15:10:35.692646Z",
     "iopub.status.idle": "2021-05-16T15:10:35.695393Z",
     "shell.execute_reply": "2021-05-16T15:10:35.694997Z"
    },
    "papermill": {
     "duration": 0.027389,
     "end_time": "2021-05-16T15:10:35.695504",
     "exception": false,
     "start_time": "2021-05-16T15:10:35.668115",
     "status": "completed"
    },
    "tags": []
   },
   "outputs": [],
   "source": [
    "def visualise(path, coco, classes, image_size, batch_size, augment=False):\n",
    "    temp_gen = getGenerator(path, coco, classes, image_size, batch_size, augment)\n",
    "    images, masks = next(temp_gen)\n",
    "    \n",
    "    for i in range(batch_size):\n",
    "        plt.figure(figsize=(6, 16))\n",
    "        \n",
    "        plt.subplot(1, 2, 1)\n",
    "        plt.title('Image')\n",
    "        plt.imshow(images[i])\n",
    "        plt.axis('off')\n",
    "        \n",
    "        plt.subplot(1, 2, 2)\n",
    "        plt.title('True Mask')\n",
    "        \n",
    "        true_mask = masks[i]\n",
    "        for c in range(274):\n",
    "            true_mask[:, :, c] = true_mask[:, :, c] * (c+1)\n",
    "            \n",
    "        plt.imshow(np.max(true_mask, axis=2))\n",
    "        plt.axis('off')\n",
    "        \n",
    "        plt.show()"
   ]
  },
  {
   "cell_type": "code",
   "execution_count": 11,
   "metadata": {
    "execution": {
     "iopub.execute_input": "2021-05-16T15:10:35.735196Z",
     "iopub.status.busy": "2021-05-16T15:10:35.734438Z",
     "iopub.status.idle": "2021-05-16T15:10:36.188431Z",
     "shell.execute_reply": "2021-05-16T15:10:36.187999Z"
    },
    "papermill": {
     "duration": 0.474978,
     "end_time": "2021-05-16T15:10:36.188558",
     "exception": false,
     "start_time": "2021-05-16T15:10:35.713580",
     "status": "completed"
    },
    "tags": []
   },
   "outputs": [
    {
     "name": "stderr",
     "output_type": "stream",
     "text": [
      "/opt/conda/lib/python3.7/site-packages/imgaug/augmenters/base.py:59: SuspiciousSingleImageShapeWarning: You provided a numpy array of shape (48, 48, 274) as a single-image augmentation input, which was interpreted as (H, W, C). The last dimension however has a size of >=32, which indicates that you provided a multi-image array with shape (N, H, W) instead. If that is the case, you should use e.g. augmenter(imageS=<your input>) or augment_imageS(<your input>). Otherwise your multi-image input will be interpreted as a single image during augmentation.\n",
      "  category=SuspiciousSingleImageShapeWarning)\n"
     ]
    },
    {
     "data": {
      "image/png": "[encoded data removed]",
      "text/plain": [
       "<Figure size 432x1152 with 2 Axes>"
      ]
     },
     "metadata": {
      "needs_background": "light"
     },
     "output_type": "display_data"
    },
    {
     "data": {
      "image/png": "[encoded data removed]",
      "text/plain": [
       "<Figure size 432x1152 with 2 Axes>"
      ]
     },
     "metadata": {
      "needs_background": "light"
     },
     "output_type": "display_data"
    },
    {
     "data": {
      "image/png": "[encoded data removed]",
      "text/plain": [
       "<Figure size 432x1152 with 2 Axes>"
      ]
     },
     "metadata": {
      "needs_background": "light"
     },
     "output_type": "display_data"
    }
   ],
   "source": [
    "# Visualise a few samples images with their backgrounds and objects\n",
    "visualise(train_imgs_path, train_coco, train_classes, IMAGE_SIZE, 3, True)"
   ]
  },
  {
   "cell_type": "code",
   "execution_count": 12,
   "metadata": {
    "_kg_hide-output": true,
    "execution": {
     "iopub.execute_input": "2021-05-16T15:10:36.243292Z",
     "iopub.status.busy": "2021-05-16T15:10:36.241578Z",
     "iopub.status.idle": "2021-05-16T15:10:47.971282Z",
     "shell.execute_reply": "2021-05-16T15:10:47.970820Z"
    },
    "papermill": {
     "duration": 11.762202,
     "end_time": "2021-05-16T15:10:47.971410",
     "exception": false,
     "start_time": "2021-05-16T15:10:36.209208",
     "status": "completed"
    },
    "tags": []
   },
   "outputs": [
    {
     "name": "stdout",
     "output_type": "stream",
     "text": [
      "Collecting segmentation_models\r\n",
      "  Downloading segmentation_models-1.0.1-py3-none-any.whl (33 kB)\r\n",
      "Collecting image-classifiers==1.0.0\r\n",
      "  Downloading image_classifiers-1.0.0-py3-none-any.whl (19 kB)\r\n",
      "Collecting keras-applications<=1.0.8,>=1.0.7\r\n",
      "  Downloading Keras_Applications-1.0.8-py3-none-any.whl (50 kB)\r\n",
      "\u001b[K     |████████████████████████████████| 50 kB 1.3 MB/s \r\n",
      "\u001b[?25hCollecting efficientnet==1.0.0\r\n",
      "  Downloading efficientnet-1.0.0-py3-none-any.whl (17 kB)\r\n",
      "Requirement already satisfied: scikit-image in /opt/conda/lib/python3.7/site-packages (from efficientnet==1.0.0->segmentation_models) (0.18.1)\r\n",
      "Requirement already satisfied: h5py in /opt/conda/lib/python3.7/site-packages (from keras-applications<=1.0.8,>=1.0.7->segmentation_models) (2.10.0)\r\n",
      "Requirement already satisfied: numpy>=1.9.1 in /opt/conda/lib/python3.7/site-packages (from keras-applications<=1.0.8,>=1.0.7->segmentation_models) (1.19.5)\r\n",
      "Requirement already satisfied: six in /opt/conda/lib/python3.7/site-packages (from h5py->keras-applications<=1.0.8,>=1.0.7->segmentation_models) (1.15.0)\r\n",
      "Requirement already satisfied: imageio>=2.3.0 in /opt/conda/lib/python3.7/site-packages (from scikit-image->efficientnet==1.0.0->segmentation_models) (2.9.0)\r\n",
      "Requirement already satisfied: PyWavelets>=1.1.1 in /opt/conda/lib/python3.7/site-packages (from scikit-image->efficientnet==1.0.0->segmentation_models) (1.1.1)\r\n",
      "Requirement already satisfied: networkx>=2.0 in /opt/conda/lib/python3.7/site-packages (from scikit-image->efficientnet==1.0.0->segmentation_models) (2.5)\r\n",
      "Requirement already satisfied: scipy>=1.0.1 in /opt/conda/lib/python3.7/site-packages (from scikit-image->efficientnet==1.0.0->segmentation_models) (1.5.4)\r\n",
      "Requirement already satisfied: matplotlib!=3.0.0,>=2.0.0 in /opt/conda/lib/python3.7/site-packages (from scikit-image->efficientnet==1.0.0->segmentation_models) (3.4.1)\r\n",
      "Requirement already satisfied: tifffile>=2019.7.26 in /opt/conda/lib/python3.7/site-packages (from scikit-image->efficientnet==1.0.0->segmentation_models) (2021.4.8)\r\n",
      "Requirement already satisfied: pillow!=7.1.0,!=7.1.1,>=4.3.0 in /opt/conda/lib/python3.7/site-packages (from scikit-image->efficientnet==1.0.0->segmentation_models) (7.2.0)\r\n",
      "Requirement already satisfied: pyparsing>=2.2.1 in /opt/conda/lib/python3.7/site-packages (from matplotlib!=3.0.0,>=2.0.0->scikit-image->efficientnet==1.0.0->segmentation_models) (2.4.7)\r\n",
      "Requirement already satisfied: kiwisolver>=1.0.1 in /opt/conda/lib/python3.7/site-packages (from matplotlib!=3.0.0,>=2.0.0->scikit-image->efficientnet==1.0.0->segmentation_models) (1.3.1)\r\n",
      "Requirement already satisfied: python-dateutil>=2.7 in /opt/conda/lib/python3.7/site-packages (from matplotlib!=3.0.0,>=2.0.0->scikit-image->efficientnet==1.0.0->segmentation_models) (2.8.1)\r\n",
      "Requirement already satisfied: cycler>=0.10 in /opt/conda/lib/python3.7/site-packages (from matplotlib!=3.0.0,>=2.0.0->scikit-image->efficientnet==1.0.0->segmentation_models) (0.10.0)\r\n",
      "Requirement already satisfied: decorator>=4.3.0 in /opt/conda/lib/python3.7/site-packages (from networkx>=2.0->scikit-image->efficientnet==1.0.0->segmentation_models) (4.4.2)\r\n",
      "Installing collected packages: keras-applications, image-classifiers, efficientnet, segmentation-models\r\n",
      "Successfully installed efficientnet-1.0.0 image-classifiers-1.0.0 keras-applications-1.0.8 segmentation-models-1.0.1\r\n",
      "env: SM_FRAMEWORK=tf.keras\n",
      "Segmentation Models: using `tf.keras` framework.\n"
     ]
    }
   ],
   "source": [
    "# Install and import the segmentation models library\n",
    "!pip install segmentation_models\n",
    "%env SM_FRAMEWORK=tf.keras\n",
    "import segmentation_models as sm"
   ]
  },
  {
   "cell_type": "code",
   "execution_count": 13,
   "metadata": {
    "execution": {
     "iopub.execute_input": "2021-05-16T15:10:48.026361Z",
     "iopub.status.busy": "2021-05-16T15:10:48.025773Z",
     "iopub.status.idle": "2021-05-16T15:11:00.229809Z",
     "shell.execute_reply": "2021-05-16T15:11:00.229317Z"
    },
    "papermill": {
     "duration": 12.233605,
     "end_time": "2021-05-16T15:11:00.229967",
     "exception": false,
     "start_time": "2021-05-16T15:10:47.996362",
     "status": "completed"
    },
    "tags": []
   },
   "outputs": [
    {
     "name": "stdout",
     "output_type": "stream",
     "text": [
      "Downloading data from https://github.com/Callidior/keras-applications/releases/download/efficientnet/efficientnet-b7_weights_tf_dim_ordering_tf_kernels_autoaugment_notop.h5\n",
      "258441216/258434480 [==============================] - 4s 0us/step\n"
     ]
    }
   ],
   "source": [
    "# Define the model to be trained\n",
    "model = sm.PSPNet('efficientnetb7', encoder_weights='imagenet', encoder_freeze=True, \n",
    "                  input_shape=(IMAGE_SIZE[0], IMAGE_SIZE[1], 3), downsample_factor=4, \n",
    "                  classes=274, activation='softmax')\n",
    "\n",
    "model.compile('Adam', loss=sm.losses.cce_dice_loss, \n",
    "              metrics=[sm.metrics.iou_score, sm.metrics.precision, sm.metrics.recall])"
   ]
  },
  {
   "cell_type": "code",
   "execution_count": 14,
   "metadata": {
    "execution": {
     "iopub.execute_input": "2021-05-16T15:11:00.347753Z",
     "iopub.status.busy": "2021-05-16T15:11:00.347102Z",
     "iopub.status.idle": "2021-05-16T15:11:00.877781Z",
     "shell.execute_reply": "2021-05-16T15:11:00.876719Z"
    },
    "papermill": {
     "duration": 0.601865,
     "end_time": "2021-05-16T15:11:00.877931",
     "exception": false,
     "start_time": "2021-05-16T15:11:00.276066",
     "status": "completed"
    },
    "tags": []
   },
   "outputs": [],
   "source": [
    "# Load the trained model weights\n",
    "weights_path = '../input/food-recognition-model/weights (EfficientNet).h5'\n",
    "model.load_weights(weights_path)"
   ]
  },
  {
   "cell_type": "code",
   "execution_count": 15,
   "metadata": {
    "_kg_hide-output": true,
    "execution": {
     "iopub.execute_input": "2021-05-16T15:11:00.976891Z",
     "iopub.status.busy": "2021-05-16T15:11:00.976230Z",
     "iopub.status.idle": "2021-05-16T15:57:41.735252Z",
     "shell.execute_reply": "2021-05-16T15:57:41.735700Z"
    },
    "papermill": {
     "duration": 2800.811561,
     "end_time": "2021-05-16T15:57:41.735887",
     "exception": false,
     "start_time": "2021-05-16T15:11:00.924326",
     "status": "completed"
    },
    "tags": []
   },
   "outputs": [
    {
     "name": "stderr",
     "output_type": "stream",
     "text": [
      "/opt/conda/lib/python3.7/site-packages/imgaug/augmenters/base.py:59: SuspiciousSingleImageShapeWarning: You provided a numpy array of shape (48, 48, 274) as a single-image augmentation input, which was interpreted as (H, W, C). The last dimension however has a size of >=32, which indicates that you provided a multi-image array with shape (N, H, W) instead. If that is the case, you should use e.g. augmenter(imageS=<your input>) or augment_imageS(<your input>). Otherwise your multi-image input will be interpreted as a single image during augmentation.\n",
      "  category=SuspiciousSingleImageShapeWarning)\n"
     ]
    },
    {
     "name": "stdout",
     "output_type": "stream",
     "text": [
      "Epoch 1/5\n",
      "80/80 [==============================] - 685s 9s/step - loss: 0.7224 - iou_score: 0.2603 - precision: 0.5365 - recall: 0.4577 - val_loss: 0.7367 - val_iou_score: 0.2539 - val_precision: 0.5215 - val_recall: 0.4488\n",
      "Epoch 2/5\n",
      "80/80 [==============================] - 522s 7s/step - loss: 0.7079 - iou_score: 0.2721 - precision: 0.5609 - recall: 0.4635 - val_loss: 0.7350 - val_iou_score: 0.2554 - val_precision: 0.5360 - val_recall: 0.4445\n",
      "Epoch 3/5\n",
      "80/80 [==============================] - 535s 7s/step - loss: 0.6968 - iou_score: 0.2815 - precision: 0.5697 - recall: 0.4709 - val_loss: 0.7471 - val_iou_score: 0.2454 - val_precision: 0.5444 - val_recall: 0.4195\n",
      "Epoch 4/5\n",
      "80/80 [==============================] - 527s 7s/step - loss: 0.6909 - iou_score: 0.2861 - precision: 0.5798 - recall: 0.4734 - val_loss: 0.7452 - val_iou_score: 0.2464 - val_precision: 0.5318 - val_recall: 0.4164\n",
      "Epoch 5/5\n",
      "80/80 [==============================] - 524s 7s/step - loss: 0.6822 - iou_score: 0.2937 - precision: 0.5860 - recall: 0.4834 - val_loss: 0.7302 - val_iou_score: 0.2592 - val_precision: 0.5435 - val_recall: 0.4331\n"
     ]
    }
   ],
   "source": [
    "# Train the defined model on the dataset\n",
    "history = model.fit(train_gen, steps_per_epoch=train_length//BATCH_SIZE, \n",
    "                    validation_data=val_gen, validation_steps=val_length//BATCH_SIZE, \n",
    "                    epochs=EPOCHS)"
   ]
  },
  {
   "cell_type": "code",
   "execution_count": 16,
   "metadata": {
    "execution": {
     "iopub.execute_input": "2021-05-16T15:57:42.057772Z",
     "iopub.status.busy": "2021-05-16T15:57:42.056884Z",
     "iopub.status.idle": "2021-05-16T15:57:42.335159Z",
     "shell.execute_reply": "2021-05-16T15:57:42.335592Z"
    },
    "papermill": {
     "duration": 0.451591,
     "end_time": "2021-05-16T15:57:42.335755",
     "exception": false,
     "start_time": "2021-05-16T15:57:41.884164",
     "status": "completed"
    },
    "tags": []
   },
   "outputs": [
    {
     "data": {
      "image/png": "[encoded data removed]",
      "text/plain": [
       "<Figure size 1440x432 with 2 Axes>"
      ]
     },
     "metadata": {
      "needs_background": "light"
     },
     "output_type": "display_data"
    }
   ],
   "source": [
    "# Plot the loss and iou score over the epochs\n",
    "plt.figure(figsize=(20, 6))\n",
    "plt.subplot(121)\n",
    "plt.plot(history.history['iou_score'])\n",
    "plt.plot(history.history['val_iou_score'])\n",
    "plt.title('Model IoU Score')\n",
    "plt.ylabel('IoU Score')\n",
    "plt.xlabel('Epoch')\n",
    "plt.legend(['Train', 'Test'], loc='upper left')\n",
    "\n",
    "# Plot training & validation loss values\n",
    "plt.subplot(122)\n",
    "plt.plot(history.history['loss'])\n",
    "plt.plot(history.history['val_loss'])\n",
    "plt.title('Model Loss')\n",
    "plt.ylabel('Loss')\n",
    "plt.xlabel('Epoch')\n",
    "plt.legend(['Train', 'Test'], loc='upper left')\n",
    "plt.show()"
   ]
  },
  {
   "cell_type": "code",
   "execution_count": 17,
   "metadata": {
    "execution": {
     "iopub.execute_input": "2021-05-16T15:57:42.645709Z",
     "iopub.status.busy": "2021-05-16T15:57:42.645180Z",
     "iopub.status.idle": "2021-05-16T15:57:42.855450Z",
     "shell.execute_reply": "2021-05-16T15:57:42.854749Z"
    },
    "papermill": {
     "duration": 0.370188,
     "end_time": "2021-05-16T15:57:42.855587",
     "exception": false,
     "start_time": "2021-05-16T15:57:42.485399",
     "status": "completed"
    },
    "tags": []
   },
   "outputs": [],
   "source": [
    "# Save the model to the output\n",
    "model.save_weights('weights.h5')"
   ]
  },
  {
   "cell_type": "code",
   "execution_count": 18,
   "metadata": {
    "execution": {
     "iopub.execute_input": "2021-05-16T15:57:43.164801Z",
     "iopub.status.busy": "2021-05-16T15:57:43.164218Z",
     "iopub.status.idle": "2021-05-16T15:58:21.878993Z",
     "shell.execute_reply": "2021-05-16T15:58:21.878114Z"
    },
    "papermill": {
     "duration": 38.873727,
     "end_time": "2021-05-16T15:58:21.879131",
     "exception": false,
     "start_time": "2021-05-16T15:57:43.005404",
     "status": "completed"
    },
    "tags": []
   },
   "outputs": [
    {
     "name": "stdout",
     "output_type": "stream",
     "text": [
      "4/4 [==============================] - 25s 8s/step - loss: 0.7304 - iou_score: 0.2588 - precision: 0.5458 - recall: 0.4343\n",
      "\n",
      "Loss: 0.73\n",
      "IoU: 0.259\n",
      "Precision: 0.546\n",
      "Recall: 0.434\n"
     ]
    }
   ],
   "source": [
    "# Evaluate the model on the test generator\n",
    "scores = model.evaluate(test_gen, steps=test_length//BATCH_SIZE)\n",
    "print('\\nLoss: {}'.format(round(scores[0], 3)))\n",
    "print('IoU: {}'.format(round(scores[1], 3)))\n",
    "print('Precision: {}'.format(round(scores[2], 3)))\n",
    "print('Recall: {}'.format(round(scores[3], 3)))"
   ]
  },
  {
   "cell_type": "code",
   "execution_count": 19,
   "metadata": {
    "execution": {
     "iopub.execute_input": "2021-05-16T15:58:22.199778Z",
     "iopub.status.busy": "2021-05-16T15:58:22.199091Z",
     "iopub.status.idle": "2021-05-16T15:58:22.202109Z",
     "shell.execute_reply": "2021-05-16T15:58:22.202485Z"
    },
    "papermill": {
     "duration": 0.167642,
     "end_time": "2021-05-16T15:58:22.202622",
     "exception": false,
     "start_time": "2021-05-16T15:58:22.034980",
     "status": "completed"
    },
    "tags": []
   },
   "outputs": [],
   "source": [
    "def predict(model, path, coco, classes, image_size, batch_size):\n",
    "    temp_gen = getGenerator(path, coco, classes, image_size, batch_size)\n",
    "    images, masks = next(temp_gen)\n",
    "    prediction = model.predict(images)\n",
    "    \n",
    "    for i in range(batch_size):\n",
    "        plt.figure(figsize=(10, 20))\n",
    "        \n",
    "        plt.subplot(1, 3, 1)\n",
    "        plt.title('Image')\n",
    "        plt.imshow(images[i])\n",
    "        plt.axis('off')\n",
    "        \n",
    "        plt.subplot(1, 3, 2)\n",
    "        plt.title('True Mask')\n",
    "        \n",
    "        true_mask = masks[i]\n",
    "        for c in range(274):\n",
    "            true_mask[:, :, c] = true_mask[:, :, c] * (c+1)\n",
    "            \n",
    "        plt.imshow(np.max(true_mask, axis=2))\n",
    "        plt.axis('off')\n",
    "        \n",
    "        pred_mask = np.round(prediction[i])\n",
    "        for c in range(274):\n",
    "            pred_mask[:, :, c] = pred_mask[:, :, c] * (c+1)\n",
    "            \n",
    "        plt.subplot(1, 3, 3)\n",
    "        plt.title('Predicted Mask')\n",
    "        plt.imshow(np.max(pred_mask, axis=2))\n",
    "        plt.axis('off')\n",
    "        \n",
    "        plt.show()"
   ]
  },
  {
   "cell_type": "code",
   "execution_count": 20,
   "metadata": {
    "execution": {
     "iopub.execute_input": "2021-05-16T15:58:22.523800Z",
     "iopub.status.busy": "2021-05-16T15:58:22.523215Z",
     "iopub.status.idle": "2021-05-16T15:58:24.173684Z",
     "shell.execute_reply": "2021-05-16T15:58:24.173264Z"
    },
    "papermill": {
     "duration": 1.820081,
     "end_time": "2021-05-16T15:58:24.173805",
     "exception": false,
     "start_time": "2021-05-16T15:58:22.353724",
     "status": "completed"
    },
    "tags": []
   },
   "outputs": [
    {
     "data": {
      "image/png": "[encoded data removed]",
      "text/plain": [
       "<Figure size 720x1440 with 3 Axes>"
      ]
     },
     "metadata": {
      "needs_background": "light"
     },
     "output_type": "display_data"
    },
    {
     "data": {
      "image/png": "[encoded data removed]",
      "text/plain": [
       "<Figure size 720x1440 with 3 Axes>"
      ]
     },
     "metadata": {
      "needs_background": "light"
     },
     "output_type": "display_data"
    },
    {
     "data": {
      "image/png": "[encoded data removed]",
      "text/plain": [
       "<Figure size 720x1440 with 3 Axes>"
      ]
     },
     "metadata": {
      "needs_background": "light"
     },
     "output_type": "display_data"
    }
   ],
   "source": [
    "# Visualise the predictions and the true masks\n",
    "predict(model, test_imgs_path, test_coco, test_classes, IMAGE_SIZE, 3)"
   ]
  }
 ],
 "metadata": {
  "kernelspec": {
   "display_name": "Python 3",
   "language": "python",
   "name": "python3"
  },
  "language_info": {
   "codemirror_mode": {
    "name": "ipython",
    "version": 3
   },
   "file_extension": ".py",
   "mimetype": "text/x-python",
   "name": "python",
   "nbconvert_exporter": "python",
   "pygments_lexer": "ipython3",
   "version": "3.8.5"
  },
  "papermill": {
   "default_parameters": {},
   "duration": 2900.528391,
   "end_time": "2021-05-16T15:58:27.573068",
   "environment_variables": {},
   "exception": null,
   "input_path": "__notebook__.ipynb",
   "output_path": "__notebook__.ipynb",
   "parameters": {},
   "start_time": "2021-05-16T15:10:07.044677",
   "version": "2.3.3"
  }
 },
 "nbformat": 4,
 "nbformat_minor": 5
}
