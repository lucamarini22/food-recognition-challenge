{
 "cells": [
  {
   "cell_type": "code",
   "execution_count": 1,
   "id": "cathedral-lemon",
   "metadata": {
    "_kg_hide-input": false,
    "_kg_hide-output": true,
    "execution": {
     "iopub.execute_input": "2021-05-16T12:26:52.299357Z",
     "iopub.status.busy": "2021-05-16T12:26:52.298760Z",
     "iopub.status.idle": "2021-05-16T12:27:06.456449Z",
     "shell.execute_reply": "2021-05-16T12:27:06.455855Z"
    },
    "papermill": {
     "duration": 14.186033,
     "end_time": "2021-05-16T12:27:06.456587",
     "exception": false,
     "start_time": "2021-05-16T12:26:52.270554",
     "status": "completed"
    },
    "tags": []
   },
   "outputs": [
    {
     "name": "stdout",
     "output_type": "stream",
     "text": [
      "Collecting pycocotools\r\n",
      "  Downloading pycocotools-2.0.2.tar.gz (23 kB)\r\n",
      "Requirement already satisfied: setuptools>=18.0 in /opt/conda/lib/python3.7/site-packages (from pycocotools) (49.6.0.post20210108)\r\n",
      "Requirement already satisfied: cython>=0.27.3 in /opt/conda/lib/python3.7/site-packages (from pycocotools) (0.29.23)\r\n",
      "Requirement already satisfied: matplotlib>=2.1.0 in /opt/conda/lib/python3.7/site-packages (from pycocotools) (3.4.1)\r\n",
      "Requirement already satisfied: pyparsing>=2.2.1 in /opt/conda/lib/python3.7/site-packages (from matplotlib>=2.1.0->pycocotools) (2.4.7)\r\n",
      "Requirement already satisfied: pillow>=6.2.0 in /opt/conda/lib/python3.7/site-packages (from matplotlib>=2.1.0->pycocotools) (7.2.0)\r\n",
      "Requirement already satisfied: cycler>=0.10 in /opt/conda/lib/python3.7/site-packages (from matplotlib>=2.1.0->pycocotools) (0.10.0)\r\n",
      "Requirement already satisfied: numpy>=1.16 in /opt/conda/lib/python3.7/site-packages (from matplotlib>=2.1.0->pycocotools) (1.19.5)\r\n",
      "Requirement already satisfied: python-dateutil>=2.7 in /opt/conda/lib/python3.7/site-packages (from matplotlib>=2.1.0->pycocotools) (2.8.1)\r\n",
      "Requirement already satisfied: kiwisolver>=1.0.1 in /opt/conda/lib/python3.7/site-packages (from matplotlib>=2.1.0->pycocotools) (1.3.1)\r\n",
      "Requirement already satisfied: six in /opt/conda/lib/python3.7/site-packages (from cycler>=0.10->matplotlib>=2.1.0->pycocotools) (1.15.0)\r\n",
      "Building wheels for collected packages: pycocotools\r\n",
      "  Building wheel for pycocotools (setup.py) ... \u001b[?25l-\b \b\\\b \b|\b \b/\b \b-\b \b\\\b \b|\b \b/\b \bdone\r\n",
      "\u001b[?25h  Created wheel for pycocotools: filename=pycocotools-2.0.2-cp37-cp37m-linux_x86_64.whl size=272446 sha256=a32929d374f58ddf5ec2251ed3f1a798176c0e1115c071c0355df411f6c2bf7f\r\n",
      "  Stored in directory: /root/.cache/pip/wheels/bc/cf/1b/e95c99c5f9d1648be3f500ca55e7ce55f24818b0f48336adaf\r\n",
      "Successfully built pycocotools\r\n",
      "Installing collected packages: pycocotools\r\n",
      "Successfully installed pycocotools-2.0.2\r\n"
     ]
    }
   ],
   "source": [
    "# Install the pycoco library\n",
    "!pip install pycocotools"
   ]
  },
  {
   "cell_type": "code",
   "execution_count": 2,
   "id": "fourth-prize",
   "metadata": {
    "execution": {
     "iopub.execute_input": "2021-05-16T12:27:06.499970Z",
     "iopub.status.busy": "2021-05-16T12:27:06.498851Z",
     "iopub.status.idle": "2021-05-16T12:27:08.200614Z",
     "shell.execute_reply": "2021-05-16T12:27:08.199783Z"
    },
    "papermill": {
     "duration": 1.724856,
     "end_time": "2021-05-16T12:27:08.200762",
     "exception": false,
     "start_time": "2021-05-16T12:27:06.475906",
     "status": "completed"
    },
    "tags": []
   },
   "outputs": [],
   "source": [
    "# Import the necessary libraries\n",
    "import numpy as np\n",
    "import pandas as pd\n",
    "import os\n",
    "import random\n",
    "import cv2\n",
    "from pycocotools.coco import COCO\n",
    "import matplotlib.pyplot as plt\n",
    "%matplotlib inline\n",
    "import imgaug.augmenters as iaa"
   ]
  },
  {
   "cell_type": "code",
   "execution_count": 3,
   "id": "express-banner",
   "metadata": {
    "execution": {
     "iopub.execute_input": "2021-05-16T12:27:08.241225Z",
     "iopub.status.busy": "2021-05-16T12:27:08.239847Z",
     "iopub.status.idle": "2021-05-16T12:27:08.242092Z",
     "shell.execute_reply": "2021-05-16T12:27:08.242490Z"
    },
    "papermill": {
     "duration": 0.023918,
     "end_time": "2021-05-16T12:27:08.242613",
     "exception": false,
     "start_time": "2021-05-16T12:27:08.218695",
     "status": "completed"
    },
    "tags": []
   },
   "outputs": [],
   "source": [
    "# Set important parameters\n",
    "IMAGE_SIZE = (48, 48)\n",
    "BATCH_SIZE = 300\n",
    "EPOCHS = 5"
   ]
  },
  {
   "cell_type": "code",
   "execution_count": 4,
   "id": "unlimited-ballot",
   "metadata": {
    "execution": {
     "iopub.execute_input": "2021-05-16T12:27:08.281824Z",
     "iopub.status.busy": "2021-05-16T12:27:08.281151Z",
     "iopub.status.idle": "2021-05-16T12:27:08.283925Z",
     "shell.execute_reply": "2021-05-16T12:27:08.283489Z"
    },
    "papermill": {
     "duration": 0.023811,
     "end_time": "2021-05-16T12:27:08.284030",
     "exception": false,
     "start_time": "2021-05-16T12:27:08.260219",
     "status": "completed"
    },
    "tags": []
   },
   "outputs": [],
   "source": [
    "# Define the image and annotation paths\n",
    "train_imgs_path = '../input/food-recognition-challenge/train-v0.4/train/images'\n",
    "train_anns_path = '../input/food-recognition-challenge/train-v0.4/train/annotations.json'\n",
    "\n",
    "val_imgs_path = '../input/food-recognition-challenge/val-v0.4/val/images'\n",
    "val_anns_path = '../input/food-recognition-challenge/val-v0.4/val/annotations.json'\n",
    "\n",
    "test_imgs_path = '../input/food-recognition-challenge/test_images-v0.4/val/images'\n",
    "test_anns_path = '../input/food-recognition-challenge/test_images-v0.4/val/annotations.json'"
   ]
  },
  {
   "cell_type": "code",
   "execution_count": 5,
   "id": "mysterious-repeat",
   "metadata": {
    "execution": {
     "iopub.execute_input": "2021-05-16T12:27:08.324640Z",
     "iopub.status.busy": "2021-05-16T12:27:08.324080Z",
     "iopub.status.idle": "2021-05-16T12:27:08.327469Z",
     "shell.execute_reply": "2021-05-16T12:27:08.327838Z"
    },
    "papermill": {
     "duration": 0.026218,
     "end_time": "2021-05-16T12:27:08.327958",
     "exception": false,
     "start_time": "2021-05-16T12:27:08.301740",
     "status": "completed"
    },
    "tags": []
   },
   "outputs": [],
   "source": [
    "# Function to load JSON into a COCO api\n",
    "def getCOCO(anns_path):\n",
    "    # Initialize the COCO api for instance annotations\n",
    "    coco = COCO(anns_path)\n",
    "    \n",
    "    # Load the categories in a variable\n",
    "    catIDs = coco.getCatIds()\n",
    "    cats = coco.loadCats(catIDs)\n",
    "    \n",
    "    # Print number of categories\n",
    "    nms = [cat['name'] for cat in cats]\n",
    "    \n",
    "    # Create a dataframe of the count of each category\n",
    "    df = pd.DataFrame(columns=['Category', 'ID', 'Count'])\n",
    "    \n",
    "    # Add each category and its count row by row\n",
    "    for i, catID in enumerate(catIDs):\n",
    "        imgIds = coco.getImgIds(catIds=catID)\n",
    "        df.loc[i] = [nms[i]] + [catID] + [len(imgIds)]\n",
    "    \n",
    "    return coco, df"
   ]
  },
  {
   "cell_type": "code",
   "execution_count": 6,
   "id": "marked-middle",
   "metadata": {
    "_kg_hide-output": true,
    "execution": {
     "iopub.execute_input": "2021-05-16T12:27:08.366518Z",
     "iopub.status.busy": "2021-05-16T12:27:08.366032Z",
     "iopub.status.idle": "2021-05-16T12:27:14.238296Z",
     "shell.execute_reply": "2021-05-16T12:27:14.237433Z"
    },
    "papermill": {
     "duration": 5.893086,
     "end_time": "2021-05-16T12:27:14.238429",
     "exception": false,
     "start_time": "2021-05-16T12:27:08.345343",
     "status": "completed"
    },
    "tags": []
   },
   "outputs": [
    {
     "name": "stdout",
     "output_type": "stream",
     "text": [
      "loading annotations into memory...\n",
      "Done (t=3.27s)\n",
      "creating index...\n",
      "index created!\n",
      "loading annotations into memory...\n",
      "Done (t=0.15s)\n",
      "creating index...\n",
      "index created!\n",
      "loading annotations into memory...\n",
      "Done (t=0.14s)\n",
      "creating index...\n",
      "index created!\n"
     ]
    }
   ],
   "source": [
    "# Load the annotations of the image dataset\n",
    "train_coco, train_classes = getCOCO(train_anns_path)\n",
    "val_coco, val_classes = getCOCO(val_anns_path)\n",
    "test_coco, test_classes = getCOCO(test_anns_path)"
   ]
  },
  {
   "cell_type": "code",
   "execution_count": 7,
   "id": "damaged-cassette",
   "metadata": {
    "execution": {
     "iopub.execute_input": "2021-05-16T12:27:14.282999Z",
     "iopub.status.busy": "2021-05-16T12:27:14.282455Z",
     "iopub.status.idle": "2021-05-16T12:27:14.286247Z",
     "shell.execute_reply": "2021-05-16T12:27:14.285848Z"
    },
    "papermill": {
     "duration": 0.028992,
     "end_time": "2021-05-16T12:27:14.286355",
     "exception": false,
     "start_time": "2021-05-16T12:27:14.257363",
     "status": "completed"
    },
    "tags": []
   },
   "outputs": [],
   "source": [
    "def getMask(image_id, coco, classes, image_size):\n",
    "    # Create a zero array with the given size and number of classes\n",
    "    mask = np.zeros((image_size[0], image_size[1], 274))\n",
    "\n",
    "    annIds = coco.getAnnIds(int(image_id))\n",
    "    anns = coco.loadAnns(annIds)\n",
    "\n",
    "    for i, ann in enumerate(anns):\n",
    "        # Get the binary mask for the annotation\n",
    "        binary = cv2.resize(coco.annToMask(ann), image_size)\n",
    "\n",
    "        # Get the channel index for the annotation\n",
    "        channel = classes[classes.ID == ann['category_id']].index[0] + 1\n",
    "\n",
    "        # Update the channel of the annotation\n",
    "        mask[:, :, channel] = binary\n",
    "\n",
    "        # Update the background channel of the annotation\n",
    "        if i == 0:\n",
    "            mask[:, :, 0] = np.logical_or(mask[:, :, 0], np.logical_not(binary))\n",
    "        else:\n",
    "            mask[:, :, 0] = np.logical_and(mask[:, :, 0], np.logical_not(binary))\n",
    "\n",
    "    return mask"
   ]
  },
  {
   "cell_type": "code",
   "execution_count": 8,
   "id": "surprising-immigration",
   "metadata": {
    "execution": {
     "iopub.execute_input": "2021-05-16T12:27:14.334594Z",
     "iopub.status.busy": "2021-05-16T12:27:14.333324Z",
     "iopub.status.idle": "2021-05-16T12:27:14.335594Z",
     "shell.execute_reply": "2021-05-16T12:27:14.336003Z"
    },
    "papermill": {
     "duration": 0.031077,
     "end_time": "2021-05-16T12:27:14.336128",
     "exception": false,
     "start_time": "2021-05-16T12:27:14.305051",
     "status": "completed"
    },
    "tags": []
   },
   "outputs": [],
   "source": [
    "def getGenerator(path, coco, classes, image_size, batch_size, augment=False):\n",
    "    c = 0\n",
    "    n = os.listdir(path)\n",
    "    random.shuffle(n)\n",
    "    \n",
    "    geo_aug = iaa.Fliplr(1.0)\n",
    "    \n",
    "    while (True):\n",
    "        img_batch = np.zeros((batch_size, image_size[0], image_size[1], 3)).astype('int')\n",
    "        mask_batch = np.zeros((batch_size, image_size[0], image_size[1], 274)).astype('float')\n",
    "\n",
    "        for i in range(c, c + batch_size):\n",
    "            img = cv2.imread(path + '/' + n[i])\n",
    "            img =  cv2.resize(img, image_size)\n",
    "            img = cv2.cvtColor(img, cv2.COLOR_BGR2RGB)\n",
    "            \n",
    "            mask = getMask(n[i][1:-4], coco, classes, image_size)\n",
    "            \n",
    "            if augment == True:\n",
    "                if random.randrange(10) % 2 == 0:\n",
    "                    img = geo_aug(image=img)\n",
    "                    mask = geo_aug(image=mask)            \n",
    "            \n",
    "            img_batch[i-c] = img\n",
    "            mask_batch[i-c] = mask\n",
    "\n",
    "        c += batch_size\n",
    "        if(c + batch_size >= len(os.listdir(path))):\n",
    "            c = 0\n",
    "            random.shuffle(n)\n",
    "\n",
    "        yield img_batch, mask_batch"
   ]
  },
  {
   "cell_type": "code",
   "execution_count": 9,
   "id": "cloudy-kingston",
   "metadata": {
    "execution": {
     "iopub.execute_input": "2021-05-16T12:27:14.378287Z",
     "iopub.status.busy": "2021-05-16T12:27:14.377637Z",
     "iopub.status.idle": "2021-05-16T12:27:15.155394Z",
     "shell.execute_reply": "2021-05-16T12:27:15.154766Z"
    },
    "papermill": {
     "duration": 0.800883,
     "end_time": "2021-05-16T12:27:15.155549",
     "exception": false,
     "start_time": "2021-05-16T12:27:14.354666",
     "status": "completed"
    },
    "tags": []
   },
   "outputs": [
    {
     "name": "stdout",
     "output_type": "stream",
     "text": [
      "Number of training images: 24120\n",
      "Number of validation images: 1269\n",
      "Number of test images: 1269\n"
     ]
    }
   ],
   "source": [
    "# Get the generators from the paths\n",
    "train_gen = getGenerator(train_imgs_path, train_coco, train_classes, IMAGE_SIZE, BATCH_SIZE, True)\n",
    "\n",
    "train_length = len(os.listdir(train_imgs_path))\n",
    "print('Number of training images: {}'.format(train_length))\n",
    "\n",
    "val_gen = getGenerator(val_imgs_path, val_coco, val_classes, IMAGE_SIZE, BATCH_SIZE)\n",
    "\n",
    "val_length = len(os.listdir(val_imgs_path))\n",
    "print('Number of validation images: {}'.format(val_length))\n",
    "\n",
    "test_gen = getGenerator(test_imgs_path, test_coco, test_classes, IMAGE_SIZE, BATCH_SIZE)\n",
    "\n",
    "test_length = len(os.listdir(test_imgs_path))\n",
    "print('Number of test images: {}'.format(test_length))"
   ]
  },
  {
   "cell_type": "code",
   "execution_count": 10,
   "id": "quantitative-truck",
   "metadata": {
    "execution": {
     "iopub.execute_input": "2021-05-16T12:27:15.201467Z",
     "iopub.status.busy": "2021-05-16T12:27:15.200963Z",
     "iopub.status.idle": "2021-05-16T12:27:15.204192Z",
     "shell.execute_reply": "2021-05-16T12:27:15.204583Z"
    },
    "papermill": {
     "duration": 0.029148,
     "end_time": "2021-05-16T12:27:15.204700",
     "exception": false,
     "start_time": "2021-05-16T12:27:15.175552",
     "status": "completed"
    },
    "tags": []
   },
   "outputs": [],
   "source": [
    "def visualise(path, coco, classes, image_size, batch_size, augment=False):\n",
    "    temp_gen = getGenerator(path, coco, classes, image_size, batch_size, augment)\n",
    "    images, masks = next(temp_gen)\n",
    "    \n",
    "    for i in range(batch_size):\n",
    "        plt.figure(figsize=(6, 16))\n",
    "        \n",
    "        plt.subplot(1, 2, 1)\n",
    "        plt.title('Image')\n",
    "        plt.imshow(images[i])\n",
    "        plt.axis('off')\n",
    "        \n",
    "        plt.subplot(1, 2, 2)\n",
    "        plt.title('True Mask')\n",
    "        \n",
    "        true_mask = masks[i]\n",
    "        for c in range(274):\n",
    "            true_mask[:, :, c] = true_mask[:, :, c] * (c+1)\n",
    "            \n",
    "        plt.imshow(np.max(true_mask, axis=2))\n",
    "        plt.axis('off')\n",
    "        \n",
    "        plt.show()"
   ]
  },
  {
   "cell_type": "code",
   "execution_count": 11,
   "id": "lesbian-genealogy",
   "metadata": {
    "execution": {
     "iopub.execute_input": "2021-05-16T12:27:15.246518Z",
     "iopub.status.busy": "2021-05-16T12:27:15.245780Z",
     "iopub.status.idle": "2021-05-16T12:27:15.679325Z",
     "shell.execute_reply": "2021-05-16T12:27:15.678882Z"
    },
    "papermill": {
     "duration": 0.455413,
     "end_time": "2021-05-16T12:27:15.679450",
     "exception": false,
     "start_time": "2021-05-16T12:27:15.224037",
     "status": "completed"
    },
    "tags": []
   },
   "outputs": [
    {
     "name": "stderr",
     "output_type": "stream",
     "text": [
      "/opt/conda/lib/python3.7/site-packages/imgaug/augmenters/base.py:59: SuspiciousSingleImageShapeWarning: You provided a numpy array of shape (48, 48, 274) as a single-image augmentation input, which was interpreted as (H, W, C). The last dimension however has a size of >=32, which indicates that you provided a multi-image array with shape (N, H, W) instead. If that is the case, you should use e.g. augmenter(imageS=<your input>) or augment_imageS(<your input>). Otherwise your multi-image input will be interpreted as a single image during augmentation.\n",
      "  category=SuspiciousSingleImageShapeWarning)\n"
     ]
    },
    {
     "data": {
      "image/png": "[encoded data removed]",
      "text/plain": [
       "<Figure size 432x1152 with 2 Axes>"
      ]
     },
     "metadata": {
      "needs_background": "light"
     },
     "output_type": "display_data"
    },
    {
     "data": {
      "image/png": "[encoded data removed]",
      "text/plain": [
       "<Figure size 432x1152 with 2 Axes>"
      ]
     },
     "metadata": {
      "needs_background": "light"
     },
     "output_type": "display_data"
    },
    {
     "data": {
      "image/png": "[encoded data removed]",
      "text/plain": [
       "<Figure size 432x1152 with 2 Axes>"
      ]
     },
     "metadata": {
      "needs_background": "light"
     },
     "output_type": "display_data"
    }
   ],
   "source": [
    "# Visualise a few samples images with their backgrounds and objects\n",
    "visualise(train_imgs_path, train_coco, train_classes, IMAGE_SIZE, 3, True)"
   ]
  },
  {
   "cell_type": "code",
   "execution_count": 12,
   "id": "parliamentary-planet",
   "metadata": {
    "_kg_hide-output": true,
    "execution": {
     "iopub.execute_input": "2021-05-16T12:27:15.730091Z",
     "iopub.status.busy": "2021-05-16T12:27:15.729432Z",
     "iopub.status.idle": "2021-05-16T12:27:27.108715Z",
     "shell.execute_reply": "2021-05-16T12:27:27.108126Z"
    },
    "papermill": {
     "duration": 11.407488,
     "end_time": "2021-05-16T12:27:27.108881",
     "exception": false,
     "start_time": "2021-05-16T12:27:15.701393",
     "status": "completed"
    },
    "tags": []
   },
   "outputs": [
    {
     "name": "stdout",
     "output_type": "stream",
     "text": [
      "Collecting segmentation_models\r\n",
      "  Downloading segmentation_models-1.0.1-py3-none-any.whl (33 kB)\r\n",
      "Collecting image-classifiers==1.0.0\r\n",
      "  Downloading image_classifiers-1.0.0-py3-none-any.whl (19 kB)\r\n",
      "Collecting keras-applications<=1.0.8,>=1.0.7\r\n",
      "  Downloading Keras_Applications-1.0.8-py3-none-any.whl (50 kB)\r\n",
      "\u001b[K     |████████████████████████████████| 50 kB 1.7 MB/s \r\n",
      "\u001b[?25hCollecting efficientnet==1.0.0\r\n",
      "  Downloading efficientnet-1.0.0-py3-none-any.whl (17 kB)\r\n",
      "Requirement already satisfied: scikit-image in /opt/conda/lib/python3.7/site-packages (from efficientnet==1.0.0->segmentation_models) (0.18.1)\r\n",
      "Requirement already satisfied: numpy>=1.9.1 in /opt/conda/lib/python3.7/site-packages (from keras-applications<=1.0.8,>=1.0.7->segmentation_models) (1.19.5)\r\n",
      "Requirement already satisfied: h5py in /opt/conda/lib/python3.7/site-packages (from keras-applications<=1.0.8,>=1.0.7->segmentation_models) (2.10.0)\r\n",
      "Requirement already satisfied: six in /opt/conda/lib/python3.7/site-packages (from h5py->keras-applications<=1.0.8,>=1.0.7->segmentation_models) (1.15.0)\r\n",
      "Requirement already satisfied: tifffile>=2019.7.26 in /opt/conda/lib/python3.7/site-packages (from scikit-image->efficientnet==1.0.0->segmentation_models) (2021.4.8)\r\n",
      "Requirement already satisfied: matplotlib!=3.0.0,>=2.0.0 in /opt/conda/lib/python3.7/site-packages (from scikit-image->efficientnet==1.0.0->segmentation_models) (3.4.1)\r\n",
      "Requirement already satisfied: imageio>=2.3.0 in /opt/conda/lib/python3.7/site-packages (from scikit-image->efficientnet==1.0.0->segmentation_models) (2.9.0)\r\n",
      "Requirement already satisfied: scipy>=1.0.1 in /opt/conda/lib/python3.7/site-packages (from scikit-image->efficientnet==1.0.0->segmentation_models) (1.5.4)\r\n",
      "Requirement already satisfied: pillow!=7.1.0,!=7.1.1,>=4.3.0 in /opt/conda/lib/python3.7/site-packages (from scikit-image->efficientnet==1.0.0->segmentation_models) (7.2.0)\r\n",
      "Requirement already satisfied: PyWavelets>=1.1.1 in /opt/conda/lib/python3.7/site-packages (from scikit-image->efficientnet==1.0.0->segmentation_models) (1.1.1)\r\n",
      "Requirement already satisfied: networkx>=2.0 in /opt/conda/lib/python3.7/site-packages (from scikit-image->efficientnet==1.0.0->segmentation_models) (2.5)\r\n",
      "Requirement already satisfied: cycler>=0.10 in /opt/conda/lib/python3.7/site-packages (from matplotlib!=3.0.0,>=2.0.0->scikit-image->efficientnet==1.0.0->segmentation_models) (0.10.0)\r\n",
      "Requirement already satisfied: kiwisolver>=1.0.1 in /opt/conda/lib/python3.7/site-packages (from matplotlib!=3.0.0,>=2.0.0->scikit-image->efficientnet==1.0.0->segmentation_models) (1.3.1)\r\n",
      "Requirement already satisfied: pyparsing>=2.2.1 in /opt/conda/lib/python3.7/site-packages (from matplotlib!=3.0.0,>=2.0.0->scikit-image->efficientnet==1.0.0->segmentation_models) (2.4.7)\r\n",
      "Requirement already satisfied: python-dateutil>=2.7 in /opt/conda/lib/python3.7/site-packages (from matplotlib!=3.0.0,>=2.0.0->scikit-image->efficientnet==1.0.0->segmentation_models) (2.8.1)\r\n",
      "Requirement already satisfied: decorator>=4.3.0 in /opt/conda/lib/python3.7/site-packages (from networkx>=2.0->scikit-image->efficientnet==1.0.0->segmentation_models) (4.4.2)\r\n",
      "Installing collected packages: keras-applications, image-classifiers, efficientnet, segmentation-models\r\n",
      "Successfully installed efficientnet-1.0.0 image-classifiers-1.0.0 keras-applications-1.0.8 segmentation-models-1.0.1\r\n",
      "env: SM_FRAMEWORK=tf.keras\n",
      "Segmentation Models: using `tf.keras` framework.\n"
     ]
    }
   ],
   "source": [
    "# Install and import the segmentation models library\n",
    "!pip install segmentation_models\n",
    "%env SM_FRAMEWORK=tf.keras\n",
    "import segmentation_models as sm"
   ]
  },
  {
   "cell_type": "code",
   "execution_count": 13,
   "id": "monthly-territory",
   "metadata": {
    "execution": {
     "iopub.execute_input": "2021-05-16T12:27:27.166558Z",
     "iopub.status.busy": "2021-05-16T12:27:27.166073Z",
     "iopub.status.idle": "2021-05-16T12:27:37.850090Z",
     "shell.execute_reply": "2021-05-16T12:27:37.849234Z"
    },
    "papermill": {
     "duration": 10.714924,
     "end_time": "2021-05-16T12:27:37.850233",
     "exception": false,
     "start_time": "2021-05-16T12:27:27.135309",
     "status": "completed"
    },
    "tags": []
   },
   "outputs": [
    {
     "name": "stdout",
     "output_type": "stream",
     "text": [
      "Downloading data from https://github.com/qubvel/classification_models/releases/download/0.0.1/resnet152_imagenet_1000_no_top.h5\n",
      "234332160/234326024 [==============================] - 4s 0us/step\n"
     ]
    }
   ],
   "source": [
    "# Define the model to be trained\n",
    "model = sm.PSPNet('resnet152', encoder_weights='imagenet', encoder_freeze=True, \n",
    "                  input_shape=(IMAGE_SIZE[0], IMAGE_SIZE[1], 3), downsample_factor=4, \n",
    "                  classes=274, activation='softmax')\n",
    "\n",
    "model.compile('Adam', loss=sm.losses.cce_dice_loss, \n",
    "              metrics=[sm.metrics.IOUScore(), sm.metrics.Precision(), sm.metrics.Recall()])"
   ]
  },
  {
   "cell_type": "code",
   "execution_count": 14,
   "id": "athletic-massachusetts",
   "metadata": {
    "execution": {
     "iopub.execute_input": "2021-05-16T12:27:38.041712Z",
     "iopub.status.busy": "2021-05-16T12:27:38.004663Z",
     "iopub.status.idle": "2021-05-16T12:27:38.510702Z",
     "shell.execute_reply": "2021-05-16T12:27:38.509952Z"
    },
    "papermill": {
     "duration": 0.615468,
     "end_time": "2021-05-16T12:27:38.510857",
     "exception": false,
     "start_time": "2021-05-16T12:27:37.895389",
     "status": "completed"
    },
    "tags": []
   },
   "outputs": [],
   "source": [
    "# Load the trained model weights\n",
    "weights_path = '../input/food-recognition-model/weights.h5'\n",
    "model.load_weights(weights_path)"
   ]
  },
  {
   "cell_type": "code",
   "execution_count": 15,
   "id": "above-softball",
   "metadata": {
    "_kg_hide-output": true,
    "execution": {
     "iopub.execute_input": "2021-05-16T12:27:38.603918Z",
     "iopub.status.busy": "2021-05-16T12:27:38.603402Z",
     "iopub.status.idle": "2021-05-16T13:05:54.417597Z",
     "shell.execute_reply": "2021-05-16T13:05:54.418601Z"
    },
    "papermill": {
     "duration": 2295.863726,
     "end_time": "2021-05-16T13:05:54.418837",
     "exception": false,
     "start_time": "2021-05-16T12:27:38.555111",
     "status": "completed"
    },
    "tags": []
   },
   "outputs": [
    {
     "name": "stderr",
     "output_type": "stream",
     "text": [
      "/opt/conda/lib/python3.7/site-packages/imgaug/augmenters/base.py:59: SuspiciousSingleImageShapeWarning: You provided a numpy array of shape (48, 48, 274) as a single-image augmentation input, which was interpreted as (H, W, C). The last dimension however has a size of >=32, which indicates that you provided a multi-image array with shape (N, H, W) instead. If that is the case, you should use e.g. augmenter(imageS=<your input>) or augment_imageS(<your input>). Otherwise your multi-image input will be interpreted as a single image during augmentation.\n",
      "  category=SuspiciousSingleImageShapeWarning)\n"
     ]
    },
    {
     "name": "stdout",
     "output_type": "stream",
     "text": [
      "Epoch 1/5\n",
      "80/80 [==============================] - 561s 7s/step - loss: 0.7218 - iou_score: 0.2538 - precision: 0.4973 - recall: 0.4840 - val_loss: 0.7927 - val_iou_score: 0.2047 - val_precision: 0.4427 - val_recall: 0.4191\n",
      "Epoch 2/5\n",
      "80/80 [==============================] - 432s 5s/step - loss: 0.7083 - iou_score: 0.2645 - precision: 0.5121 - recall: 0.4874 - val_loss: 0.7964 - val_iou_score: 0.2007 - val_precision: 0.4610 - val_recall: 0.4030\n",
      "Epoch 3/5\n",
      "80/80 [==============================] - 446s 6s/step - loss: 0.6972 - iou_score: 0.2758 - precision: 0.5197 - recall: 0.4993 - val_loss: 0.8123 - val_iou_score: 0.1858 - val_precision: 0.4464 - val_recall: 0.4022\n",
      "Epoch 4/5\n",
      "80/80 [==============================] - 428s 5s/step - loss: 0.6930 - iou_score: 0.2791 - precision: 0.5230 - recall: 0.5031 - val_loss: 0.7874 - val_iou_score: 0.2068 - val_precision: 0.4578 - val_recall: 0.4178\n",
      "Epoch 5/5\n",
      "80/80 [==============================] - 423s 5s/step - loss: 0.6861 - iou_score: 0.2844 - precision: 0.5337 - recall: 0.5044 - val_loss: 0.7901 - val_iou_score: 0.2059 - val_precision: 0.4560 - val_recall: 0.4113\n"
     ]
    }
   ],
   "source": [
    "# Train the defined model on the dataset\n",
    "history = model.fit(train_gen, steps_per_epoch=train_length//BATCH_SIZE, \n",
    "                    validation_data=val_gen, validation_steps=val_length//BATCH_SIZE, \n",
    "                    epochs=EPOCHS)"
   ]
  },
  {
   "cell_type": "code",
   "execution_count": 16,
   "id": "written-medication",
   "metadata": {
    "execution": {
     "iopub.execute_input": "2021-05-16T13:05:54.736270Z",
     "iopub.status.busy": "2021-05-16T13:05:54.730074Z",
     "iopub.status.idle": "2021-05-16T13:05:54.993347Z",
     "shell.execute_reply": "2021-05-16T13:05:54.992932Z"
    },
    "papermill": {
     "duration": 0.427365,
     "end_time": "2021-05-16T13:05:54.993464",
     "exception": false,
     "start_time": "2021-05-16T13:05:54.566099",
     "status": "completed"
    },
    "tags": []
   },
   "outputs": [
    {
     "data": {
      "image/png": "[encoded data removed]",
      "text/plain": [
       "<Figure size 1440x432 with 2 Axes>"
      ]
     },
     "metadata": {
      "needs_background": "light"
     },
     "output_type": "display_data"
    }
   ],
   "source": [
    "# Plot the loss and iou score over the epochs\n",
    "plt.figure(figsize=(20, 6))\n",
    "plt.subplot(121)\n",
    "plt.plot(history.history['iou_score'])\n",
    "plt.plot(history.history['val_iou_score'])\n",
    "plt.title('Model IoU Score')\n",
    "plt.ylabel('IoU Score')\n",
    "plt.xlabel('Epoch')\n",
    "plt.legend(['Train', 'Test'], loc='upper left')\n",
    "\n",
    "# Plot training & validation loss values\n",
    "plt.subplot(122)\n",
    "plt.plot(history.history['loss'])\n",
    "plt.plot(history.history['val_loss'])\n",
    "plt.title('Model Loss')\n",
    "plt.ylabel('Loss')\n",
    "plt.xlabel('Epoch')\n",
    "plt.legend(['Train', 'Test'], loc='upper left')\n",
    "plt.show()"
   ]
  },
  {
   "cell_type": "code",
   "execution_count": 17,
   "id": "weird-disposal",
   "metadata": {
    "execution": {
     "iopub.execute_input": "2021-05-16T13:05:55.302604Z",
     "iopub.status.busy": "2021-05-16T13:05:55.301822Z",
     "iopub.status.idle": "2021-05-16T13:05:55.387930Z",
     "shell.execute_reply": "2021-05-16T13:05:55.387452Z"
    },
    "papermill": {
     "duration": 0.244495,
     "end_time": "2021-05-16T13:05:55.388065",
     "exception": false,
     "start_time": "2021-05-16T13:05:55.143570",
     "status": "completed"
    },
    "tags": []
   },
   "outputs": [],
   "source": [
    "# Save the model to the output\n",
    "model.save_weights('weights.h5')"
   ]
  },
  {
   "cell_type": "code",
   "execution_count": 18,
   "id": "introductory-spouse",
   "metadata": {
    "execution": {
     "iopub.execute_input": "2021-05-16T13:05:55.690823Z",
     "iopub.status.busy": "2021-05-16T13:05:55.690191Z",
     "iopub.status.idle": "2021-05-16T13:06:30.331131Z",
     "shell.execute_reply": "2021-05-16T13:06:30.331735Z"
    },
    "papermill": {
     "duration": 34.796148,
     "end_time": "2021-05-16T13:06:30.332173",
     "exception": false,
     "start_time": "2021-05-16T13:05:55.536025",
     "status": "completed"
    },
    "tags": []
   },
   "outputs": [
    {
     "name": "stdout",
     "output_type": "stream",
     "text": [
      "4/4 [==============================] - 23s 7s/step - loss: 0.7918 - iou_score: 0.2037 - precision: 0.4492 - recall: 0.4179\n",
      "\n",
      "Loss: 0.792\n",
      "Average IoU: 0.204\n",
      "Average Precision: 0.449\n",
      "Average Recall: 0.418\n"
     ]
    }
   ],
   "source": [
    "# Evaluate the model on the test generator\n",
    "scores = model.evaluate(test_gen, steps=test_length//BATCH_SIZE)\n",
    "print('\\nLoss: {}'.format(round(scores[0], 3)))\n",
    "print('Average IoU: {}'.format(round(scores[1], 3)))\n",
    "print('Average Precision: {}'.format(round(scores[2], 3)))\n",
    "print('Average Recall: {}'.format(round(scores[3], 3)))"
   ]
  },
  {
   "cell_type": "code",
   "execution_count": 19,
   "id": "monetary-standing",
   "metadata": {
    "execution": {
     "iopub.execute_input": "2021-05-16T13:06:30.643723Z",
     "iopub.status.busy": "2021-05-16T13:06:30.642316Z",
     "iopub.status.idle": "2021-05-16T13:06:30.644592Z",
     "shell.execute_reply": "2021-05-16T13:06:30.645001Z"
    },
    "papermill": {
     "duration": 0.161844,
     "end_time": "2021-05-16T13:06:30.645132",
     "exception": false,
     "start_time": "2021-05-16T13:06:30.483288",
     "status": "completed"
    },
    "tags": []
   },
   "outputs": [],
   "source": [
    "def predict(model, path, coco, classes, image_size, batch_size):\n",
    "    temp_gen = getGenerator(path, coco, classes, image_size, batch_size)\n",
    "    images, masks = next(temp_gen)\n",
    "    prediction = model.predict(images)\n",
    "    \n",
    "    for i in range(batch_size):\n",
    "        plt.figure(figsize=(10, 20))\n",
    "        \n",
    "        plt.subplot(1, 3, 1)\n",
    "        plt.title('Image')\n",
    "        plt.imshow(images[i])\n",
    "        plt.axis('off')\n",
    "        \n",
    "        plt.subplot(1, 3, 2)\n",
    "        plt.title('True Mask')\n",
    "        \n",
    "        true_mask = masks[i]\n",
    "        for c in range(274):\n",
    "            true_mask[:, :, c] = true_mask[:, :, c] * (c+1)\n",
    "            \n",
    "        plt.imshow(np.max(true_mask, axis=2))\n",
    "        plt.axis('off')\n",
    "        \n",
    "        pred_mask = np.round(prediction[i])\n",
    "        for c in range(274):\n",
    "            pred_mask[:, :, c] = pred_mask[:, :, c] * (c+1)\n",
    "            \n",
    "        plt.subplot(1, 3, 3)\n",
    "        plt.title('Predicted Mask')\n",
    "        plt.imshow(np.max(pred_mask, axis=2))\n",
    "        plt.axis('off')\n",
    "        \n",
    "        plt.show()"
   ]
  },
  {
   "cell_type": "code",
   "execution_count": 20,
   "id": "adjacent-sponsorship",
   "metadata": {
    "execution": {
     "iopub.execute_input": "2021-05-16T13:06:31.143189Z",
     "iopub.status.busy": "2021-05-16T13:06:31.142381Z",
     "iopub.status.idle": "2021-05-16T13:06:32.251656Z",
     "shell.execute_reply": "2021-05-16T13:06:32.252105Z"
    },
    "papermill": {
     "duration": 1.404646,
     "end_time": "2021-05-16T13:06:32.252254",
     "exception": false,
     "start_time": "2021-05-16T13:06:30.847608",
     "status": "completed"
    },
    "tags": []
   },
   "outputs": [
    {
     "data": {
      "image/png": "[encoded data removed]",
      "text/plain": [
       "<Figure size 720x1440 with 3 Axes>"
      ]
     },
     "metadata": {
      "needs_background": "light"
     },
     "output_type": "display_data"
    },
    {
     "data": {
      "image/png": "[encoded data removed]",
      "text/plain": [
       "<Figure size 720x1440 with 3 Axes>"
      ]
     },
     "metadata": {
      "needs_background": "light"
     },
     "output_type": "display_data"
    },
    {
     "data": {
      "image/png": "[encoded data removed]",
      "text/plain": [
       "<Figure size 720x1440 with 3 Axes>"
      ]
     },
     "metadata": {
      "needs_background": "light"
     },
     "output_type": "display_data"
    }
   ],
   "source": [
    "# Visualise the predictions and the true masks\n",
    "predict(model, test_imgs_path, test_coco, test_classes, IMAGE_SIZE, 3)"
   ]
  }
 ],
 "metadata": {
  "kernelspec": {
   "display_name": "Python 3",
   "language": "python",
   "name": "python3"
  },
  "language_info": {
   "codemirror_mode": {
    "name": "ipython",
    "version": 3
   },
   "file_extension": ".py",
   "mimetype": "text/x-python",
   "name": "python",
   "nbconvert_exporter": "python",
   "pygments_lexer": "ipython3",
   "version": "3.7.10"
  },
  "papermill": {
   "default_parameters": {},
   "duration": 2390.409313,
   "end_time": "2021-05-16T13:06:36.023293",
   "environment_variables": {},
   "exception": null,
   "input_path": "__notebook__.ipynb",
   "output_path": "__notebook__.ipynb",
   "parameters": {},
   "start_time": "2021-05-16T12:26:45.613980",
   "version": "2.3.3"
  }
 },
 "nbformat": 4,
 "nbformat_minor": 5
}
