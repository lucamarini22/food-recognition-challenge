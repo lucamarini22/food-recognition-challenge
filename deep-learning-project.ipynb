{
 "cells": [
  {
   "cell_type": "code",
   "execution_count": 1,
   "metadata": {
    "execution": {
     "iopub.execute_input": "2021-03-08T10:22:44.432473Z",
     "iopub.status.busy": "2021-03-08T10:22:44.420128Z",
     "iopub.status.idle": "2021-03-08T10:23:03.276073Z",
     "shell.execute_reply": "2021-03-08T10:23:03.274891Z"
    },
    "papermill": {
     "duration": 18.86741,
     "end_time": "2021-03-08T10:23:03.276315",
     "exception": false,
     "start_time": "2021-03-08T10:22:44.408905",
     "status": "completed"
    },
    "tags": []
   },
   "outputs": [
    {
     "name": "stdout",
     "output_type": "stream",
     "text": [
      "Collecting git+https://github.com/cocodataset/cocoapi.git#subdirectory=PythonAPI\r\n",
      "  Cloning https://github.com/cocodataset/cocoapi.git to /tmp/pip-req-build-8mkxd4tv\r\n",
      "  Running command git clone -q https://github.com/cocodataset/cocoapi.git /tmp/pip-req-build-8mkxd4tv\r\n",
      "Requirement already satisfied: setuptools>=18.0 in /opt/conda/lib/python3.7/site-packages (from pycocotools==2.0) (49.6.0.post20201009)\r\n",
      "Requirement already satisfied: cython>=0.27.3 in /opt/conda/lib/python3.7/site-packages (from pycocotools==2.0) (0.29.21)\r\n",
      "Requirement already satisfied: matplotlib>=2.1.0 in /opt/conda/lib/python3.7/site-packages (from pycocotools==2.0) (3.3.3)\r\n",
      "Requirement already satisfied: pyparsing!=2.0.4,!=2.1.2,!=2.1.6,>=2.0.3 in /opt/conda/lib/python3.7/site-packages (from matplotlib>=2.1.0->pycocotools==2.0) (2.4.7)\r\n",
      "Requirement already satisfied: pillow>=6.2.0 in /opt/conda/lib/python3.7/site-packages (from matplotlib>=2.1.0->pycocotools==2.0) (7.2.0)\r\n",
      "Requirement already satisfied: cycler>=0.10 in /opt/conda/lib/python3.7/site-packages (from matplotlib>=2.1.0->pycocotools==2.0) (0.10.0)\r\n",
      "Requirement already satisfied: kiwisolver>=1.0.1 in /opt/conda/lib/python3.7/site-packages (from matplotlib>=2.1.0->pycocotools==2.0) (1.3.1)\r\n",
      "Requirement already satisfied: python-dateutil>=2.1 in /opt/conda/lib/python3.7/site-packages (from matplotlib>=2.1.0->pycocotools==2.0) (2.8.1)\r\n",
      "Requirement already satisfied: numpy>=1.15 in /opt/conda/lib/python3.7/site-packages (from matplotlib>=2.1.0->pycocotools==2.0) (1.19.5)\r\n",
      "Requirement already satisfied: six in /opt/conda/lib/python3.7/site-packages (from cycler>=0.10->matplotlib>=2.1.0->pycocotools==2.0) (1.15.0)\r\n",
      "Building wheels for collected packages: pycocotools\r\n",
      "  Building wheel for pycocotools (setup.py) ... \u001b[?25l-\b \b\\\b \b|\b \b/\b \b-\b \b\\\b \b|\b \b/\b \bdone\r\n",
      "\u001b[?25h  Created wheel for pycocotools: filename=pycocotools-2.0-cp37-cp37m-linux_x86_64.whl size=272558 sha256=e170624c7d934bffc4216295311f47675271070c17ee20a5eaf4c5a326257b52\r\n",
      "  Stored in directory: /tmp/pip-ephem-wheel-cache-305zmjvq/wheels/e2/6b/1d/344ac773c7495ea0b85eb228bc66daec7400a143a92d36b7b1\r\n",
      "Successfully built pycocotools\r\n",
      "Installing collected packages: pycocotools\r\n",
      "Successfully installed pycocotools-2.0\r\n"
     ]
    }
   ],
   "source": [
    "# Install the pycoco library as it is not part of the Kaggle environment\n",
    "!pip install 'git+https://github.com/cocodataset/cocoapi.git#subdirectory=PythonAPI'"
   ]
  },
  {
   "cell_type": "code",
   "execution_count": 2,
   "metadata": {
    "execution": {
     "iopub.execute_input": "2021-03-08T10:23:03.303775Z",
     "iopub.status.busy": "2021-03-08T10:23:03.303026Z",
     "iopub.status.idle": "2021-03-08T10:23:03.504141Z",
     "shell.execute_reply": "2021-03-08T10:23:03.504666Z"
    },
    "papermill": {
     "duration": 0.218954,
     "end_time": "2021-03-08T10:23:03.504863",
     "exception": false,
     "start_time": "2021-03-08T10:23:03.285909",
     "status": "completed"
    },
    "tags": []
   },
   "outputs": [],
   "source": [
    "# Import the necessary libraries\n",
    "import numpy as np\n",
    "import pandas as pd\n",
    "import matplotlib.pyplot as plt\n",
    "%matplotlib inline\n",
    "import os\n",
    "import cv2\n",
    "import json\n",
    "from pycocotools.coco import COCO"
   ]
  },
  {
   "cell_type": "code",
   "execution_count": 3,
   "metadata": {
    "execution": {
     "iopub.execute_input": "2021-03-08T10:23:03.533606Z",
     "iopub.status.busy": "2021-03-08T10:23:03.532834Z",
     "iopub.status.idle": "2021-03-08T10:23:03.536839Z",
     "shell.execute_reply": "2021-03-08T10:23:03.536231Z"
    },
    "papermill": {
     "duration": 0.021296,
     "end_time": "2021-03-08T10:23:03.536994",
     "exception": false,
     "start_time": "2021-03-08T10:23:03.515698",
     "status": "completed"
    },
    "tags": []
   },
   "outputs": [],
   "source": [
    "# Define the load images function\n",
    "def loadImages(LOC, COLOUR=None):\n",
    "    file_lst = os.listdir(LOC)\n",
    "    \n",
    "    # Read the images as gray or coloured\n",
    "    image_dct = {}\n",
    "    for file in file_lst:\n",
    "        loc = LOC + file\n",
    "        if COLOUR == 'gray':\n",
    "            img = cv2.imread(loc, 0)\n",
    "        else:\n",
    "            img = cv2.imread(loc)\n",
    "            img = cv2.cvtColor(img, cv2.COLOR_BGR2RGB)        \n",
    "        \n",
    "        # Save the images and their image ids into a dictionary\n",
    "        image_dct[file[:6].strip('0')] = img\n",
    "    \n",
    "    # Read the json file into a coco indexer\n",
    "    coco = COCO(LOC[:-7] + 'annotations.json')\n",
    "        \n",
    "    return image_dct, coco"
   ]
  },
  {
   "cell_type": "code",
   "execution_count": 4,
   "metadata": {
    "execution": {
     "iopub.execute_input": "2021-03-08T10:23:03.560203Z",
     "iopub.status.busy": "2021-03-08T10:23:03.559270Z",
     "iopub.status.idle": "2021-03-08T10:23:16.740529Z",
     "shell.execute_reply": "2021-03-08T10:23:16.739805Z"
    },
    "papermill": {
     "duration": 13.194604,
     "end_time": "2021-03-08T10:23:16.740678",
     "exception": false,
     "start_time": "2021-03-08T10:23:03.546074",
     "status": "completed"
    },
    "tags": []
   },
   "outputs": [
    {
     "name": "stdout",
     "output_type": "stream",
     "text": [
      "loading annotations into memory...\n",
      "Done (t=0.14s)\n",
      "creating index...\n",
      "index created!\n"
     ]
    }
   ],
   "source": [
    "# Load the image sets and their annotations\n",
    "train_images, train_coco = loadImages('../input/food-recognition-challenge/val-v0.4/val/images/', 'gray')"
   ]
  },
  {
   "cell_type": "markdown",
   "metadata": {
    "papermill": {
     "duration": 0.00913,
     "end_time": "2021-03-08T10:23:16.759252",
     "exception": false,
     "start_time": "2021-03-08T10:23:16.750122",
     "status": "completed"
    },
    "tags": []
   },
   "source": [
    "### TO DO:\n",
    "https://towardsdatascience.com/master-the-coco-dataset-for-semantic-image-segmentation-part-1-of-2-732712631047\n",
    "\n",
    "Link to website on guide to read the images with their annotations using the coco indexer ('train_coco'). Implement a function to preview images with their annotations."
   ]
  }
 ],
 "metadata": {
  "kernelspec": {
   "display_name": "Python 3",
   "language": "python",
   "name": "python3"
  },
  "language_info": {
   "codemirror_mode": {
    "name": "ipython",
    "version": 3
   },
   "file_extension": ".py",
   "mimetype": "text/x-python",
   "name": "python",
   "nbconvert_exporter": "python",
   "pygments_lexer": "ipython3",
   "version": "3.7.9"
  },
  "papermill": {
   "default_parameters": {},
   "duration": 39.296968,
   "end_time": "2021-03-08T10:23:17.378285",
   "environment_variables": {},
   "exception": null,
   "input_path": "__notebook__.ipynb",
   "output_path": "__notebook__.ipynb",
   "parameters": {},
   "start_time": "2021-03-08T10:22:38.081317",
   "version": "2.2.2"
  }
 },
 "nbformat": 4,
 "nbformat_minor": 4
}
