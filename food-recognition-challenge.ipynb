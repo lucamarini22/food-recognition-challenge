{
 "cells": [
  {
   "cell_type": "code",
   "execution_count": 1,
   "id": "desperate-manitoba",
   "metadata": {
    "_kg_hide-input": false,
    "_kg_hide-output": true,
    "execution": {
     "iopub.execute_input": "2021-05-08T05:59:48.862948Z",
     "iopub.status.busy": "2021-05-08T05:59:48.861361Z",
     "iopub.status.idle": "2021-05-08T06:00:04.506333Z",
     "shell.execute_reply": "2021-05-08T06:00:04.505614Z"
    },
    "papermill": {
     "duration": 15.661872,
     "end_time": "2021-05-08T06:00:04.506506",
     "exception": false,
     "start_time": "2021-05-08T05:59:48.844634",
     "status": "completed"
    },
    "tags": []
   },
   "outputs": [
    {
     "name": "stdout",
     "output_type": "stream",
     "text": [
      "Collecting pycocotools\r\n",
      "  Downloading pycocotools-2.0.2.tar.gz (23 kB)\r\n",
      "Requirement already satisfied: setuptools>=18.0 in /opt/conda/lib/python3.7/site-packages (from pycocotools) (49.6.0.post20210108)\r\n",
      "Requirement already satisfied: cython>=0.27.3 in /opt/conda/lib/python3.7/site-packages (from pycocotools) (0.29.23)\r\n",
      "Requirement already satisfied: matplotlib>=2.1.0 in /opt/conda/lib/python3.7/site-packages (from pycocotools) (3.4.1)\r\n",
      "Requirement already satisfied: python-dateutil>=2.7 in /opt/conda/lib/python3.7/site-packages (from matplotlib>=2.1.0->pycocotools) (2.8.1)\r\n",
      "Requirement already satisfied: pillow>=6.2.0 in /opt/conda/lib/python3.7/site-packages (from matplotlib>=2.1.0->pycocotools) (7.2.0)\r\n",
      "Requirement already satisfied: kiwisolver>=1.0.1 in /opt/conda/lib/python3.7/site-packages (from matplotlib>=2.1.0->pycocotools) (1.3.1)\r\n",
      "Requirement already satisfied: numpy>=1.16 in /opt/conda/lib/python3.7/site-packages (from matplotlib>=2.1.0->pycocotools) (1.19.5)\r\n",
      "Requirement already satisfied: cycler>=0.10 in /opt/conda/lib/python3.7/site-packages (from matplotlib>=2.1.0->pycocotools) (0.10.0)\r\n",
      "Requirement already satisfied: pyparsing>=2.2.1 in /opt/conda/lib/python3.7/site-packages (from matplotlib>=2.1.0->pycocotools) (2.4.7)\r\n",
      "Requirement already satisfied: six in /opt/conda/lib/python3.7/site-packages (from cycler>=0.10->matplotlib>=2.1.0->pycocotools) (1.15.0)\r\n",
      "Building wheels for collected packages: pycocotools\r\n",
      "  Building wheel for pycocotools (setup.py) ... \u001b[?25l-\b \b\\\b \b|\b \b/\b \b-\b \b\\\b \b|\b \b/\b \bdone\r\n",
      "\u001b[?25h  Created wheel for pycocotools: filename=pycocotools-2.0.2-cp37-cp37m-linux_x86_64.whl size=272444 sha256=b16e4ebdd4afd05c8668a49f0d8c7c3114bbee67bca54a2ab0980fb554919e00\r\n",
      "  Stored in directory: /root/.cache/pip/wheels/bc/cf/1b/e95c99c5f9d1648be3f500ca55e7ce55f24818b0f48336adaf\r\n",
      "Successfully built pycocotools\r\n",
      "Installing collected packages: pycocotools\r\n",
      "Successfully installed pycocotools-2.0.2\r\n"
     ]
    }
   ],
   "source": [
    "# Install the pycoco library\n",
    "!pip install pycocotools"
   ]
  },
  {
   "cell_type": "code",
   "execution_count": 2,
   "id": "brief-turning",
   "metadata": {
    "execution": {
     "iopub.execute_input": "2021-05-08T06:00:04.544370Z",
     "iopub.status.busy": "2021-05-08T06:00:04.543601Z",
     "iopub.status.idle": "2021-05-08T06:00:04.721720Z",
     "shell.execute_reply": "2021-05-08T06:00:04.720510Z"
    },
    "papermill": {
     "duration": 0.198862,
     "end_time": "2021-05-08T06:00:04.721873",
     "exception": false,
     "start_time": "2021-05-08T06:00:04.523011",
     "status": "completed"
    },
    "tags": []
   },
   "outputs": [],
   "source": [
    "# Import the necessary libraries\n",
    "import numpy as np\n",
    "import pandas as pd\n",
    "import os\n",
    "import random\n",
    "import cv2\n",
    "from pycocotools.coco import COCO\n",
    "import matplotlib.pyplot as plt\n",
    "%matplotlib inline"
   ]
  },
  {
   "cell_type": "code",
   "execution_count": 3,
   "id": "arbitrary-purple",
   "metadata": {
    "execution": {
     "iopub.execute_input": "2021-05-08T06:00:04.758972Z",
     "iopub.status.busy": "2021-05-08T06:00:04.758123Z",
     "iopub.status.idle": "2021-05-08T06:00:04.760825Z",
     "shell.execute_reply": "2021-05-08T06:00:04.760323Z"
    },
    "papermill": {
     "duration": 0.022896,
     "end_time": "2021-05-08T06:00:04.760949",
     "exception": false,
     "start_time": "2021-05-08T06:00:04.738053",
     "status": "completed"
    },
    "tags": []
   },
   "outputs": [],
   "source": [
    "# Define the image and annotation paths\n",
    "train_imgs_path = '../input/food-recognition-challenge/train-v0.4/train/images'\n",
    "train_anns_path = '../input/food-recognition-challenge/train-v0.4/train/annotations.json'\n",
    "\n",
    "val_imgs_path = '../input/food-recognition-challenge/val-v0.4/val/images'\n",
    "val_anns_path = '../input/food-recognition-challenge/val-v0.4/val/annotations.json'\n",
    "\n",
    "test_imgs_path = '../input/food-recognition-challenge/test_images-v0.4/val/images'\n",
    "test_anns_path = '../input/food-recognition-challenge/test_images-v0.4/val/annotations.json'"
   ]
  },
  {
   "cell_type": "markdown",
   "id": "upset-apartment",
   "metadata": {
    "papermill": {
     "duration": 0.015545,
     "end_time": "2021-05-08T06:00:04.792520",
     "exception": false,
     "start_time": "2021-05-08T06:00:04.776975",
     "status": "completed"
    },
    "tags": []
   },
   "source": [
    "# Reference to Image Segmentation\n",
    "\n",
    "https://divamgupta.com/image-segmentation/2019/06/06/deep-learning-semantic-segmentation-keras.html"
   ]
  },
  {
   "cell_type": "code",
   "execution_count": 4,
   "id": "falling-importance",
   "metadata": {
    "execution": {
     "iopub.execute_input": "2021-05-08T06:00:04.831341Z",
     "iopub.status.busy": "2021-05-08T06:00:04.830483Z",
     "iopub.status.idle": "2021-05-08T06:00:04.833000Z",
     "shell.execute_reply": "2021-05-08T06:00:04.833438Z"
    },
    "papermill": {
     "duration": 0.025148,
     "end_time": "2021-05-08T06:00:04.833561",
     "exception": false,
     "start_time": "2021-05-08T06:00:04.808413",
     "status": "completed"
    },
    "tags": []
   },
   "outputs": [],
   "source": [
    "# Function to load JSON into a COCO api\n",
    "def getCOCO(anns_path):\n",
    "    # Initialize the COCO api for instance annotations\n",
    "    coco = COCO(anns_path)\n",
    "    \n",
    "    # Load the categories in a variable\n",
    "    catIDs = coco.getCatIds()\n",
    "    cats = coco.loadCats(catIDs)\n",
    "    \n",
    "    # Print number of categories\n",
    "    nms = [cat['name'] for cat in cats]\n",
    "    \n",
    "    # Create a dataframe of the count of each category\n",
    "    df = pd.DataFrame(columns=['Category', 'ID', 'Count'])\n",
    "    \n",
    "    # Add each category and its count row by row\n",
    "    for i, catID in enumerate(catIDs):\n",
    "        imgIds = coco.getImgIds(catIds=catID)\n",
    "        df.loc[i] = [nms[i]] + [catID] + [len(imgIds)]\n",
    "    \n",
    "    return coco, df"
   ]
  },
  {
   "cell_type": "code",
   "execution_count": 5,
   "id": "solved-division",
   "metadata": {
    "_kg_hide-output": true,
    "execution": {
     "iopub.execute_input": "2021-05-08T06:00:04.867758Z",
     "iopub.status.busy": "2021-05-08T06:00:04.867257Z",
     "iopub.status.idle": "2021-05-08T06:00:10.617355Z",
     "shell.execute_reply": "2021-05-08T06:00:10.616860Z"
    },
    "papermill": {
     "duration": 5.768488,
     "end_time": "2021-05-08T06:00:10.617490",
     "exception": false,
     "start_time": "2021-05-08T06:00:04.849002",
     "status": "completed"
    },
    "tags": []
   },
   "outputs": [
    {
     "name": "stdout",
     "output_type": "stream",
     "text": [
      "loading annotations into memory...\n",
      "Done (t=3.15s)\n",
      "creating index...\n",
      "index created!\n",
      "loading annotations into memory...\n",
      "Done (t=0.16s)\n",
      "creating index...\n",
      "index created!\n",
      "loading annotations into memory...\n",
      "Done (t=0.16s)\n",
      "creating index...\n",
      "index created!\n"
     ]
    }
   ],
   "source": [
    "# Load the annotations of the image dataset\n",
    "train_coco, train_classes = getCOCO(train_anns_path)\n",
    "val_coco, val_classes = getCOCO(val_anns_path)\n",
    "test_coco, test_classes = getCOCO(test_anns_path)"
   ]
  },
  {
   "cell_type": "code",
   "execution_count": 6,
   "id": "vanilla-feature",
   "metadata": {
    "execution": {
     "iopub.execute_input": "2021-05-08T06:00:10.660098Z",
     "iopub.status.busy": "2021-05-08T06:00:10.659532Z",
     "iopub.status.idle": "2021-05-08T06:00:10.663741Z",
     "shell.execute_reply": "2021-05-08T06:00:10.663292Z"
    },
    "papermill": {
     "duration": 0.029166,
     "end_time": "2021-05-08T06:00:10.663850",
     "exception": false,
     "start_time": "2021-05-08T06:00:10.634684",
     "status": "completed"
    },
    "tags": []
   },
   "outputs": [],
   "source": [
    "def getMask(image_id, coco, classes, image_size):\n",
    "    # Create a zero array with the given size and number of classes\n",
    "    mask = np.zeros((image_size[0], image_size[1], 274))\n",
    "\n",
    "    annIds = coco.getAnnIds(int(image_id))\n",
    "    anns = coco.loadAnns(annIds)\n",
    "\n",
    "    for i, ann in enumerate(anns):\n",
    "        # Get the binary mask for the annotation\n",
    "        binary = cv2.resize(coco.annToMask(ann), image_size)\n",
    "\n",
    "        # Get the channel index for the annotation\n",
    "        channel = classes[classes.ID == ann['category_id']].index[0] + 1\n",
    "\n",
    "        # Update the channel of the annotation\n",
    "        mask[:, :, channel] = binary\n",
    "\n",
    "        # Update the background channel of the annotation\n",
    "        if i == 0:\n",
    "            mask[:, :, 0] = np.logical_or(mask[:, :, 0], np.logical_not(binary))\n",
    "        else:\n",
    "            mask[:, :, 0] = np.logical_and(mask[:, :, 0], np.logical_not(binary))\n",
    "\n",
    "    return mask"
   ]
  },
  {
   "cell_type": "code",
   "execution_count": 7,
   "id": "derived-driver",
   "metadata": {
    "execution": {
     "iopub.execute_input": "2021-05-08T06:00:10.706039Z",
     "iopub.status.busy": "2021-05-08T06:00:10.704687Z",
     "iopub.status.idle": "2021-05-08T06:00:10.707119Z",
     "shell.execute_reply": "2021-05-08T06:00:10.707533Z"
    },
    "papermill": {
     "duration": 0.027049,
     "end_time": "2021-05-08T06:00:10.707652",
     "exception": false,
     "start_time": "2021-05-08T06:00:10.680603",
     "status": "completed"
    },
    "tags": []
   },
   "outputs": [],
   "source": [
    "def getGenerator(path, coco, classes, image_size, batch_size):\n",
    "    c = 0\n",
    "    n = os.listdir(path)\n",
    "    random.shuffle(n)  \n",
    "    \n",
    "    while (True):\n",
    "        img_batch = np.zeros((batch_size, image_size[0], image_size[1], 3)).astype('int')\n",
    "        mask_batch = np.zeros((batch_size, image_size[0], image_size[1], 274)).astype('float')\n",
    "\n",
    "        for i in range(c, c + batch_size):\n",
    "            img = cv2.imread(path + '/' + n[i])\n",
    "            img =  cv2.resize(img, image_size)\n",
    "            img = cv2.cvtColor(img, cv2.COLOR_BGR2RGB)\n",
    "            \n",
    "            mask = getMask(n[i][1:-4], coco, classes, image_size)\n",
    "            \n",
    "            img_batch[i-c] = img\n",
    "            mask_batch[i-c] = mask\n",
    "\n",
    "        c += batch_size\n",
    "        if(c + batch_size >= len(os.listdir(path))):\n",
    "            c = 0\n",
    "            random.shuffle(n)\n",
    "\n",
    "        yield img_batch, mask_batch"
   ]
  },
  {
   "cell_type": "code",
   "execution_count": 8,
   "id": "tracked-picking",
   "metadata": {
    "execution": {
     "iopub.execute_input": "2021-05-08T06:00:10.747752Z",
     "iopub.status.busy": "2021-05-08T06:00:10.747103Z",
     "iopub.status.idle": "2021-05-08T06:00:13.057000Z",
     "shell.execute_reply": "2021-05-08T06:00:13.056587Z"
    },
    "papermill": {
     "duration": 2.332433,
     "end_time": "2021-05-08T06:00:13.057140",
     "exception": false,
     "start_time": "2021-05-08T06:00:10.724707",
     "status": "completed"
    },
    "tags": []
   },
   "outputs": [
    {
     "name": "stdout",
     "output_type": "stream",
     "text": [
      "Number of training images: 24120\n",
      "Number of validation images: 1269\n",
      "Number of test images: 1269\n"
     ]
    }
   ],
   "source": [
    "# Get the generators from the paths\n",
    "IMAGE_SIZE = (48, 48)\n",
    "BATCH_SIZE = 300\n",
    "\n",
    "train_gen = getGenerator(train_imgs_path, train_coco, train_classes, image_size=IMAGE_SIZE, batch_size=BATCH_SIZE)\n",
    "train_length = len(os.listdir(train_imgs_path))\n",
    "print('Number of training images: {}'.format(train_length))\n",
    "\n",
    "val_gen = getGenerator(val_imgs_path, val_coco, val_classes, image_size=IMAGE_SIZE, batch_size=BATCH_SIZE)\n",
    "val_length = len(os.listdir(val_imgs_path))\n",
    "print('Number of validation images: {}'.format(val_length))\n",
    "\n",
    "test_gen = getGenerator(test_imgs_path, test_coco, test_classes, image_size=IMAGE_SIZE, batch_size=BATCH_SIZE)\n",
    "test_length = len(os.listdir(test_imgs_path))\n",
    "print('Number of test images: {}'.format(test_length))"
   ]
  },
  {
   "cell_type": "code",
   "execution_count": 9,
   "id": "transparent-benefit",
   "metadata": {
    "execution": {
     "iopub.execute_input": "2021-05-08T06:00:13.103270Z",
     "iopub.status.busy": "2021-05-08T06:00:13.102607Z",
     "iopub.status.idle": "2021-05-08T06:00:13.106849Z",
     "shell.execute_reply": "2021-05-08T06:00:13.106416Z"
    },
    "papermill": {
     "duration": 0.030638,
     "end_time": "2021-05-08T06:00:13.106966",
     "exception": false,
     "start_time": "2021-05-08T06:00:13.076328",
     "status": "completed"
    },
    "tags": []
   },
   "outputs": [],
   "source": [
    "def visualise(path, coco, classes, n):\n",
    "    temp_gen = getGenerator(path, coco, classes, image_size=IMAGE_SIZE, batch_size=n)\n",
    "    images, masks = next(temp_gen)\n",
    "    \n",
    "    for i in range(n):\n",
    "        plt.figure(figsize=(10, 20))\n",
    "        \n",
    "        plt.subplot(1, 3, 1)\n",
    "        plt.title('Image')\n",
    "        plt.imshow(images[i])\n",
    "        plt.axis('off')\n",
    "        \n",
    "        plt.subplot(1, 3, 2)\n",
    "        plt.title('Background Channel')\n",
    "        plt.imshow(masks[i][:, :, 0])\n",
    "        plt.axis('off')\n",
    "        \n",
    "        plt.subplot(1, 3, 3)\n",
    "        plt.title('Max of Object Channels')\n",
    "        plt.imshow(np.max(masks[i][:, :, 1:], axis=2))\n",
    "        plt.axis('off')\n",
    "        \n",
    "        plt.show()"
   ]
  },
  {
   "cell_type": "code",
   "execution_count": 10,
   "id": "current-shuttle",
   "metadata": {
    "execution": {
     "iopub.execute_input": "2021-05-08T06:00:13.149081Z",
     "iopub.status.busy": "2021-05-08T06:00:13.148441Z",
     "iopub.status.idle": "2021-05-08T06:00:13.845729Z",
     "shell.execute_reply": "2021-05-08T06:00:13.845297Z"
    },
    "papermill": {
     "duration": 0.719901,
     "end_time": "2021-05-08T06:00:13.845848",
     "exception": false,
     "start_time": "2021-05-08T06:00:13.125947",
     "status": "completed"
    },
    "tags": []
   },
   "outputs": [
    {
     "data": {
      "image/png": "[encoded data removed]",
      "text/plain": [
       "<Figure size 720x1440 with 3 Axes>"
      ]
     },
     "metadata": {
      "needs_background": "light"
     },
     "output_type": "display_data"
    },
    {
     "data": {
      "image/png": "[encoded data removed]",
      "text/plain": [
       "<Figure size 720x1440 with 3 Axes>"
      ]
     },
     "metadata": {
      "needs_background": "light"
     },
     "output_type": "display_data"
    },
    {
     "data": {
      "image/png": "[encoded data removed]",
      "text/plain": [
       "<Figure size 720x1440 with 3 Axes>"
      ]
     },
     "metadata": {
      "needs_background": "light"
     },
     "output_type": "display_data"
    }
   ],
   "source": [
    "# Visualise a few samples images with their backgrounds and objects\n",
    "visualise(train_imgs_path, train_coco, train_classes, 3)"
   ]
  },
  {
   "cell_type": "code",
   "execution_count": 11,
   "id": "fuzzy-bathroom",
   "metadata": {
    "_kg_hide-output": true,
    "execution": {
     "iopub.execute_input": "2021-05-08T06:00:13.898289Z",
     "iopub.status.busy": "2021-05-08T06:00:13.891265Z",
     "iopub.status.idle": "2021-05-08T06:00:28.320194Z",
     "shell.execute_reply": "2021-05-08T06:00:28.321360Z"
    },
    "papermill": {
     "duration": 14.454876,
     "end_time": "2021-05-08T06:00:28.321557",
     "exception": false,
     "start_time": "2021-05-08T06:00:13.866681",
     "status": "completed"
    },
    "tags": []
   },
   "outputs": [
    {
     "name": "stdout",
     "output_type": "stream",
     "text": [
      "Collecting segmentation_models\r\n",
      "  Downloading segmentation_models-1.0.1-py3-none-any.whl (33 kB)\r\n",
      "Collecting image-classifiers==1.0.0\r\n",
      "  Downloading image_classifiers-1.0.0-py3-none-any.whl (19 kB)\r\n",
      "Collecting efficientnet==1.0.0\r\n",
      "  Downloading efficientnet-1.0.0-py3-none-any.whl (17 kB)\r\n",
      "Collecting keras-applications<=1.0.8,>=1.0.7\r\n",
      "  Downloading Keras_Applications-1.0.8-py3-none-any.whl (50 kB)\r\n",
      "\u001b[K     |████████████████████████████████| 50 kB 2.7 MB/s \r\n",
      "\u001b[?25hRequirement already satisfied: scikit-image in /opt/conda/lib/python3.7/site-packages (from efficientnet==1.0.0->segmentation_models) (0.18.1)\r\n",
      "Requirement already satisfied: h5py in /opt/conda/lib/python3.7/site-packages (from keras-applications<=1.0.8,>=1.0.7->segmentation_models) (2.10.0)\r\n",
      "Requirement already satisfied: numpy>=1.9.1 in /opt/conda/lib/python3.7/site-packages (from keras-applications<=1.0.8,>=1.0.7->segmentation_models) (1.19.5)\r\n",
      "Requirement already satisfied: six in /opt/conda/lib/python3.7/site-packages (from h5py->keras-applications<=1.0.8,>=1.0.7->segmentation_models) (1.15.0)\r\n",
      "Requirement already satisfied: tifffile>=2019.7.26 in /opt/conda/lib/python3.7/site-packages (from scikit-image->efficientnet==1.0.0->segmentation_models) (2021.4.8)\r\n",
      "Requirement already satisfied: scipy>=1.0.1 in /opt/conda/lib/python3.7/site-packages (from scikit-image->efficientnet==1.0.0->segmentation_models) (1.5.4)\r\n",
      "Requirement already satisfied: matplotlib!=3.0.0,>=2.0.0 in /opt/conda/lib/python3.7/site-packages (from scikit-image->efficientnet==1.0.0->segmentation_models) (3.4.1)\r\n",
      "Requirement already satisfied: PyWavelets>=1.1.1 in /opt/conda/lib/python3.7/site-packages (from scikit-image->efficientnet==1.0.0->segmentation_models) (1.1.1)\r\n",
      "Requirement already satisfied: pillow!=7.1.0,!=7.1.1,>=4.3.0 in /opt/conda/lib/python3.7/site-packages (from scikit-image->efficientnet==1.0.0->segmentation_models) (7.2.0)\r\n",
      "Requirement already satisfied: networkx>=2.0 in /opt/conda/lib/python3.7/site-packages (from scikit-image->efficientnet==1.0.0->segmentation_models) (2.5)\r\n",
      "Requirement already satisfied: imageio>=2.3.0 in /opt/conda/lib/python3.7/site-packages (from scikit-image->efficientnet==1.0.0->segmentation_models) (2.9.0)\r\n",
      "Requirement already satisfied: pyparsing>=2.2.1 in /opt/conda/lib/python3.7/site-packages (from matplotlib!=3.0.0,>=2.0.0->scikit-image->efficientnet==1.0.0->segmentation_models) (2.4.7)\r\n",
      "Requirement already satisfied: cycler>=0.10 in /opt/conda/lib/python3.7/site-packages (from matplotlib!=3.0.0,>=2.0.0->scikit-image->efficientnet==1.0.0->segmentation_models) (0.10.0)\r\n",
      "Requirement already satisfied: kiwisolver>=1.0.1 in /opt/conda/lib/python3.7/site-packages (from matplotlib!=3.0.0,>=2.0.0->scikit-image->efficientnet==1.0.0->segmentation_models) (1.3.1)\r\n",
      "Requirement already satisfied: python-dateutil>=2.7 in /opt/conda/lib/python3.7/site-packages (from matplotlib!=3.0.0,>=2.0.0->scikit-image->efficientnet==1.0.0->segmentation_models) (2.8.1)\r\n",
      "Requirement already satisfied: decorator>=4.3.0 in /opt/conda/lib/python3.7/site-packages (from networkx>=2.0->scikit-image->efficientnet==1.0.0->segmentation_models) (4.4.2)\r\n",
      "Installing collected packages: keras-applications, image-classifiers, efficientnet, segmentation-models\r\n",
      "Successfully installed efficientnet-1.0.0 image-classifiers-1.0.0 keras-applications-1.0.8 segmentation-models-1.0.1\r\n",
      "env: SM_FRAMEWORK=tf.keras\n",
      "Segmentation Models: using `tf.keras` framework.\n"
     ]
    }
   ],
   "source": [
    "# Install and import the segmentation models library\n",
    "!pip install segmentation_models\n",
    "%env SM_FRAMEWORK=tf.keras\n",
    "import segmentation_models as sm"
   ]
  },
  {
   "cell_type": "code",
   "execution_count": 12,
   "id": "worse-shooting",
   "metadata": {
    "execution": {
     "iopub.execute_input": "2021-05-08T06:00:28.377170Z",
     "iopub.status.busy": "2021-05-08T06:00:28.376606Z",
     "iopub.status.idle": "2021-05-08T06:00:34.108737Z",
     "shell.execute_reply": "2021-05-08T06:00:34.109326Z"
    },
    "papermill": {
     "duration": 5.762762,
     "end_time": "2021-05-08T06:00:34.109503",
     "exception": false,
     "start_time": "2021-05-08T06:00:28.346741",
     "status": "completed"
    },
    "tags": []
   },
   "outputs": [
    {
     "name": "stdout",
     "output_type": "stream",
     "text": [
      "Downloading data from https://github.com/qubvel/classification_models/releases/download/0.0.1/resnet34_imagenet_1000_no_top.h5\n",
      "85524480/85521592 [==============================] - 1s 0us/step\n"
     ]
    }
   ],
   "source": [
    "# Define the model to be trained\n",
    "model = sm.PSPNet('resnet34', encoder_weights='imagenet', encoder_freeze=True, \n",
    "                  input_shape=(IMAGE_SIZE[0], IMAGE_SIZE[1], 3), downsample_factor=4, \n",
    "                  classes=274, activation='softmax')\n",
    "\n",
    "model.compile('Adam', loss=sm.losses.cce_dice_loss, \n",
    "              metrics=[sm.metrics.iou_score, sm.metrics.precision, sm.metrics.recall])"
   ]
  },
  {
   "cell_type": "code",
   "execution_count": 13,
   "id": "mobile-steam",
   "metadata": {
    "execution": {
     "iopub.execute_input": "2021-05-08T06:00:34.180898Z",
     "iopub.status.busy": "2021-05-08T06:00:34.179897Z",
     "iopub.status.idle": "2021-05-08T06:00:34.183314Z",
     "shell.execute_reply": "2021-05-08T06:00:34.182792Z"
    },
    "papermill": {
     "duration": 0.040474,
     "end_time": "2021-05-08T06:00:34.183451",
     "exception": false,
     "start_time": "2021-05-08T06:00:34.142977",
     "status": "completed"
    },
    "tags": []
   },
   "outputs": [],
   "source": [
    "# # Load the trained model weights\n",
    "# weights_path = '../input/food-recognition-model/weights.h5'\n",
    "# model.load_weights(weights_path)"
   ]
  },
  {
   "cell_type": "code",
   "execution_count": 14,
   "id": "confirmed-sound",
   "metadata": {
    "_kg_hide-output": true,
    "execution": {
     "iopub.execute_input": "2021-05-08T06:00:34.258544Z",
     "iopub.status.busy": "2021-05-08T06:00:34.257863Z",
     "iopub.status.idle": "2021-05-08T07:28:03.213223Z",
     "shell.execute_reply": "2021-05-08T07:28:03.213693Z"
    },
    "papermill": {
     "duration": 5248.995197,
     "end_time": "2021-05-08T07:28:03.213836",
     "exception": false,
     "start_time": "2021-05-08T06:00:34.218639",
     "status": "completed"
    },
    "tags": []
   },
   "outputs": [
    {
     "name": "stdout",
     "output_type": "stream",
     "text": [
      "Epoch 1/10\n",
      "80/80 [==============================] - 757s 9s/step - loss: 0.9928 - iou_score: 0.0099 - precision: 0.0188 - recall: 0.3828 - val_loss: 1.0082 - val_iou_score: 0.0032 - val_precision: 0.0234 - val_recall: 0.3715\n",
      "Epoch 2/10\n",
      "80/80 [==============================] - 493s 6s/step - loss: 0.9567 - iou_score: 0.0326 - precision: 0.0716 - recall: 0.4199 - val_loss: 0.9892 - val_iou_score: 0.0144 - val_precision: 0.0683 - val_recall: 0.3855\n",
      "Epoch 3/10\n",
      "80/80 [==============================] - 496s 6s/step - loss: 0.9252 - iou_score: 0.0587 - precision: 0.1277 - recall: 0.4348 - val_loss: 0.9105 - val_iou_score: 0.0888 - val_precision: 0.2139 - val_recall: 0.3848\n",
      "Epoch 4/10\n",
      "80/80 [==============================] - 503s 6s/step - loss: 0.7918 - iou_score: 0.1935 - precision: 0.4083 - recall: 0.4339 - val_loss: 0.7700 - val_iou_score: 0.2304 - val_precision: 0.5243 - val_recall: 0.3954\n",
      "Epoch 5/10\n",
      "80/80 [==============================] - 488s 6s/step - loss: 0.7077 - iou_score: 0.2757 - precision: 0.5742 - recall: 0.4543 - val_loss: 0.7532 - val_iou_score: 0.2429 - val_precision: 0.5486 - val_recall: 0.3998\n",
      "Epoch 6/10\n",
      "80/80 [==============================] - 499s 6s/step - loss: 0.6870 - iou_score: 0.2940 - precision: 0.5994 - recall: 0.4611 - val_loss: 0.7399 - val_iou_score: 0.2566 - val_precision: 0.5554 - val_recall: 0.4142\n",
      "Epoch 7/10\n",
      "80/80 [==============================] - 504s 6s/step - loss: 0.6711 - iou_score: 0.3079 - precision: 0.6139 - recall: 0.4763 - val_loss: 0.7507 - val_iou_score: 0.2434 - val_precision: 0.5604 - val_recall: 0.4136\n",
      "Epoch 8/10\n",
      "80/80 [==============================] - 513s 6s/step - loss: 0.6617 - iou_score: 0.3154 - precision: 0.6201 - recall: 0.4829 - val_loss: 0.7377 - val_iou_score: 0.2551 - val_precision: 0.5562 - val_recall: 0.4032\n",
      "Epoch 9/10\n",
      "80/80 [==============================] - 483s 6s/step - loss: 0.6575 - iou_score: 0.3182 - precision: 0.6337 - recall: 0.4840 - val_loss: 0.7368 - val_iou_score: 0.2573 - val_precision: 0.5550 - val_recall: 0.4216\n",
      "Epoch 10/10\n",
      "80/80 [==============================] - 503s 6s/step - loss: 0.6472 - iou_score: 0.3279 - precision: 0.6401 - recall: 0.4929 - val_loss: 0.7266 - val_iou_score: 0.2684 - val_precision: 0.5724 - val_recall: 0.4095\n"
     ]
    }
   ],
   "source": [
    "# Train the defined model on the dataset\n",
    "history = model.fit(train_gen, steps_per_epoch=train_length//BATCH_SIZE, \n",
    "                    validation_data=val_gen, validation_steps=val_length//BATCH_SIZE, \n",
    "                    epochs=10)"
   ]
  },
  {
   "cell_type": "code",
   "execution_count": 15,
   "id": "reliable-specialist",
   "metadata": {
    "execution": {
     "iopub.execute_input": "2021-05-08T07:28:03.768255Z",
     "iopub.status.busy": "2021-05-08T07:28:03.764973Z",
     "iopub.status.idle": "2021-05-08T07:28:04.059313Z",
     "shell.execute_reply": "2021-05-08T07:28:04.058784Z"
    },
    "papermill": {
     "duration": 0.584278,
     "end_time": "2021-05-08T07:28:04.059437",
     "exception": false,
     "start_time": "2021-05-08T07:28:03.475159",
     "status": "completed"
    },
    "tags": []
   },
   "outputs": [
    {
     "data": {
      "image/png": "[encoded data removed]",
      "text/plain": [
       "<Figure size 1440x432 with 2 Axes>"
      ]
     },
     "metadata": {
      "needs_background": "light"
     },
     "output_type": "display_data"
    }
   ],
   "source": [
    "# Plot the loss and iou score over the epochs\n",
    "plt.figure(figsize=(20, 6))\n",
    "plt.subplot(121)\n",
    "plt.plot(history.history['iou_score'])\n",
    "plt.plot(history.history['val_iou_score'])\n",
    "plt.title('Model IoU Score')\n",
    "plt.ylabel('IoU Score')\n",
    "plt.xlabel('Epoch')\n",
    "plt.legend(['Train', 'Test'], loc='upper left')\n",
    "\n",
    "# Plot training & validation loss values\n",
    "plt.subplot(122)\n",
    "plt.plot(history.history['loss'])\n",
    "plt.plot(history.history['val_loss'])\n",
    "plt.title('Model Loss')\n",
    "plt.ylabel('Loss')\n",
    "plt.xlabel('Epoch')\n",
    "plt.legend(['Train', 'Test'], loc='upper left')\n",
    "plt.show()"
   ]
  },
  {
   "cell_type": "code",
   "execution_count": 16,
   "id": "after-conspiracy",
   "metadata": {
    "execution": {
     "iopub.execute_input": "2021-05-08T07:28:04.601214Z",
     "iopub.status.busy": "2021-05-08T07:28:04.600336Z",
     "iopub.status.idle": "2021-05-08T07:28:04.679720Z",
     "shell.execute_reply": "2021-05-08T07:28:04.679177Z"
    },
    "papermill": {
     "duration": 0.355532,
     "end_time": "2021-05-08T07:28:04.679842",
     "exception": false,
     "start_time": "2021-05-08T07:28:04.324310",
     "status": "completed"
    },
    "tags": []
   },
   "outputs": [],
   "source": [
    "# Save the model to the output\n",
    "model.save_weights('weights.h5')"
   ]
  },
  {
   "cell_type": "code",
   "execution_count": 17,
   "id": "fiscal-stick",
   "metadata": {
    "execution": {
     "iopub.execute_input": "2021-05-08T07:28:05.217294Z",
     "iopub.status.busy": "2021-05-08T07:28:05.216760Z",
     "iopub.status.idle": "2021-05-08T07:28:53.283958Z",
     "shell.execute_reply": "2021-05-08T07:28:53.284586Z"
    },
    "papermill": {
     "duration": 48.341554,
     "end_time": "2021-05-08T07:28:53.284829",
     "exception": false,
     "start_time": "2021-05-08T07:28:04.943275",
     "status": "completed"
    },
    "tags": []
   },
   "outputs": [
    {
     "name": "stdout",
     "output_type": "stream",
     "text": [
      "4/4 [==============================] - 31s 10s/step - loss: 0.7395 - iou_score: 0.2556 - precision: 0.5699 - recall: 0.4087\n",
      "\n",
      "Loss: 0.739\n",
      "Average IoU: 0.256\n",
      "Average Precision: 0.57\n",
      "Average Recall: 0.409\n"
     ]
    }
   ],
   "source": [
    "# Evaluate the model on the test generator\n",
    "scores = model.evaluate(test_gen, steps=test_length//BATCH_SIZE)\n",
    "print('\\nLoss: {}'.format(round(scores[0], 3)))\n",
    "print('Average IoU: {}'.format(round(scores[1], 3)))\n",
    "print('Average Precision: {}'.format(round(scores[2], 3)))\n",
    "print('Average Recall: {}'.format(round(scores[3], 3)))"
   ]
  }
 ],
 "metadata": {
  "kernelspec": {
   "display_name": "Python 3",
   "language": "python",
   "name": "python3"
  },
  "language_info": {
   "codemirror_mode": {
    "name": "ipython",
    "version": 3
   },
   "file_extension": ".py",
   "mimetype": "text/x-python",
   "name": "python",
   "nbconvert_exporter": "python",
   "pygments_lexer": "ipython3",
   "version": "3.7.10"
  },
  "papermill": {
   "default_parameters": {},
   "duration": 5356.634168,
   "end_time": "2021-05-08T07:28:57.781777",
   "environment_variables": {},
   "exception": null,
   "input_path": "__notebook__.ipynb",
   "output_path": "__notebook__.ipynb",
   "parameters": {},
   "start_time": "2021-05-08T05:59:41.147609",
   "version": "2.3.3"
  }
 },
 "nbformat": 4,
 "nbformat_minor": 5
}
