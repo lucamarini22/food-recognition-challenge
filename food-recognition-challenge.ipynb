{
 "cells": [
  {
   "cell_type": "code",
   "execution_count": null,
   "metadata": {
    "_kg_hide-input": false,
    "_kg_hide-output": true,
    "papermill": {
     "duration": 14.682415,
     "end_time": "2021-05-10T15:30:37.398733",
     "exception": false,
     "start_time": "2021-05-10T15:30:22.716318",
     "status": "completed"
    },
    "tags": []
   },
   "outputs": [],
   "source": [
    "# Install the pycoco library\n",
    "!pip install pycocotools"
   ]
  },
  {
   "cell_type": "code",
   "execution_count": null,
   "metadata": {
    "papermill": {
     "duration": 2.275126,
     "end_time": "2021-05-10T15:30:39.69131",
     "exception": false,
     "start_time": "2021-05-10T15:30:37.416184",
     "status": "completed"
    },
    "tags": []
   },
   "outputs": [],
   "source": [
    "# Import the necessary libraries\n",
    "import numpy as np\n",
    "import pandas as pd\n",
    "import os\n",
    "import random\n",
    "import cv2\n",
    "from pycocotools.coco import COCO\n",
    "import matplotlib.pyplot as plt\n",
    "%matplotlib inline\n",
    "import imgaug.augmenters as iaa"
   ]
  },
  {
   "cell_type": "code",
   "execution_count": null,
   "metadata": {
    "papermill": {
     "duration": 0.024203,
     "end_time": "2021-05-10T15:30:39.732233",
     "exception": false,
     "start_time": "2021-05-10T15:30:39.70803",
     "status": "completed"
    },
    "tags": []
   },
   "outputs": [],
   "source": [
    "# Set important parameters\n",
    "IMAGE_SIZE = (48, 48)\n",
    "BATCH_SIZE = 300\n",
    "EPOCHS = 10"
   ]
  },
  {
   "cell_type": "code",
   "execution_count": null,
   "metadata": {
    "papermill": {
     "duration": 0.023515,
     "end_time": "2021-05-10T15:30:39.772833",
     "exception": false,
     "start_time": "2021-05-10T15:30:39.749318",
     "status": "completed"
    },
    "tags": []
   },
   "outputs": [],
   "source": [
    "# Define the image and annotation paths\n",
    "train_imgs_path = '../input/food-recognition-challenge/train-v0.4/train/images'\n",
    "train_anns_path = '../input/food-recognition-challenge/train-v0.4/train/annotations.json'\n",
    "\n",
    "val_imgs_path = '../input/food-recognition-challenge/val-v0.4/val/images'\n",
    "val_anns_path = '../input/food-recognition-challenge/val-v0.4/val/annotations.json'\n",
    "\n",
    "test_imgs_path = '../input/food-recognition-challenge/test_images-v0.4/val/images'\n",
    "test_anns_path = '../input/food-recognition-challenge/test_images-v0.4/val/annotations.json'"
   ]
  },
  {
   "cell_type": "code",
   "execution_count": null,
   "metadata": {
    "papermill": {
     "duration": 0.025932,
     "end_time": "2021-05-10T15:30:39.815028",
     "exception": false,
     "start_time": "2021-05-10T15:30:39.789096",
     "status": "completed"
    },
    "tags": []
   },
   "outputs": [],
   "source": [
    "# Function to load JSON into a COCO api\n",
    "def getCOCO(anns_path):\n",
    "    # Initialize the COCO api for instance annotations\n",
    "    coco = COCO(anns_path)\n",
    "    \n",
    "    # Load the categories in a variable\n",
    "    catIDs = coco.getCatIds()\n",
    "    cats = coco.loadCats(catIDs)\n",
    "    \n",
    "    # Print number of categories\n",
    "    nms = [cat['name'] for cat in cats]\n",
    "    \n",
    "    # Create a dataframe of the count of each category\n",
    "    df = pd.DataFrame(columns=['Category', 'ID', 'Count'])\n",
    "    \n",
    "    # Add each category and its count row by row\n",
    "    for i, catID in enumerate(catIDs):\n",
    "        imgIds = coco.getImgIds(catIds=catID)\n",
    "        df.loc[i] = [nms[i]] + [catID] + [len(imgIds)]\n",
    "    \n",
    "    return coco, df"
   ]
  },
  {
   "cell_type": "code",
   "execution_count": null,
   "metadata": {
    "_kg_hide-output": true,
    "papermill": {
     "duration": 6.871897,
     "end_time": "2021-05-10T15:30:46.704246",
     "exception": false,
     "start_time": "2021-05-10T15:30:39.832349",
     "status": "completed"
    },
    "tags": []
   },
   "outputs": [],
   "source": [
    "# Load the annotations of the image dataset\n",
    "train_coco, train_classes = getCOCO(train_anns_path)\n",
    "val_coco, val_classes = getCOCO(val_anns_path)\n",
    "test_coco, test_classes = getCOCO(test_anns_path)"
   ]
  },
  {
   "cell_type": "code",
   "execution_count": null,
   "metadata": {
    "papermill": {
     "duration": 0.027807,
     "end_time": "2021-05-10T15:30:46.750343",
     "exception": false,
     "start_time": "2021-05-10T15:30:46.722536",
     "status": "completed"
    },
    "tags": []
   },
   "outputs": [],
   "source": [
    "def getMask(image_id, coco, classes, image_size):\n",
    "    # Create a zero array with the given size and number of classes\n",
    "    mask = np.zeros((image_size[0], image_size[1], 274))\n",
    "\n",
    "    annIds = coco.getAnnIds(int(image_id))\n",
    "    anns = coco.loadAnns(annIds)\n",
    "\n",
    "    for i, ann in enumerate(anns):\n",
    "        # Get the binary mask for the annotation\n",
    "        binary = cv2.resize(coco.annToMask(ann), image_size)\n",
    "\n",
    "        # Get the channel index for the annotation\n",
    "        channel = classes[classes.ID == ann['category_id']].index[0] + 1\n",
    "\n",
    "        # Update the channel of the annotation\n",
    "        mask[:, :, channel] = binary\n",
    "\n",
    "        # Update the background channel of the annotation\n",
    "        if i == 0:\n",
    "            mask[:, :, 0] = np.logical_or(mask[:, :, 0], np.logical_not(binary))\n",
    "        else:\n",
    "            mask[:, :, 0] = np.logical_and(mask[:, :, 0], np.logical_not(binary))\n",
    "\n",
    "    return mask"
   ]
  },
  {
   "cell_type": "code",
   "execution_count": null,
   "metadata": {
    "papermill": {
     "duration": 0.029955,
     "end_time": "2021-05-10T15:30:46.798268",
     "exception": false,
     "start_time": "2021-05-10T15:30:46.768313",
     "status": "completed"
    },
    "tags": []
   },
   "outputs": [],
   "source": [
    "def getGenerator(path, coco, classes, image_size, batch_size, augment=False):\n",
    "    c = 0\n",
    "    n = os.listdir(path)\n",
    "    random.shuffle(n)\n",
    "    \n",
    "    geo_aug = iaa.Fliplr(1.0)\n",
    "    \n",
    "    while (True):\n",
    "        img_batch = np.zeros((batch_size, image_size[0], image_size[1], 3)).astype('int')\n",
    "        mask_batch = np.zeros((batch_size, image_size[0], image_size[1], 274)).astype('float')\n",
    "\n",
    "        for i in range(c, c + batch_size):\n",
    "            img = cv2.imread(path + '/' + n[i])\n",
    "            img =  cv2.resize(img, image_size)\n",
    "            img = cv2.cvtColor(img, cv2.COLOR_BGR2RGB)\n",
    "            \n",
    "            mask = getMask(n[i][1:-4], coco, classes, image_size)\n",
    "            \n",
    "            if augment == True:\n",
    "                if random.randrange(10) % 2 == 0:\n",
    "                    img = geo_aug(image=img)\n",
    "                    mask = geo_aug(image=mask)            \n",
    "            \n",
    "            img_batch[i-c] = img\n",
    "            mask_batch[i-c] = mask\n",
    "\n",
    "        c += batch_size\n",
    "        if(c + batch_size >= len(os.listdir(path))):\n",
    "            c = 0\n",
    "            random.shuffle(n)\n",
    "\n",
    "        yield img_batch, mask_batch"
   ]
  },
  {
   "cell_type": "code",
   "execution_count": null,
   "metadata": {
    "papermill": {
     "duration": 1.326913,
     "end_time": "2021-05-10T15:30:48.143595",
     "exception": false,
     "start_time": "2021-05-10T15:30:46.816682",
     "status": "completed"
    },
    "tags": []
   },
   "outputs": [],
   "source": [
    "# Get the generators from the paths\n",
    "train_gen = getGenerator(train_imgs_path, train_coco, train_classes, IMAGE_SIZE, BATCH_SIZE, True)\n",
    "\n",
    "train_length = len(os.listdir(train_imgs_path))\n",
    "print('Number of training images: {}'.format(train_length))\n",
    "\n",
    "val_gen = getGenerator(val_imgs_path, val_coco, val_classes, IMAGE_SIZE, BATCH_SIZE)\n",
    "\n",
    "val_length = len(os.listdir(val_imgs_path))\n",
    "print('Number of validation images: {}'.format(val_length))\n",
    "\n",
    "test_gen = getGenerator(test_imgs_path, test_coco, test_classes, IMAGE_SIZE, BATCH_SIZE)\n",
    "\n",
    "test_length = len(os.listdir(test_imgs_path))\n",
    "print('Number of test images: {}'.format(test_length))"
   ]
  },
  {
   "cell_type": "code",
   "execution_count": null,
   "metadata": {
    "papermill": {
     "duration": 0.031458,
     "end_time": "2021-05-10T15:30:48.195548",
     "exception": false,
     "start_time": "2021-05-10T15:30:48.16409",
     "status": "completed"
    },
    "tags": []
   },
   "outputs": [],
   "source": [
    "def visualise(path, coco, classes, image_size, batch_size, augment=False):\n",
    "    temp_gen = getGenerator(path, coco, classes, image_size, batch_size, augment)\n",
    "    images, masks = next(temp_gen)\n",
    "    \n",
    "    for i in range(batch_size):\n",
    "        plt.figure(figsize=(10, 20))\n",
    "        \n",
    "        plt.subplot(1, 3, 1)\n",
    "        plt.title('Image')\n",
    "        plt.imshow(images[i])\n",
    "        plt.axis('off')\n",
    "        \n",
    "        plt.subplot(1, 3, 2)\n",
    "        plt.title('Background Mask')\n",
    "        plt.imshow(masks[i][:, :, 0])\n",
    "        plt.axis('off')\n",
    "        \n",
    "        plt.subplot(1, 3, 3)\n",
    "        plt.title('Object Mask')\n",
    "        plt.imshow(np.max(masks[i][:, :, 1:], axis=2))\n",
    "        plt.axis('off')\n",
    "        \n",
    "        plt.show()"
   ]
  },
  {
   "cell_type": "code",
   "execution_count": null,
   "metadata": {
    "papermill": {
     "duration": 1.01854,
     "end_time": "2021-05-10T15:30:49.234087",
     "exception": false,
     "start_time": "2021-05-10T15:30:48.215547",
     "status": "completed"
    },
    "tags": []
   },
   "outputs": [],
   "source": [
    "# Visualise a few samples images with their backgrounds and objects\n",
    "visualise(train_imgs_path, train_coco, train_classes, IMAGE_SIZE, 3, True)"
   ]
  },
  {
   "cell_type": "code",
   "execution_count": null,
   "metadata": {
    "_kg_hide-output": true,
    "papermill": {
     "duration": 11.774703,
     "end_time": "2021-05-10T15:31:01.048044",
     "exception": false,
     "start_time": "2021-05-10T15:30:49.273341",
     "status": "completed"
    },
    "tags": []
   },
   "outputs": [],
   "source": [
    "# Install and import the segmentation models library\n",
    "!pip install segmentation_models\n",
    "%env SM_FRAMEWORK=tf.keras\n",
    "import segmentation_models as sm"
   ]
  },
  {
   "cell_type": "code",
   "execution_count": null,
   "metadata": {
    "papermill": {
     "duration": 12.766019,
     "end_time": "2021-05-10T15:31:13.840684",
     "exception": false,
     "start_time": "2021-05-10T15:31:01.074665",
     "status": "completed"
    },
    "tags": []
   },
   "outputs": [],
   "source": [
    "# Define the model to be trained\n",
    "model = sm.PSPNet('efficientnetb7', encoder_weights='imagenet', encoder_freeze=True, \n",
    "                  input_shape=(IMAGE_SIZE[0], IMAGE_SIZE[1], 3), downsample_factor=4, \n",
    "                  classes=274, activation='softmax')\n",
    "\n",
    "model.compile('Adam', loss=sm.losses.cce_dice_loss, \n",
    "              metrics=[sm.metrics.IOUScore(), sm.metrics.Precision(), sm.metrics.Recall()])"
   ]
  },
  {
   "cell_type": "code",
   "execution_count": null,
   "metadata": {
    "papermill": {
     "duration": 0.100971,
     "end_time": "2021-05-10T15:31:14.008781",
     "exception": false,
     "start_time": "2021-05-10T15:31:13.90781",
     "status": "completed"
    },
    "tags": []
   },
   "outputs": [],
   "source": [
    "# # Load the trained model weights\n",
    "# weights_path = '../input/food-recognition-model/weights.h5'\n",
    "# model.load_weights(weights_path)"
   ]
  },
  {
   "cell_type": "code",
   "execution_count": null,
   "metadata": {
    "_kg_hide-output": true,
    "papermill": {
     "duration": 4999.620921,
     "end_time": "2021-05-10T16:54:33.724382",
     "exception": false,
     "start_time": "2021-05-10T15:31:14.103461",
     "status": "completed"
    },
    "tags": []
   },
   "outputs": [],
   "source": [
    "# Train the defined model on the dataset\n",
    "history = model.fit(train_gen, steps_per_epoch=train_length//BATCH_SIZE, \n",
    "                    validation_data=val_gen, validation_steps=val_length//BATCH_SIZE, \n",
    "                    epochs=EPOCHS)"
   ]
  },
  {
   "cell_type": "code",
   "execution_count": null,
   "metadata": {
    "papermill": {
     "duration": 0.570284,
     "end_time": "2021-05-10T16:54:34.556787",
     "exception": false,
     "start_time": "2021-05-10T16:54:33.986503",
     "status": "completed"
    },
    "tags": []
   },
   "outputs": [],
   "source": [
    "# Plot the loss and iou score over the epochs\n",
    "plt.figure(figsize=(20, 6))\n",
    "plt.subplot(121)\n",
    "plt.plot(history.history['iou_score'])\n",
    "plt.plot(history.history['val_iou_score'])\n",
    "plt.title('Model IoU Score')\n",
    "plt.ylabel('IoU Score')\n",
    "plt.xlabel('Epoch')\n",
    "plt.legend(['Train', 'Test'], loc='upper left')\n",
    "\n",
    "# Plot training & validation loss values\n",
    "plt.subplot(122)\n",
    "plt.plot(history.history['loss'])\n",
    "plt.plot(history.history['val_loss'])\n",
    "plt.title('Model Loss')\n",
    "plt.ylabel('Loss')\n",
    "plt.xlabel('Epoch')\n",
    "plt.legend(['Train', 'Test'], loc='upper left')\n",
    "plt.show()"
   ]
  },
  {
   "cell_type": "code",
   "execution_count": null,
   "metadata": {
    "papermill": {
     "duration": 0.368266,
     "end_time": "2021-05-10T16:54:35.192239",
     "exception": false,
     "start_time": "2021-05-10T16:54:34.823973",
     "status": "completed"
    },
    "tags": []
   },
   "outputs": [],
   "source": [
    "# Save the model to the output\n",
    "model.save_weights('weights.h5')"
   ]
  },
  {
   "cell_type": "code",
   "execution_count": null,
   "metadata": {
    "papermill": {
     "duration": 40.039253,
     "end_time": "2021-05-10T16:55:15.500923",
     "exception": false,
     "start_time": "2021-05-10T16:54:35.46167",
     "status": "completed"
    },
    "tags": []
   },
   "outputs": [],
   "source": [
    "# Evaluate the model on the test generator\n",
    "scores = model.evaluate(test_gen, steps=test_length//BATCH_SIZE)\n",
    "print('\\nLoss: {}'.format(round(scores[0], 3)))\n",
    "print('Average IoU: {}'.format(round(scores[1], 3)))\n",
    "print('Average Precision: {}'.format(round(scores[2], 3)))\n",
    "print('Average Recall: {}'.format(round(scores[3], 3)))"
   ]
  },
  {
   "cell_type": "code",
   "execution_count": null,
   "metadata": {
    "papermill": {
     "duration": 0.279193,
     "end_time": "2021-05-10T16:55:16.0496",
     "exception": false,
     "start_time": "2021-05-10T16:55:15.770407",
     "status": "completed"
    },
    "tags": []
   },
   "outputs": [],
   "source": [
    "def predict(model, path, coco, classes, image_size, batch_size):\n",
    "    temp_gen = getGenerator(path, coco, classes, image_size, batch_size)\n",
    "    images, masks = next(temp_gen)\n",
    "    prediction = model.predict(images)\n",
    "    \n",
    "    for i in range(batch_size):\n",
    "        plt.figure(figsize=(10, 20))\n",
    "        \n",
    "        plt.subplot(1, 3, 1)\n",
    "        plt.title('Image')\n",
    "        plt.imshow(images[i])\n",
    "        plt.axis('off')\n",
    "        \n",
    "        plt.subplot(1, 3, 2)\n",
    "        plt.title('True Mask')\n",
    "        plt.imshow(np.max(masks[i][:, :, 1:], axis=2))\n",
    "        plt.axis('off')\n",
    "        \n",
    "        pred_mask = np.round(prediction[i])\n",
    "        for c in range(274):\n",
    "            pred_mask[:, :, c] = pred_mask[:, :, c] * (c+1)\n",
    "            \n",
    "        plt.subplot(1, 3, 3)\n",
    "        plt.title('Predicted Mask')\n",
    "        plt.imshow(np.max(pred_mask, axis=2))\n",
    "        plt.axis('off')\n",
    "        \n",
    "        plt.show()"
   ]
  },
  {
   "cell_type": "code",
   "execution_count": null,
   "metadata": {
    "papermill": {
     "duration": 1.425706,
     "end_time": "2021-05-10T16:55:17.740864",
     "exception": false,
     "start_time": "2021-05-10T16:55:16.315158",
     "status": "completed"
    },
    "tags": []
   },
   "outputs": [],
   "source": [
    "# Visualise the predictions and the true masks\n",
    "predict(model, test_imgs_path, test_coco, test_classes, IMAGE_SIZE, 3)"
   ]
  }
 ],
 "metadata": {
  "kernelspec": {
   "display_name": "Python 3",
   "language": "python",
   "name": "python3"
  },
  "language_info": {
   "codemirror_mode": {
    "name": "ipython",
    "version": 3
   },
   "file_extension": ".py",
   "mimetype": "text/x-python",
   "name": "python",
   "nbconvert_exporter": "python",
   "pygments_lexer": "ipython3",
   "version": "3.8.5"
  }
 },
 "nbformat": 4,
 "nbformat_minor": 4
}
