{
 "cells": [
  {
   "cell_type": "code",
   "execution_count": 1,
   "metadata": {
    "_kg_hide-input": false,
    "_kg_hide-output": true,
    "execution": {
     "iopub.execute_input": "2021-04-13T05:52:36.267417Z",
     "iopub.status.busy": "2021-04-13T05:52:36.256762Z",
     "iopub.status.idle": "2021-04-13T05:52:50.632669Z",
     "shell.execute_reply": "2021-04-13T05:52:50.632052Z"
    },
    "papermill": {
     "duration": 14.389565,
     "end_time": "2021-04-13T05:52:50.632866",
     "exception": false,
     "start_time": "2021-04-13T05:52:36.243301",
     "status": "completed"
    },
    "tags": []
   },
   "outputs": [
    {
     "name": "stdout",
     "output_type": "stream",
     "text": [
      "Collecting pycocotools\r\n",
      "  Downloading pycocotools-2.0.2.tar.gz (23 kB)\r\n",
      "Requirement already satisfied: setuptools>=18.0 in /opt/conda/lib/python3.7/site-packages (from pycocotools) (49.6.0.post20201009)\r\n",
      "Requirement already satisfied: cython>=0.27.3 in /opt/conda/lib/python3.7/site-packages (from pycocotools) (0.29.21)\r\n",
      "Requirement already satisfied: matplotlib>=2.1.0 in /opt/conda/lib/python3.7/site-packages (from pycocotools) (3.3.3)\r\n",
      "Requirement already satisfied: python-dateutil>=2.1 in /opt/conda/lib/python3.7/site-packages (from matplotlib>=2.1.0->pycocotools) (2.8.1)\r\n",
      "Requirement already satisfied: pillow>=6.2.0 in /opt/conda/lib/python3.7/site-packages (from matplotlib>=2.1.0->pycocotools) (7.2.0)\r\n",
      "Requirement already satisfied: numpy>=1.15 in /opt/conda/lib/python3.7/site-packages (from matplotlib>=2.1.0->pycocotools) (1.19.5)\r\n",
      "Requirement already satisfied: cycler>=0.10 in /opt/conda/lib/python3.7/site-packages (from matplotlib>=2.1.0->pycocotools) (0.10.0)\r\n",
      "Requirement already satisfied: kiwisolver>=1.0.1 in /opt/conda/lib/python3.7/site-packages (from matplotlib>=2.1.0->pycocotools) (1.3.1)\r\n",
      "Requirement already satisfied: pyparsing!=2.0.4,!=2.1.2,!=2.1.6,>=2.0.3 in /opt/conda/lib/python3.7/site-packages (from matplotlib>=2.1.0->pycocotools) (2.4.7)\r\n",
      "Requirement already satisfied: six in /opt/conda/lib/python3.7/site-packages (from cycler>=0.10->matplotlib>=2.1.0->pycocotools) (1.15.0)\r\n",
      "Building wheels for collected packages: pycocotools\r\n",
      "  Building wheel for pycocotools (setup.py) ... \u001b[?25l-\b \b\\\b \b|\b \b/\b \b-\b \b\\\b \b|\b \b/\b \bdone\r\n",
      "\u001b[?25h  Created wheel for pycocotools: filename=pycocotools-2.0.2-cp37-cp37m-linux_x86_64.whl size=272643 sha256=3ef89343dd39792d1b04d890e73b07a0c6dda9568f1cf11bedfb9b261d6102d2\r\n",
      "  Stored in directory: /root/.cache/pip/wheels/bc/cf/1b/e95c99c5f9d1648be3f500ca55e7ce55f24818b0f48336adaf\r\n",
      "Successfully built pycocotools\r\n",
      "Installing collected packages: pycocotools\r\n",
      "Successfully installed pycocotools-2.0.2\r\n"
     ]
    }
   ],
   "source": [
    "# Install the pycoco library\n",
    "!pip install pycocotools"
   ]
  },
  {
   "cell_type": "code",
   "execution_count": 2,
   "metadata": {
    "execution": {
     "iopub.execute_input": "2021-04-13T05:52:50.665237Z",
     "iopub.status.busy": "2021-04-13T05:52:50.664513Z",
     "iopub.status.idle": "2021-04-13T05:52:52.959665Z",
     "shell.execute_reply": "2021-04-13T05:52:52.958280Z"
    },
    "papermill": {
     "duration": 2.31318,
     "end_time": "2021-04-13T05:52:52.959811",
     "exception": false,
     "start_time": "2021-04-13T05:52:50.646631",
     "status": "completed"
    },
    "tags": []
   },
   "outputs": [],
   "source": [
    "# Import the necessary libraries\n",
    "import numpy as np\n",
    "import pandas as pd\n",
    "import random\n",
    "import cv2\n",
    "from pycocotools.coco import COCO\n",
    "import matplotlib.pyplot as plt\n",
    "%matplotlib inline\n",
    "import imgaug as ia\n",
    "import imgaug.augmenters as iaa"
   ]
  },
  {
   "cell_type": "code",
   "execution_count": 3,
   "metadata": {
    "execution": {
     "iopub.execute_input": "2021-04-13T05:52:52.990288Z",
     "iopub.status.busy": "2021-04-13T05:52:52.988612Z",
     "iopub.status.idle": "2021-04-13T05:52:52.990889Z",
     "shell.execute_reply": "2021-04-13T05:52:52.991289Z"
    },
    "papermill": {
     "duration": 0.019121,
     "end_time": "2021-04-13T05:52:52.991415",
     "exception": false,
     "start_time": "2021-04-13T05:52:52.972294",
     "status": "completed"
    },
    "tags": []
   },
   "outputs": [],
   "source": [
    "# Define the image and annotation paths\n",
    "train_imgs_path = '../input/food-recognition-challenge/train-v0.4/train/images'\n",
    "train_anns_path = '../input/food-recognition-challenge/train-v0.4/train/annotations.json'\n",
    "\n",
    "val_imgs_path = '../input/food-recognition-challenge/val-v0.4/val/images'\n",
    "val_anns_path = '../input/food-recognition-challenge/val-v0.4/val/annotations.json'\n",
    "\n",
    "test_imgs_path = '../input/food-recognition-challenge/test_images-v0.4/val/images'\n",
    "test_anns_path = '../input/food-recognition-challenge/test_images-v0.4/val/annotations.json'"
   ]
  },
  {
   "cell_type": "markdown",
   "metadata": {
    "papermill": {
     "duration": 0.012124,
     "end_time": "2021-04-13T05:52:53.015627",
     "exception": false,
     "start_time": "2021-04-13T05:52:53.003503",
     "status": "completed"
    },
    "tags": []
   },
   "source": [
    "# Reference to Image Segmentation\n",
    "\n",
    "https://divamgupta.com/image-segmentation/2019/06/06/deep-learning-semantic-segmentation-keras.html"
   ]
  },
  {
   "cell_type": "code",
   "execution_count": 4,
   "metadata": {
    "execution": {
     "iopub.execute_input": "2021-04-13T05:52:53.048020Z",
     "iopub.status.busy": "2021-04-13T05:52:53.046314Z",
     "iopub.status.idle": "2021-04-13T05:52:53.048636Z",
     "shell.execute_reply": "2021-04-13T05:52:53.049029Z"
    },
    "papermill": {
     "duration": 0.021053,
     "end_time": "2021-04-13T05:52:53.049160",
     "exception": false,
     "start_time": "2021-04-13T05:52:53.028107",
     "status": "completed"
    },
    "tags": []
   },
   "outputs": [],
   "source": [
    "# Function to load JSON into a COCO api\n",
    "def getCOCO(anns_path):\n",
    "    # Initialize the COCO api for instance annotations\n",
    "    coco = COCO(anns_path)\n",
    "    \n",
    "    # Load the categories in a variable\n",
    "    catIDs = coco.getCatIds()\n",
    "    cats = coco.loadCats(catIDs)\n",
    "    \n",
    "    # Print number of categories\n",
    "    nms = [cat['name'] for cat in cats]\n",
    "    print('\\nNumber of COCO categories: {}'.format(len(nms)))\n",
    "    \n",
    "    # Create a dataframe of the count of each category\n",
    "    df = pd.DataFrame(columns=['Category', 'Count'])\n",
    "    \n",
    "    # Add each category and its count row by row\n",
    "    for i, catID in enumerate(catIDs):\n",
    "        imgIds = coco.getImgIds(catIds=catID)\n",
    "        df.loc[i] = [nms[i]] + [len(imgIds)]     \n",
    "        \n",
    "    return coco, df"
   ]
  },
  {
   "cell_type": "code",
   "execution_count": 5,
   "metadata": {
    "execution": {
     "iopub.execute_input": "2021-04-13T05:52:53.077330Z",
     "iopub.status.busy": "2021-04-13T05:52:53.076833Z",
     "iopub.status.idle": "2021-04-13T05:52:57.687794Z",
     "shell.execute_reply": "2021-04-13T05:52:57.687352Z"
    },
    "papermill": {
     "duration": 4.626583,
     "end_time": "2021-04-13T05:52:57.687919",
     "exception": false,
     "start_time": "2021-04-13T05:52:53.061336",
     "status": "completed"
    },
    "tags": []
   },
   "outputs": [
    {
     "name": "stdout",
     "output_type": "stream",
     "text": [
      "loading annotations into memory...\n",
      "Done (t=3.65s)\n",
      "creating index...\n",
      "index created!\n",
      "\n",
      "Number of COCO categories: 273\n"
     ]
    },
    {
     "data": {
      "text/html": [
       "<div>\n",
       "<style scoped>\n",
       "    .dataframe tbody tr th:only-of-type {\n",
       "        vertical-align: middle;\n",
       "    }\n",
       "\n",
       "    .dataframe tbody tr th {\n",
       "        vertical-align: top;\n",
       "    }\n",
       "\n",
       "    .dataframe thead th {\n",
       "        text-align: right;\n",
       "    }\n",
       "</style>\n",
       "<table border=\"1\" class=\"dataframe\">\n",
       "  <thead>\n",
       "    <tr style=\"text-align: right;\">\n",
       "      <th></th>\n",
       "      <th>Category</th>\n",
       "      <th>Count</th>\n",
       "    </tr>\n",
       "  </thead>\n",
       "  <tbody>\n",
       "    <tr>\n",
       "      <th>0</th>\n",
       "      <td>water</td>\n",
       "      <td>1835</td>\n",
       "    </tr>\n",
       "    <tr>\n",
       "      <th>1</th>\n",
       "      <td>pear</td>\n",
       "      <td>151</td>\n",
       "    </tr>\n",
       "    <tr>\n",
       "      <th>2</th>\n",
       "      <td>egg</td>\n",
       "      <td>626</td>\n",
       "    </tr>\n",
       "    <tr>\n",
       "      <th>3</th>\n",
       "      <td>grapes</td>\n",
       "      <td>94</td>\n",
       "    </tr>\n",
       "    <tr>\n",
       "      <th>4</th>\n",
       "      <td>butter</td>\n",
       "      <td>1008</td>\n",
       "    </tr>\n",
       "  </tbody>\n",
       "</table>\n",
       "</div>"
      ],
      "text/plain": [
       "  Category Count\n",
       "0    water  1835\n",
       "1     pear   151\n",
       "2      egg   626\n",
       "3   grapes    94\n",
       "4   butter  1008"
      ]
     },
     "execution_count": 5,
     "metadata": {},
     "output_type": "execute_result"
    }
   ],
   "source": [
    "# Load the annotations of the image dataset\n",
    "coco, classes = getCOCO(train_anns_path)\n",
    "\n",
    "# Preview a sample of the classes dataframe\n",
    "classes.head()"
   ]
  },
  {
   "cell_type": "markdown",
   "metadata": {
    "papermill": {
     "duration": 0.013418,
     "end_time": "2021-04-13T05:52:57.714715",
     "exception": false,
     "start_time": "2021-04-13T05:52:57.701297",
     "status": "completed"
    },
    "tags": []
   },
   "source": [
    "# Reference for Getting Masks\n",
    "\n",
    "https://towardsdatascience.com/master-the-coco-dataset-for-semantic-image-segmentation-part-2-of-2-c0d1f593096a\n",
    "\n",
    "https://github.com/virafpatrawala/COCO-Semantic-Segmentation/blob/master/COCOdataset_SemanticSegmentation_Demo.ipynb\n",
    "\n",
    "https://github.com/qubvel/segmentation_models/issues/137\n",
    "\n",
    "https://www.reddit.com/r/computervision/comments/ihh8n0/onehotencoding_with_multichannel_images/"
   ]
  },
  {
   "cell_type": "code",
   "execution_count": 6,
   "metadata": {
    "execution": {
     "iopub.execute_input": "2021-04-13T05:52:57.752042Z",
     "iopub.status.busy": "2021-04-13T05:52:57.751367Z",
     "iopub.status.idle": "2021-04-13T05:52:57.754827Z",
     "shell.execute_reply": "2021-04-13T05:52:57.754415Z"
    },
    "papermill": {
     "duration": 0.026871,
     "end_time": "2021-04-13T05:52:57.754935",
     "exception": false,
     "start_time": "2021-04-13T05:52:57.728064",
     "status": "completed"
    },
    "tags": []
   },
   "outputs": [],
   "source": [
    "# Function that gets images. \n",
    "# It is useful possible to get just a subset of images by setting subset to True. This option\n",
    "# can be useful for example to make first attempts of training without using the whole training set\n",
    "def getImgs(path, image_size, subset=False, subset_size=500):\n",
    "    \n",
    "    # Get image Ids\n",
    "    imgIds = coco.getImgIds()\n",
    "    \n",
    "    if subset:\n",
    "        imgIds = random.sample(imgIds, subset_size)\n",
    "        \n",
    "    images = coco.loadImgs(imgIds)\n",
    "    \n",
    "    # Get annotation Ids\n",
    "    annIds = coco.getAnnIds(imgIds)\n",
    "    anns = coco.loadAnns(annIds)\n",
    "    \n",
    "    img_lst = []\n",
    "    msk_lst = []\n",
    "    \n",
    "    for file in images:\n",
    "        # Read the image from the full file path\n",
    "        img = cv2.imread(path + '/' + file['file_name'])\n",
    "        img = cv2.cvtColor(img, cv2.COLOR_BGR2RGB)\n",
    "        \n",
    "        # Resize the image to the given size\n",
    "        img = cv2.resize(img, image_size)\n",
    "        \n",
    "        # Create a zero array with the given size and number of classes\n",
    "        full_mask = np.zeros((image_size[0], image_size[1], classes.shape[0] + 1))\n",
    "        \n",
    "        # Set the first channel to ones to represent the initial background\n",
    "        full_mask[:, :, 0] = np.logical_not(full_mask[:, :, 0])\n",
    "        \n",
    "        for i, ann in enumerate(anns):\n",
    "            # Check if the annotation belongs to the current image\n",
    "            if ann['image_id'] == file['id']:\n",
    "                annotation = anns.pop(i)\n",
    "                \n",
    "                # Get the category's name from the annotation's category Id\n",
    "                category = coco.loadCats(annotation['category_id'])[0]['name']\n",
    "                \n",
    "                # Get the binary mask for the annotation\n",
    "                mask = cv2.resize(coco.annToMask(annotation), image_size)\n",
    "                \n",
    "                # Get the channel index for the annotation\n",
    "                index = classes[classes.Category == category].index[0] + 1\n",
    "                \n",
    "                # Update the channel of the annotation\n",
    "                full_mask[:, :, index] = np.logical_or(full_mask[:, :, index], mask)\n",
    "                \n",
    "                # Update the background channel of the annotation\n",
    "                full_mask[:, :, 0] = np.logical_and(full_mask[:, :, 0], np.logical_not(mask))\n",
    "        \n",
    "        img_lst.append(img)\n",
    "        msk_lst.append(full_mask)\n",
    "                \n",
    "    return img_lst, msk_lst"
   ]
  },
  {
   "cell_type": "code",
   "execution_count": 7,
   "metadata": {
    "execution": {
     "iopub.execute_input": "2021-04-13T05:52:57.786575Z",
     "iopub.status.busy": "2021-04-13T05:52:57.786020Z",
     "iopub.status.idle": "2021-04-13T05:52:59.170164Z",
     "shell.execute_reply": "2021-04-13T05:52:59.170742Z"
    },
    "papermill": {
     "duration": 1.402487,
     "end_time": "2021-04-13T05:52:59.170950",
     "exception": false,
     "start_time": "2021-04-13T05:52:57.768463",
     "status": "completed"
    },
    "tags": []
   },
   "outputs": [
    {
     "name": "stdout",
     "output_type": "stream",
     "text": [
      "Number of images: 10\n",
      "Number of masks: 10\n"
     ]
    }
   ],
   "source": [
    "# Get the images and masks from the given path\n",
    "images, masks = getImgs(train_imgs_path, (224, 224), subset=True, subset_size=10)\n",
    "\n",
    "# Check if the number of images and masks are the same\n",
    "print('Number of images: {}'.format(len(images)))\n",
    "print('Number of masks: {}'.format(len(masks)))"
   ]
  },
  {
   "cell_type": "markdown",
   "metadata": {
    "papermill": {
     "duration": 0.014878,
     "end_time": "2021-04-13T05:52:59.200380",
     "exception": false,
     "start_time": "2021-04-13T05:52:59.185502",
     "status": "completed"
    },
    "tags": []
   },
   "source": [
    "# Reference for Model Building\n",
    "\n",
    "https://github.com/qubvel/segmentation_models#quick-start\n",
    "\n",
    "https://github.com/qubvel/segmentation_models/issues/374\n",
    "\n",
    "https://github.com/qubvel/segmentation_models/blob/master/examples/multiclass%20segmentation%20(camvid).ipynb\n",
    "\n",
    "https://github.com/qubvel/segmentation_models/issues/254"
   ]
  },
  {
   "cell_type": "code",
   "execution_count": 8,
   "metadata": {
    "_kg_hide-output": true,
    "execution": {
     "iopub.execute_input": "2021-04-13T05:52:59.233258Z",
     "iopub.status.busy": "2021-04-13T05:52:59.232572Z",
     "iopub.status.idle": "2021-04-13T05:53:11.359508Z",
     "shell.execute_reply": "2021-04-13T05:53:11.360108Z"
    },
    "papermill": {
     "duration": 12.146141,
     "end_time": "2021-04-13T05:53:11.360313",
     "exception": false,
     "start_time": "2021-04-13T05:52:59.214172",
     "status": "completed"
    },
    "tags": []
   },
   "outputs": [
    {
     "name": "stdout",
     "output_type": "stream",
     "text": [
      "Collecting segmentation_models\r\n",
      "  Downloading segmentation_models-1.0.1-py3-none-any.whl (33 kB)\r\n",
      "Collecting efficientnet==1.0.0\r\n",
      "  Downloading efficientnet-1.0.0-py3-none-any.whl (17 kB)\r\n",
      "Collecting image-classifiers==1.0.0\r\n",
      "  Downloading image_classifiers-1.0.0-py3-none-any.whl (19 kB)\r\n",
      "Collecting keras-applications<=1.0.8,>=1.0.7\r\n",
      "  Downloading Keras_Applications-1.0.8-py3-none-any.whl (50 kB)\r\n",
      "\u001b[K     |████████████████████████████████| 50 kB 1.5 MB/s \r\n",
      "\u001b[?25hRequirement already satisfied: scikit-image in /opt/conda/lib/python3.7/site-packages (from efficientnet==1.0.0->segmentation_models) (0.18.1)\r\n",
      "Requirement already satisfied: h5py in /opt/conda/lib/python3.7/site-packages (from keras-applications<=1.0.8,>=1.0.7->segmentation_models) (2.10.0)\r\n",
      "Requirement already satisfied: numpy>=1.9.1 in /opt/conda/lib/python3.7/site-packages (from keras-applications<=1.0.8,>=1.0.7->segmentation_models) (1.19.5)\r\n",
      "Requirement already satisfied: six in /opt/conda/lib/python3.7/site-packages (from h5py->keras-applications<=1.0.8,>=1.0.7->segmentation_models) (1.15.0)\r\n",
      "Requirement already satisfied: tifffile>=2019.7.26 in /opt/conda/lib/python3.7/site-packages (from scikit-image->efficientnet==1.0.0->segmentation_models) (2021.2.1)\r\n",
      "Requirement already satisfied: imageio>=2.3.0 in /opt/conda/lib/python3.7/site-packages (from scikit-image->efficientnet==1.0.0->segmentation_models) (2.9.0)\r\n",
      "Requirement already satisfied: pillow!=7.1.0,!=7.1.1,>=4.3.0 in /opt/conda/lib/python3.7/site-packages (from scikit-image->efficientnet==1.0.0->segmentation_models) (7.2.0)\r\n",
      "Requirement already satisfied: networkx>=2.0 in /opt/conda/lib/python3.7/site-packages (from scikit-image->efficientnet==1.0.0->segmentation_models) (2.5)\r\n",
      "Requirement already satisfied: scipy>=1.0.1 in /opt/conda/lib/python3.7/site-packages (from scikit-image->efficientnet==1.0.0->segmentation_models) (1.5.4)\r\n",
      "Requirement already satisfied: PyWavelets>=1.1.1 in /opt/conda/lib/python3.7/site-packages (from scikit-image->efficientnet==1.0.0->segmentation_models) (1.1.1)\r\n",
      "Requirement already satisfied: matplotlib!=3.0.0,>=2.0.0 in /opt/conda/lib/python3.7/site-packages (from scikit-image->efficientnet==1.0.0->segmentation_models) (3.3.3)\r\n",
      "Requirement already satisfied: cycler>=0.10 in /opt/conda/lib/python3.7/site-packages (from matplotlib!=3.0.0,>=2.0.0->scikit-image->efficientnet==1.0.0->segmentation_models) (0.10.0)\r\n",
      "Requirement already satisfied: pyparsing!=2.0.4,!=2.1.2,!=2.1.6,>=2.0.3 in /opt/conda/lib/python3.7/site-packages (from matplotlib!=3.0.0,>=2.0.0->scikit-image->efficientnet==1.0.0->segmentation_models) (2.4.7)\r\n",
      "Requirement already satisfied: kiwisolver>=1.0.1 in /opt/conda/lib/python3.7/site-packages (from matplotlib!=3.0.0,>=2.0.0->scikit-image->efficientnet==1.0.0->segmentation_models) (1.3.1)\r\n",
      "Requirement already satisfied: python-dateutil>=2.1 in /opt/conda/lib/python3.7/site-packages (from matplotlib!=3.0.0,>=2.0.0->scikit-image->efficientnet==1.0.0->segmentation_models) (2.8.1)\r\n",
      "Requirement already satisfied: decorator>=4.3.0 in /opt/conda/lib/python3.7/site-packages (from networkx>=2.0->scikit-image->efficientnet==1.0.0->segmentation_models) (4.4.2)\r\n",
      "Installing collected packages: keras-applications, image-classifiers, efficientnet, segmentation-models\r\n",
      "Successfully installed efficientnet-1.0.0 image-classifiers-1.0.0 keras-applications-1.0.8 segmentation-models-1.0.1\r\n",
      "env: SM_FRAMEWORK=tf.keras\n",
      "Segmentation Models: using `tf.keras` framework.\n"
     ]
    }
   ],
   "source": [
    "# Install and import the segmentation models library\n",
    "!pip install segmentation_models\n",
    "%env SM_FRAMEWORK=tf.keras\n",
    "import segmentation_models as sm"
   ]
  },
  {
   "cell_type": "code",
   "execution_count": 9,
   "metadata": {
    "execution": {
     "iopub.execute_input": "2021-04-13T05:53:11.401341Z",
     "iopub.status.busy": "2021-04-13T05:53:11.400836Z",
     "iopub.status.idle": "2021-04-13T05:53:17.183768Z",
     "shell.execute_reply": "2021-04-13T05:53:17.182835Z"
    },
    "papermill": {
     "duration": 5.804754,
     "end_time": "2021-04-13T05:53:17.183909",
     "exception": false,
     "start_time": "2021-04-13T05:53:11.379155",
     "status": "completed"
    },
    "tags": []
   },
   "outputs": [
    {
     "name": "stdout",
     "output_type": "stream",
     "text": [
      "Downloading data from https://github.com/qubvel/classification_models/releases/download/0.0.1/resnet34_imagenet_1000_no_top.h5\n",
      "85524480/85521592 [==============================] - 1s 0us/step\n"
     ]
    }
   ],
   "source": [
    "# Define the model to be trained\n",
    "model = sm.Unet('resnet34', encoder_weights='imagenet', classes=274, activation='softmax')\n",
    "model.compile('Adam', loss='categorical_crossentropy', metrics=[sm.metrics.iou_score, sm.metrics.precision, sm.metrics.recall])"
   ]
  },
  {
   "cell_type": "code",
   "execution_count": 10,
   "metadata": {
    "_kg_hide-output": true,
    "execution": {
     "iopub.execute_input": "2021-04-13T05:53:17.234042Z",
     "iopub.status.busy": "2021-04-13T05:53:17.233524Z",
     "iopub.status.idle": "2021-04-13T05:53:55.351613Z",
     "shell.execute_reply": "2021-04-13T05:53:55.350683Z"
    },
    "papermill": {
     "duration": 38.144558,
     "end_time": "2021-04-13T05:53:55.351748",
     "exception": false,
     "start_time": "2021-04-13T05:53:17.207190",
     "status": "completed"
    },
    "tags": []
   },
   "outputs": [
    {
     "name": "stdout",
     "output_type": "stream",
     "text": [
      "Epoch 1/50\n",
      "1/1 [==============================] - 11s 11s/step - loss: 5.5768 - iou_score: 1.1186e-04 - precision: 0.0036 - recall: 0.9673 - val_loss: 5.5421 - val_iou_score: 2.7004e-05 - val_precision: 0.0037 - val_recall: 0.9927\n",
      "Epoch 2/50\n",
      "1/1 [==============================] - 1s 571ms/step - loss: 5.3954 - iou_score: 1.4657e-04 - precision: 0.0039 - recall: 0.9673 - val_loss: 6.2944 - val_iou_score: 1.3672e-05 - val_precision: 0.0036 - val_recall: 0.9927\n",
      "Epoch 3/50\n",
      "1/1 [==============================] - 0s 491ms/step - loss: 5.2358 - iou_score: 2.7377e-04 - precision: 0.0044 - recall: 0.9675 - val_loss: 6.4169 - val_iou_score: 1.2146e-05 - val_precision: 0.0035 - val_recall: 0.9927\n",
      "Epoch 4/50\n",
      "1/1 [==============================] - 1s 512ms/step - loss: 5.1072 - iou_score: 3.3957e-04 - precision: 0.0045 - recall: 0.9676 - val_loss: 6.8957 - val_iou_score: 9.8745e-06 - val_precision: 0.0033 - val_recall: 0.9927\n",
      "Epoch 5/50\n",
      "1/1 [==============================] - 0s 497ms/step - loss: 4.9382 - iou_score: 4.1301e-04 - precision: 0.0048 - recall: 0.9677 - val_loss: 7.8407 - val_iou_score: 9.1726e-06 - val_precision: 0.0029 - val_recall: 0.9927\n",
      "Epoch 6/50\n",
      "1/1 [==============================] - 1s 501ms/step - loss: 4.7950 - iou_score: 6.1782e-04 - precision: 0.0052 - recall: 0.9680 - val_loss: 8.2749 - val_iou_score: 1.1028e-05 - val_precision: 0.0026 - val_recall: 0.9927\n",
      "Epoch 7/50\n",
      "1/1 [==============================] - 1s 588ms/step - loss: 4.6385 - iou_score: 6.0511e-04 - precision: 0.0052 - recall: 0.9680 - val_loss: 9.1713 - val_iou_score: 1.3473e-05 - val_precision: 0.0025 - val_recall: 0.9927\n",
      "Epoch 8/50\n",
      "1/1 [==============================] - 0s 464ms/step - loss: 4.5027 - iou_score: 6.0157e-04 - precision: 0.0052 - recall: 0.9680 - val_loss: 10.9131 - val_iou_score: 1.5313e-05 - val_precision: 0.0025 - val_recall: 0.9927\n",
      "Epoch 9/50\n",
      "1/1 [==============================] - 1s 536ms/step - loss: 4.3697 - iou_score: 9.1182e-04 - precision: 0.0056 - recall: 0.9685 - val_loss: 12.3236 - val_iou_score: 1.7182e-05 - val_precision: 0.0025 - val_recall: 0.9927\n",
      "Epoch 10/50\n",
      "1/1 [==============================] - 1s 521ms/step - loss: 4.2344 - iou_score: 8.6670e-04 - precision: 0.0055 - recall: 0.9684 - val_loss: 13.1192 - val_iou_score: 1.9474e-05 - val_precision: 0.0025 - val_recall: 0.9927\n",
      "Epoch 11/50\n",
      "1/1 [==============================] - 0s 469ms/step - loss: 4.1042 - iou_score: 0.0010 - precision: 0.0057 - recall: 0.9687 - val_loss: 13.1167 - val_iou_score: 2.2335e-05 - val_precision: 0.0025 - val_recall: 0.9927\n",
      "Epoch 12/50\n",
      "1/1 [==============================] - 1s 576ms/step - loss: 3.9728 - iou_score: 0.0012 - precision: 0.0059 - recall: 0.9690 - val_loss: 12.1429 - val_iou_score: 2.6372e-05 - val_precision: 0.0025 - val_recall: 0.9927\n",
      "Epoch 13/50\n",
      "1/1 [==============================] - 0s 493ms/step - loss: 3.8411 - iou_score: 0.0013 - precision: 0.0060 - recall: 0.9693 - val_loss: 11.0025 - val_iou_score: 3.1272e-05 - val_precision: 0.0025 - val_recall: 0.9927\n",
      "Epoch 14/50\n",
      "1/1 [==============================] - 1s 668ms/step - loss: 3.7115 - iou_score: 0.0014 - precision: 0.0060 - recall: 0.9694 - val_loss: 10.0973 - val_iou_score: 3.6541e-05 - val_precision: 0.0026 - val_recall: 0.9927\n",
      "Epoch 15/50\n",
      "1/1 [==============================] - 1s 530ms/step - loss: 3.5818 - iou_score: 0.0013 - precision: 0.0060 - recall: 0.9694 - val_loss: 9.3795 - val_iou_score: 4.2233e-05 - val_precision: 0.0027 - val_recall: 0.9927\n",
      "Epoch 16/50\n",
      "1/1 [==============================] - 1s 544ms/step - loss: 3.4512 - iou_score: 0.0014 - precision: 0.0060 - recall: 0.9694 - val_loss: 8.5189 - val_iou_score: 5.0148e-05 - val_precision: 0.0028 - val_recall: 0.9928\n",
      "Epoch 17/50\n",
      "1/1 [==============================] - 1s 547ms/step - loss: 3.3212 - iou_score: 0.0014 - precision: 0.0060 - recall: 0.9696 - val_loss: 7.5662 - val_iou_score: 6.1439e-05 - val_precision: 0.0030 - val_recall: 0.9928\n",
      "Epoch 18/50\n",
      "1/1 [==============================] - 1s 543ms/step - loss: 3.1924 - iou_score: 0.0015 - precision: 0.0061 - recall: 0.9698 - val_loss: 6.9393 - val_iou_score: 7.3833e-05 - val_precision: 0.0032 - val_recall: 0.9928\n",
      "Epoch 19/50\n",
      "1/1 [==============================] - 0s 495ms/step - loss: 3.0638 - iou_score: 0.0015 - precision: 0.0060 - recall: 0.9699 - val_loss: 6.6308 - val_iou_score: 8.4356e-05 - val_precision: 0.0033 - val_recall: 0.9928\n",
      "Epoch 20/50\n",
      "1/1 [==============================] - 1s 540ms/step - loss: 2.9355 - iou_score: 0.0016 - precision: 0.0061 - recall: 0.9700 - val_loss: 6.3741 - val_iou_score: 9.5021e-05 - val_precision: 0.0032 - val_recall: 0.9928\n",
      "Epoch 21/50\n",
      "1/1 [==============================] - 0s 485ms/step - loss: 2.8090 - iou_score: 0.0017 - precision: 0.0062 - recall: 0.9702 - val_loss: 5.9066 - val_iou_score: 1.1543e-04 - val_precision: 0.0032 - val_recall: 0.9928\n",
      "Epoch 22/50\n",
      "1/1 [==============================] - 0s 464ms/step - loss: 2.6828 - iou_score: 0.0018 - precision: 0.0063 - recall: 0.9705 - val_loss: 5.4563 - val_iou_score: 1.4346e-04 - val_precision: 0.0031 - val_recall: 0.9928\n",
      "Epoch 23/50\n",
      "1/1 [==============================] - 0s 477ms/step - loss: 2.5585 - iou_score: 0.0020 - precision: 0.0064 - recall: 0.9709 - val_loss: 5.4611 - val_iou_score: 1.5341e-04 - val_precision: 0.0030 - val_recall: 0.9929\n",
      "Epoch 24/50\n",
      "1/1 [==============================] - 0s 493ms/step - loss: 2.4375 - iou_score: 0.0021 - precision: 0.0065 - recall: 0.9712 - val_loss: 5.6082 - val_iou_score: 1.5385e-04 - val_precision: 0.0029 - val_recall: 0.9929\n",
      "Epoch 25/50\n",
      "1/1 [==============================] - 0s 496ms/step - loss: 2.3181 - iou_score: 0.0022 - precision: 0.0066 - recall: 0.9715 - val_loss: 5.6440 - val_iou_score: 1.5536e-04 - val_precision: 0.0028 - val_recall: 0.9929\n",
      "Epoch 26/50\n",
      "1/1 [==============================] - 1s 549ms/step - loss: 2.2001 - iou_score: 0.0024 - precision: 0.0068 - recall: 0.9718 - val_loss: 5.5658 - val_iou_score: 1.5847e-04 - val_precision: 0.0027 - val_recall: 0.9929\n",
      "Epoch 27/50\n",
      "1/1 [==============================] - 1s 598ms/step - loss: 2.0852 - iou_score: 0.0026 - precision: 0.0069 - recall: 0.9720 - val_loss: 5.5717 - val_iou_score: 1.5640e-04 - val_precision: 0.0026 - val_recall: 0.9929\n",
      "Epoch 28/50\n",
      "1/1 [==============================] - 0s 466ms/step - loss: 1.9722 - iou_score: 0.0027 - precision: 0.0070 - recall: 0.9723 - val_loss: 5.6001 - val_iou_score: 1.5277e-04 - val_precision: 0.0025 - val_recall: 0.9929\n",
      "Epoch 29/50\n",
      "1/1 [==============================] - 1s 509ms/step - loss: 1.8620 - iou_score: 0.0028 - precision: 0.0071 - recall: 0.9725 - val_loss: 5.4772 - val_iou_score: 1.5786e-04 - val_precision: 0.0025 - val_recall: 0.9929\n",
      "Epoch 30/50\n",
      "1/1 [==============================] - 0s 478ms/step - loss: 1.7544 - iou_score: 0.0030 - precision: 0.0072 - recall: 0.9728 - val_loss: 5.2461 - val_iou_score: 1.7146e-04 - val_precision: 0.0027 - val_recall: 0.9929\n",
      "Epoch 31/50\n",
      "1/1 [==============================] - 1s 541ms/step - loss: 1.6498 - iou_score: 0.0032 - precision: 0.0074 - recall: 0.9732 - val_loss: 5.0383 - val_iou_score: 1.8515e-04 - val_precision: 0.0028 - val_recall: 0.9929\n",
      "Epoch 32/50\n",
      "1/1 [==============================] - 1s 510ms/step - loss: 1.5501 - iou_score: 0.0034 - precision: 0.0076 - recall: 0.9736 - val_loss: 4.8351 - val_iou_score: 1.9832e-04 - val_precision: 0.0029 - val_recall: 0.9929\n",
      "Epoch 33/50\n",
      "1/1 [==============================] - 0s 475ms/step - loss: 1.4531 - iou_score: 0.0037 - precision: 0.0079 - recall: 0.9739 - val_loss: 4.6743 - val_iou_score: 2.0899e-04 - val_precision: 0.0031 - val_recall: 0.9929\n",
      "Epoch 34/50\n",
      "1/1 [==============================] - 1s 637ms/step - loss: 1.3599 - iou_score: 0.0039 - precision: 0.0080 - recall: 0.9742 - val_loss: 4.5552 - val_iou_score: 2.1648e-04 - val_precision: 0.0032 - val_recall: 0.9929\n",
      "Epoch 35/50\n",
      "1/1 [==============================] - 1s 729ms/step - loss: 1.2713 - iou_score: 0.0041 - precision: 0.0082 - recall: 0.9745 - val_loss: 4.4530 - val_iou_score: 2.2369e-04 - val_precision: 0.0033 - val_recall: 0.9929\n",
      "Epoch 36/50\n",
      "1/1 [==============================] - 1s 520ms/step - loss: 1.1880 - iou_score: 0.0044 - precision: 0.0085 - recall: 0.9750 - val_loss: 4.3876 - val_iou_score: 2.3025e-04 - val_precision: 0.0035 - val_recall: 0.9929\n",
      "Epoch 37/50\n",
      "1/1 [==============================] - 0s 471ms/step - loss: 1.1084 - iou_score: 0.0047 - precision: 0.0088 - recall: 0.9754 - val_loss: 4.2841 - val_iou_score: 2.4418e-04 - val_precision: 0.0036 - val_recall: 0.9930\n",
      "Epoch 38/50\n",
      "1/1 [==============================] - 0s 484ms/step - loss: 1.0337 - iou_score: 0.0050 - precision: 0.0091 - recall: 0.9758 - val_loss: 4.1679 - val_iou_score: 2.5556e-04 - val_precision: 0.0038 - val_recall: 0.9930\n",
      "Epoch 39/50\n",
      "1/1 [==============================] - 0s 489ms/step - loss: 0.9633 - iou_score: 0.0053 - precision: 0.0094 - recall: 0.9761 - val_loss: 4.1443 - val_iou_score: 2.6715e-04 - val_precision: 0.0038 - val_recall: 0.9930\n",
      "Epoch 40/50\n",
      "1/1 [==============================] - 1s 594ms/step - loss: 0.8986 - iou_score: 0.0056 - precision: 0.0096 - recall: 0.9765 - val_loss: 4.0747 - val_iou_score: 2.7728e-04 - val_precision: 0.0040 - val_recall: 0.9930\n",
      "Epoch 41/50\n",
      "1/1 [==============================] - 1s 518ms/step - loss: 0.8382 - iou_score: 0.0059 - precision: 0.0100 - recall: 0.9768 - val_loss: 4.0479 - val_iou_score: 2.8368e-04 - val_precision: 0.0041 - val_recall: 0.9930\n",
      "Epoch 42/50\n",
      "1/1 [==============================] - 0s 469ms/step - loss: 0.7815 - iou_score: 0.0063 - precision: 0.0104 - recall: 0.9773 - val_loss: 4.0426 - val_iou_score: 3.0609e-04 - val_precision: 0.0040 - val_recall: 0.9930\n",
      "Epoch 43/50\n",
      "1/1 [==============================] - 1s 638ms/step - loss: 0.7281 - iou_score: 0.0067 - precision: 0.0109 - recall: 0.9779 - val_loss: 4.0400 - val_iou_score: 3.0905e-04 - val_precision: 0.0040 - val_recall: 0.9930\n",
      "Epoch 44/50\n",
      "1/1 [==============================] - 1s 623ms/step - loss: 0.6834 - iou_score: 0.0070 - precision: 0.0113 - recall: 0.9782 - val_loss: 3.9806 - val_iou_score: 2.9357e-04 - val_precision: 0.0041 - val_recall: 0.9930\n",
      "Epoch 45/50\n",
      "1/1 [==============================] - 0s 476ms/step - loss: 0.6390 - iou_score: 0.0074 - precision: 0.0116 - recall: 0.9787 - val_loss: 3.9958 - val_iou_score: 2.4573e-04 - val_precision: 0.0041 - val_recall: 0.9929\n",
      "Epoch 46/50\n",
      "1/1 [==============================] - 1s 588ms/step - loss: 0.6007 - iou_score: 0.0077 - precision: 0.0120 - recall: 0.9791 - val_loss: 4.0166 - val_iou_score: 2.1761e-04 - val_precision: 0.0041 - val_recall: 0.9929\n",
      "Epoch 47/50\n",
      "1/1 [==============================] - 1s 572ms/step - loss: 0.5634 - iou_score: 0.0081 - precision: 0.0125 - recall: 0.9795 - val_loss: 4.0435 - val_iou_score: 2.0051e-04 - val_precision: 0.0041 - val_recall: 0.9929\n",
      "Epoch 48/50\n",
      "1/1 [==============================] - 0s 462ms/step - loss: 0.5282 - iou_score: 0.0086 - precision: 0.0132 - recall: 0.9801 - val_loss: 4.0727 - val_iou_score: 1.8235e-04 - val_precision: 0.0040 - val_recall: 0.9929\n",
      "Epoch 49/50\n",
      "1/1 [==============================] - 0s 374ms/step - loss: 0.4956 - iou_score: 0.0090 - precision: 0.0137 - recall: 0.9805 - val_loss: 4.0844 - val_iou_score: 1.7725e-04 - val_precision: 0.0040 - val_recall: 0.9929\n",
      "Epoch 50/50\n",
      "1/1 [==============================] - 0s 372ms/step - loss: 0.4701 - iou_score: 0.0093 - precision: 0.0142 - recall: 0.9808 - val_loss: 4.1464 - val_iou_score: 1.5024e-04 - val_precision: 0.0039 - val_recall: 0.9929\n"
     ]
    }
   ],
   "source": [
    "# Train the defined model on the dataset\n",
    "history = model.fit(x=np.array(images), y=np.array(masks), validation_split=0.1, batch_size=20, epochs=50)"
   ]
  },
  {
   "cell_type": "code",
   "execution_count": 11,
   "metadata": {
    "execution": {
     "iopub.execute_input": "2021-04-13T05:53:55.495626Z",
     "iopub.status.busy": "2021-04-13T05:53:55.494760Z",
     "iopub.status.idle": "2021-04-13T05:53:55.769475Z",
     "shell.execute_reply": "2021-04-13T05:53:55.769892Z"
    },
    "papermill": {
     "duration": 0.357632,
     "end_time": "2021-04-13T05:53:55.770034",
     "exception": false,
     "start_time": "2021-04-13T05:53:55.412402",
     "status": "completed"
    },
    "tags": []
   },
   "outputs": [
    {
     "data": {
      "image/png": "[encoded data removed]",
      "text/plain": [
       "<Figure size 1440x432 with 2 Axes>"
      ]
     },
     "metadata": {
      "needs_background": "light"
     },
     "output_type": "display_data"
    }
   ],
   "source": [
    "# Plot the loss and iou score over the epochs\n",
    "plt.figure(figsize=(20, 6))\n",
    "plt.subplot(121)\n",
    "plt.plot(history.history['iou_score'])\n",
    "plt.plot(history.history['val_iou_score'])\n",
    "plt.title('Model iou_score')\n",
    "plt.ylabel('iou_score')\n",
    "plt.xlabel('Epoch')\n",
    "plt.legend(['Train', 'Test'], loc='upper left')\n",
    "\n",
    "# Plot training & validation loss values\n",
    "plt.subplot(122)\n",
    "plt.plot(history.history['loss'])\n",
    "plt.plot(history.history['val_loss'])\n",
    "plt.title('Model loss')\n",
    "plt.ylabel('Loss')\n",
    "plt.xlabel('Epoch')\n",
    "plt.legend(['Train', 'Test'], loc='upper left')\n",
    "plt.show()"
   ]
  },
  {
   "cell_type": "code",
   "execution_count": 12,
   "metadata": {
    "execution": {
     "iopub.execute_input": "2021-04-13T05:53:55.903825Z",
     "iopub.status.busy": "2021-04-13T05:53:55.903277Z",
     "iopub.status.idle": "2021-04-13T05:53:56.225808Z",
     "shell.execute_reply": "2021-04-13T05:53:56.224723Z"
    },
    "papermill": {
     "duration": 0.394113,
     "end_time": "2021-04-13T05:53:56.225962",
     "exception": false,
     "start_time": "2021-04-13T05:53:55.831849",
     "status": "completed"
    },
    "tags": []
   },
   "outputs": [],
   "source": [
    "# Save the model to the output\n",
    "model.save_weights('trained_model.h5')"
   ]
  },
  {
   "cell_type": "code",
   "execution_count": 13,
   "metadata": {
    "execution": {
     "iopub.execute_input": "2021-04-13T05:53:56.354661Z",
     "iopub.status.busy": "2021-04-13T05:53:56.352929Z",
     "iopub.status.idle": "2021-04-13T05:53:56.355227Z",
     "shell.execute_reply": "2021-04-13T05:53:56.355638Z"
    },
    "papermill": {
     "duration": 0.06779,
     "end_time": "2021-04-13T05:53:56.355770",
     "exception": false,
     "start_time": "2021-04-13T05:53:56.287980",
     "status": "completed"
    },
    "tags": []
   },
   "outputs": [],
   "source": [
    "# # Load the trained model weights\n",
    "# weights_path = '../input/food-recognition-model/trained_model.h5'\n",
    "# model.load_weights(weights_path)"
   ]
  }
 ],
 "metadata": {
  "kernelspec": {
   "display_name": "Python 3",
   "language": "python",
   "name": "python3"
  },
  "language_info": {
   "codemirror_mode": {
    "name": "ipython",
    "version": 3
   },
   "file_extension": ".py",
   "mimetype": "text/x-python",
   "name": "python",
   "nbconvert_exporter": "python",
   "pygments_lexer": "ipython3",
   "version": "3.7.9"
  },
  "papermill": {
   "default_parameters": {},
   "duration": 88.785423,
   "end_time": "2021-04-13T05:54:00.090662",
   "environment_variables": {},
   "exception": null,
   "input_path": "__notebook__.ipynb",
   "output_path": "__notebook__.ipynb",
   "parameters": {},
   "start_time": "2021-04-13T05:52:31.305239",
   "version": "2.2.2"
  }
 },
 "nbformat": 4,
 "nbformat_minor": 4
}
