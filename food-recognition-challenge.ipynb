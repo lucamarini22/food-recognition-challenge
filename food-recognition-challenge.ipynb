{
 "cells": [
  {
   "cell_type": "code",
   "execution_count": 1,
   "id": "persistent-catering",
   "metadata": {
    "_kg_hide-input": false,
    "_kg_hide-output": true,
    "execution": {
     "iopub.execute_input": "2021-04-29T07:09:20.459800Z",
     "iopub.status.busy": "2021-04-29T07:09:20.458301Z",
     "iopub.status.idle": "2021-04-29T07:09:35.685256Z",
     "shell.execute_reply": "2021-04-29T07:09:35.684584Z"
    },
    "papermill": {
     "duration": 15.241261,
     "end_time": "2021-04-29T07:09:35.685421",
     "exception": false,
     "start_time": "2021-04-29T07:09:20.444160",
     "status": "completed"
    },
    "tags": []
   },
   "outputs": [
    {
     "name": "stdout",
     "output_type": "stream",
     "text": [
      "Collecting pycocotools\r\n",
      "  Downloading pycocotools-2.0.2.tar.gz (23 kB)\r\n",
      "Requirement already satisfied: setuptools>=18.0 in /opt/conda/lib/python3.7/site-packages (from pycocotools) (49.6.0.post20210108)\r\n",
      "Requirement already satisfied: cython>=0.27.3 in /opt/conda/lib/python3.7/site-packages (from pycocotools) (0.29.23)\r\n",
      "Requirement already satisfied: matplotlib>=2.1.0 in /opt/conda/lib/python3.7/site-packages (from pycocotools) (3.4.1)\r\n",
      "Requirement already satisfied: pillow>=6.2.0 in /opt/conda/lib/python3.7/site-packages (from matplotlib>=2.1.0->pycocotools) (7.2.0)\r\n",
      "Requirement already satisfied: kiwisolver>=1.0.1 in /opt/conda/lib/python3.7/site-packages (from matplotlib>=2.1.0->pycocotools) (1.3.1)\r\n",
      "Requirement already satisfied: cycler>=0.10 in /opt/conda/lib/python3.7/site-packages (from matplotlib>=2.1.0->pycocotools) (0.10.0)\r\n",
      "Requirement already satisfied: numpy>=1.16 in /opt/conda/lib/python3.7/site-packages (from matplotlib>=2.1.0->pycocotools) (1.19.5)\r\n",
      "Requirement already satisfied: python-dateutil>=2.7 in /opt/conda/lib/python3.7/site-packages (from matplotlib>=2.1.0->pycocotools) (2.8.1)\r\n",
      "Requirement already satisfied: pyparsing>=2.2.1 in /opt/conda/lib/python3.7/site-packages (from matplotlib>=2.1.0->pycocotools) (2.4.7)\r\n",
      "Requirement already satisfied: six in /opt/conda/lib/python3.7/site-packages (from cycler>=0.10->matplotlib>=2.1.0->pycocotools) (1.15.0)\r\n",
      "Building wheels for collected packages: pycocotools\r\n",
      "  Building wheel for pycocotools (setup.py) ... \u001b[?25l-\b \b\\\b \b|\b \b/\b \b-\b \b\\\b \b|\b \b/\b \bdone\r\n",
      "\u001b[?25h  Created wheel for pycocotools: filename=pycocotools-2.0.2-cp37-cp37m-linux_x86_64.whl size=272452 sha256=74edf70b5b94024507b34d6d4a01fcf75cb4d468fc9f1ded073df613668d862b\r\n",
      "  Stored in directory: /root/.cache/pip/wheels/bc/cf/1b/e95c99c5f9d1648be3f500ca55e7ce55f24818b0f48336adaf\r\n",
      "Successfully built pycocotools\r\n",
      "Installing collected packages: pycocotools\r\n",
      "Successfully installed pycocotools-2.0.2\r\n"
     ]
    }
   ],
   "source": [
    "# Install the pycoco library\n",
    "!pip install pycocotools"
   ]
  },
  {
   "cell_type": "code",
   "execution_count": 2,
   "id": "major-context",
   "metadata": {
    "execution": {
     "iopub.execute_input": "2021-04-29T07:09:35.725886Z",
     "iopub.status.busy": "2021-04-29T07:09:35.724862Z",
     "iopub.status.idle": "2021-04-29T07:09:35.860187Z",
     "shell.execute_reply": "2021-04-29T07:09:35.859155Z"
    },
    "papermill": {
     "duration": 0.157371,
     "end_time": "2021-04-29T07:09:35.860328",
     "exception": false,
     "start_time": "2021-04-29T07:09:35.702957",
     "status": "completed"
    },
    "tags": []
   },
   "outputs": [],
   "source": [
    "# Import the necessary libraries\n",
    "import numpy as np\n",
    "import pandas as pd\n",
    "import os\n",
    "import random\n",
    "import cv2\n",
    "from pycocotools.coco import COCO\n",
    "import matplotlib.pyplot as plt\n",
    "%matplotlib inline"
   ]
  },
  {
   "cell_type": "code",
   "execution_count": 3,
   "id": "median-virgin",
   "metadata": {
    "execution": {
     "iopub.execute_input": "2021-04-29T07:09:35.894314Z",
     "iopub.status.busy": "2021-04-29T07:09:35.893366Z",
     "iopub.status.idle": "2021-04-29T07:09:35.895749Z",
     "shell.execute_reply": "2021-04-29T07:09:35.896169Z"
    },
    "papermill": {
     "duration": 0.021103,
     "end_time": "2021-04-29T07:09:35.896302",
     "exception": false,
     "start_time": "2021-04-29T07:09:35.875199",
     "status": "completed"
    },
    "tags": []
   },
   "outputs": [],
   "source": [
    "# Define the image and annotation paths\n",
    "train_imgs_path = '../input/food-recognition-challenge/train-v0.4/train/images'\n",
    "train_anns_path = '../input/food-recognition-challenge/train-v0.4/train/annotations.json'\n",
    "\n",
    "val_imgs_path = '../input/food-recognition-challenge/val-v0.4/val/images'\n",
    "val_anns_path = '../input/food-recognition-challenge/val-v0.4/val/annotations.json'\n",
    "\n",
    "test_imgs_path = '../input/food-recognition-challenge/test_images-v0.4/val/images'\n",
    "test_anns_path = '../input/food-recognition-challenge/test_images-v0.4/val/annotations.json'"
   ]
  },
  {
   "cell_type": "markdown",
   "id": "given-adrian",
   "metadata": {
    "papermill": {
     "duration": 0.01415,
     "end_time": "2021-04-29T07:09:35.924935",
     "exception": false,
     "start_time": "2021-04-29T07:09:35.910785",
     "status": "completed"
    },
    "tags": []
   },
   "source": [
    "# Reference to Image Segmentation\n",
    "\n",
    "https://divamgupta.com/image-segmentation/2019/06/06/deep-learning-semantic-segmentation-keras.html"
   ]
  },
  {
   "cell_type": "code",
   "execution_count": 4,
   "id": "german-stream",
   "metadata": {
    "execution": {
     "iopub.execute_input": "2021-04-29T07:09:35.959858Z",
     "iopub.status.busy": "2021-04-29T07:09:35.958997Z",
     "iopub.status.idle": "2021-04-29T07:09:35.961325Z",
     "shell.execute_reply": "2021-04-29T07:09:35.961871Z"
    },
    "papermill": {
     "duration": 0.022783,
     "end_time": "2021-04-29T07:09:35.961995",
     "exception": false,
     "start_time": "2021-04-29T07:09:35.939212",
     "status": "completed"
    },
    "tags": []
   },
   "outputs": [],
   "source": [
    "# Function to load JSON into a COCO api\n",
    "def getCOCO(anns_path):\n",
    "    # Initialize the COCO api for instance annotations\n",
    "    coco = COCO(anns_path)\n",
    "    \n",
    "    # Load the categories in a variable\n",
    "    catIDs = coco.getCatIds()\n",
    "    cats = coco.loadCats(catIDs)\n",
    "    \n",
    "    # Print number of categories\n",
    "    nms = [cat['name'] for cat in cats]\n",
    "    \n",
    "    # Create a dataframe of the count of each category\n",
    "    df = pd.DataFrame(columns=['Category', 'ID', 'Count'])\n",
    "    \n",
    "    # Add each category and its count row by row\n",
    "    for i, catID in enumerate(catIDs):\n",
    "        imgIds = coco.getImgIds(catIds=catID)\n",
    "        df.loc[i] = [nms[i]] + [catID] + [len(imgIds)]     \n",
    "        \n",
    "    return coco, df"
   ]
  },
  {
   "cell_type": "code",
   "execution_count": 5,
   "id": "color-consolidation",
   "metadata": {
    "_kg_hide-output": true,
    "execution": {
     "iopub.execute_input": "2021-04-29T07:09:35.994737Z",
     "iopub.status.busy": "2021-04-29T07:09:35.994221Z",
     "iopub.status.idle": "2021-04-29T07:09:41.859386Z",
     "shell.execute_reply": "2021-04-29T07:09:41.858914Z"
    },
    "papermill": {
     "duration": 5.883051,
     "end_time": "2021-04-29T07:09:41.859552",
     "exception": false,
     "start_time": "2021-04-29T07:09:35.976501",
     "status": "completed"
    },
    "tags": []
   },
   "outputs": [
    {
     "name": "stdout",
     "output_type": "stream",
     "text": [
      "loading annotations into memory...\n",
      "Done (t=3.43s)\n",
      "creating index...\n",
      "index created!\n",
      "loading annotations into memory...\n",
      "Done (t=0.16s)\n",
      "creating index...\n",
      "index created!\n",
      "loading annotations into memory...\n",
      "Done (t=0.14s)\n",
      "creating index...\n",
      "index created!\n"
     ]
    }
   ],
   "source": [
    "# Load the annotations of the image dataset\n",
    "train_coco, train_classes = getCOCO(train_anns_path)\n",
    "val_coco, val_classes = getCOCO(val_anns_path)\n",
    "test_coco, test_classes = getCOCO(test_anns_path)"
   ]
  },
  {
   "cell_type": "code",
   "execution_count": 6,
   "id": "understood-riverside",
   "metadata": {
    "execution": {
     "iopub.execute_input": "2021-04-29T07:09:41.895981Z",
     "iopub.status.busy": "2021-04-29T07:09:41.895302Z",
     "iopub.status.idle": "2021-04-29T07:09:41.898302Z",
     "shell.execute_reply": "2021-04-29T07:09:41.898690Z"
    },
    "papermill": {
     "duration": 0.024192,
     "end_time": "2021-04-29T07:09:41.898818",
     "exception": false,
     "start_time": "2021-04-29T07:09:41.874626",
     "status": "completed"
    },
    "tags": []
   },
   "outputs": [],
   "source": [
    "def getMask(image_id, coco, classes, image_size):\n",
    "    # Create a zero array with the given size and number of classes\n",
    "    mask = np.zeros((image_size[0], image_size[1], 274))\n",
    "\n",
    "    annIds = coco.getAnnIds(int(image_id))\n",
    "    anns = coco.loadAnns(annIds)\n",
    "\n",
    "    for i, ann in enumerate(anns):\n",
    "        # Get the binary mask for the annotation\n",
    "        binary = cv2.resize(coco.annToMask(ann), image_size)\n",
    "\n",
    "        # Get the channel index for the annotation\n",
    "        channel = classes[classes.ID == ann['category_id']].index[0] + 1\n",
    "\n",
    "        # Update the channel of the annotation\n",
    "        mask[:, :, channel] = binary\n",
    "\n",
    "        # Update the background channel of the annotation\n",
    "        if i == 0:\n",
    "            mask[:, :, 0] = np.logical_or(mask[:, :, 0], np.logical_not(binary))\n",
    "        else:\n",
    "            mask[:, :, 0] = np.logical_and(mask[:, :, 0], np.logical_not(binary))\n",
    "\n",
    "    return mask"
   ]
  },
  {
   "cell_type": "code",
   "execution_count": 7,
   "id": "ideal-magazine",
   "metadata": {
    "execution": {
     "iopub.execute_input": "2021-04-29T07:09:41.935676Z",
     "iopub.status.busy": "2021-04-29T07:09:41.935075Z",
     "iopub.status.idle": "2021-04-29T07:09:41.938780Z",
     "shell.execute_reply": "2021-04-29T07:09:41.938333Z"
    },
    "papermill": {
     "duration": 0.025692,
     "end_time": "2021-04-29T07:09:41.938886",
     "exception": false,
     "start_time": "2021-04-29T07:09:41.913194",
     "status": "completed"
    },
    "tags": []
   },
   "outputs": [],
   "source": [
    "def getGenerator(img_folder, coco, classes, image_size, batch_size):\n",
    "    c = 0\n",
    "    n = os.listdir(img_folder)\n",
    "    random.shuffle(n)\n",
    "    \n",
    "    while (True):\n",
    "        img_batch = np.zeros((batch_size, image_size[0], image_size[1], 3)).astype('int')\n",
    "        mask_batch = np.zeros((batch_size, image_size[0], image_size[1], 274)).astype('int')\n",
    "\n",
    "        for i in range(c, c + batch_size):\n",
    "            img = cv2.imread(img_folder + '/' + n[i])\n",
    "            img =  cv2.resize(img, image_size)\n",
    "            img = cv2.cvtColor(img, cv2.COLOR_BGR2RGB)\n",
    "            img_batch[i-c] = img\n",
    "\n",
    "            mask = getMask(n[i][1:-4], coco, classes, image_size)\n",
    "            mask_batch[i-c] = mask\n",
    "\n",
    "        c += batch_size\n",
    "        if(c + batch_size >= len(os.listdir(img_folder))):\n",
    "            c = 0\n",
    "            random.shuffle(n)\n",
    "\n",
    "        yield img_batch, mask_batch"
   ]
  },
  {
   "cell_type": "code",
   "execution_count": 8,
   "id": "silver-diameter",
   "metadata": {
    "execution": {
     "iopub.execute_input": "2021-04-29T07:09:41.973301Z",
     "iopub.status.busy": "2021-04-29T07:09:41.972787Z",
     "iopub.status.idle": "2021-04-29T07:09:42.921892Z",
     "shell.execute_reply": "2021-04-29T07:09:42.922474Z"
    },
    "papermill": {
     "duration": 0.969098,
     "end_time": "2021-04-29T07:09:42.922674",
     "exception": false,
     "start_time": "2021-04-29T07:09:41.953576",
     "status": "completed"
    },
    "tags": []
   },
   "outputs": [
    {
     "name": "stdout",
     "output_type": "stream",
     "text": [
      "Number of training images: 24120\n",
      "Number of validation images: 1269\n",
      "Number of test images: 1269\n"
     ]
    }
   ],
   "source": [
    "# Get the generators from the paths\n",
    "IMAGE_SIZE = (32, 32)\n",
    "BATCH_SIZE = 10\n",
    "\n",
    "train_gen = getGenerator(train_imgs_path, train_coco, train_classes, image_size=IMAGE_SIZE, batch_size=BATCH_SIZE)\n",
    "train_length = len(os.listdir(train_imgs_path))\n",
    "print('Number of training images: {}'.format(train_length))\n",
    "\n",
    "val_gen = getGenerator(val_imgs_path, val_coco, val_classes, image_size=IMAGE_SIZE, batch_size=BATCH_SIZE)\n",
    "val_length = len(os.listdir(val_imgs_path))\n",
    "print('Number of validation images: {}'.format(val_length))\n",
    "\n",
    "test_gen = getGenerator(test_imgs_path, test_coco, test_classes, image_size=IMAGE_SIZE, batch_size=BATCH_SIZE)\n",
    "test_length = len(os.listdir(test_imgs_path))\n",
    "print('Number of test images: {}'.format(test_length))"
   ]
  },
  {
   "cell_type": "code",
   "execution_count": 9,
   "id": "liked-alfred",
   "metadata": {
    "_kg_hide-output": true,
    "execution": {
     "iopub.execute_input": "2021-04-29T07:09:42.964730Z",
     "iopub.status.busy": "2021-04-29T07:09:42.957283Z",
     "iopub.status.idle": "2021-04-29T07:09:56.011871Z",
     "shell.execute_reply": "2021-04-29T07:09:56.012805Z"
    },
    "papermill": {
     "duration": 13.074859,
     "end_time": "2021-04-29T07:09:56.013018",
     "exception": false,
     "start_time": "2021-04-29T07:09:42.938159",
     "status": "completed"
    },
    "tags": []
   },
   "outputs": [
    {
     "name": "stdout",
     "output_type": "stream",
     "text": [
      "Collecting segmentation_models\r\n",
      "  Downloading segmentation_models-1.0.1-py3-none-any.whl (33 kB)\r\n",
      "Collecting efficientnet==1.0.0\r\n",
      "  Downloading efficientnet-1.0.0-py3-none-any.whl (17 kB)\r\n",
      "Collecting keras-applications<=1.0.8,>=1.0.7\r\n",
      "  Downloading Keras_Applications-1.0.8-py3-none-any.whl (50 kB)\r\n",
      "\u001b[K     |████████████████████████████████| 50 kB 1.8 MB/s \r\n",
      "\u001b[?25hCollecting image-classifiers==1.0.0\r\n",
      "  Downloading image_classifiers-1.0.0-py3-none-any.whl (19 kB)\r\n",
      "Requirement already satisfied: scikit-image in /opt/conda/lib/python3.7/site-packages (from efficientnet==1.0.0->segmentation_models) (0.18.1)\r\n",
      "Requirement already satisfied: numpy>=1.9.1 in /opt/conda/lib/python3.7/site-packages (from keras-applications<=1.0.8,>=1.0.7->segmentation_models) (1.19.5)\r\n",
      "Requirement already satisfied: h5py in /opt/conda/lib/python3.7/site-packages (from keras-applications<=1.0.8,>=1.0.7->segmentation_models) (2.10.0)\r\n",
      "Requirement already satisfied: six in /opt/conda/lib/python3.7/site-packages (from h5py->keras-applications<=1.0.8,>=1.0.7->segmentation_models) (1.15.0)\r\n",
      "Requirement already satisfied: networkx>=2.0 in /opt/conda/lib/python3.7/site-packages (from scikit-image->efficientnet==1.0.0->segmentation_models) (2.5)\r\n",
      "Requirement already satisfied: imageio>=2.3.0 in /opt/conda/lib/python3.7/site-packages (from scikit-image->efficientnet==1.0.0->segmentation_models) (2.9.0)\r\n",
      "Requirement already satisfied: scipy>=1.0.1 in /opt/conda/lib/python3.7/site-packages (from scikit-image->efficientnet==1.0.0->segmentation_models) (1.5.4)\r\n",
      "Requirement already satisfied: tifffile>=2019.7.26 in /opt/conda/lib/python3.7/site-packages (from scikit-image->efficientnet==1.0.0->segmentation_models) (2021.4.8)\r\n",
      "Requirement already satisfied: pillow!=7.1.0,!=7.1.1,>=4.3.0 in /opt/conda/lib/python3.7/site-packages (from scikit-image->efficientnet==1.0.0->segmentation_models) (7.2.0)\r\n",
      "Requirement already satisfied: PyWavelets>=1.1.1 in /opt/conda/lib/python3.7/site-packages (from scikit-image->efficientnet==1.0.0->segmentation_models) (1.1.1)\r\n",
      "Requirement already satisfied: matplotlib!=3.0.0,>=2.0.0 in /opt/conda/lib/python3.7/site-packages (from scikit-image->efficientnet==1.0.0->segmentation_models) (3.4.1)\r\n",
      "Requirement already satisfied: pyparsing>=2.2.1 in /opt/conda/lib/python3.7/site-packages (from matplotlib!=3.0.0,>=2.0.0->scikit-image->efficientnet==1.0.0->segmentation_models) (2.4.7)\r\n",
      "Requirement already satisfied: python-dateutil>=2.7 in /opt/conda/lib/python3.7/site-packages (from matplotlib!=3.0.0,>=2.0.0->scikit-image->efficientnet==1.0.0->segmentation_models) (2.8.1)\r\n",
      "Requirement already satisfied: kiwisolver>=1.0.1 in /opt/conda/lib/python3.7/site-packages (from matplotlib!=3.0.0,>=2.0.0->scikit-image->efficientnet==1.0.0->segmentation_models) (1.3.1)\r\n",
      "Requirement already satisfied: cycler>=0.10 in /opt/conda/lib/python3.7/site-packages (from matplotlib!=3.0.0,>=2.0.0->scikit-image->efficientnet==1.0.0->segmentation_models) (0.10.0)\r\n",
      "Requirement already satisfied: decorator>=4.3.0 in /opt/conda/lib/python3.7/site-packages (from networkx>=2.0->scikit-image->efficientnet==1.0.0->segmentation_models) (4.4.2)\r\n",
      "Installing collected packages: keras-applications, image-classifiers, efficientnet, segmentation-models\r\n",
      "Successfully installed efficientnet-1.0.0 image-classifiers-1.0.0 keras-applications-1.0.8 segmentation-models-1.0.1\r\n",
      "env: SM_FRAMEWORK=tf.keras\n",
      "Segmentation Models: using `tf.keras` framework.\n"
     ]
    }
   ],
   "source": [
    "# Install and import the segmentation models library\n",
    "!pip install segmentation_models\n",
    "%env SM_FRAMEWORK=tf.keras\n",
    "import segmentation_models as sm"
   ]
  },
  {
   "cell_type": "code",
   "execution_count": 10,
   "id": "negative-highway",
   "metadata": {
    "execution": {
     "iopub.execute_input": "2021-04-29T07:09:56.069162Z",
     "iopub.status.busy": "2021-04-29T07:09:56.068348Z",
     "iopub.status.idle": "2021-04-29T07:10:01.509331Z",
     "shell.execute_reply": "2021-04-29T07:10:01.508419Z"
    },
    "papermill": {
     "duration": 5.475958,
     "end_time": "2021-04-29T07:10:01.509487",
     "exception": false,
     "start_time": "2021-04-29T07:09:56.033529",
     "status": "completed"
    },
    "tags": []
   },
   "outputs": [
    {
     "name": "stdout",
     "output_type": "stream",
     "text": [
      "Downloading data from https://github.com/qubvel/classification_models/releases/download/0.0.1/resnet34_imagenet_1000_no_top.h5\n",
      "85524480/85521592 [==============================] - 1s 0us/step\n"
     ]
    }
   ],
   "source": [
    "# Define the model to be trained\n",
    "model = sm.Unet('resnet34', encoder_freeze=True, classes=274, activation='sigmoid')\n",
    "model.compile('Adam', loss='categorical_crossentropy', \n",
    "              metrics=[sm.metrics.iou_score, sm.metrics.precision, sm.metrics.recall])"
   ]
  },
  {
   "cell_type": "code",
   "execution_count": 11,
   "id": "regulated-milwaukee",
   "metadata": {
    "execution": {
     "iopub.execute_input": "2021-04-29T07:10:01.652800Z",
     "iopub.status.busy": "2021-04-29T07:10:01.620099Z",
     "iopub.status.idle": "2021-04-29T07:10:04.192327Z",
     "shell.execute_reply": "2021-04-29T07:10:04.191179Z"
    },
    "papermill": {
     "duration": 2.656853,
     "end_time": "2021-04-29T07:10:04.192501",
     "exception": false,
     "start_time": "2021-04-29T07:10:01.535648",
     "status": "completed"
    },
    "tags": []
   },
   "outputs": [],
   "source": [
    "# Load the trained model weights\n",
    "weights_path = '../input/food-recognition-model/trained_model.h5'\n",
    "model.load_weights(weights_path)"
   ]
  },
  {
   "cell_type": "code",
   "execution_count": 12,
   "id": "surprised-edmonton",
   "metadata": {
    "_kg_hide-output": true,
    "execution": {
     "iopub.execute_input": "2021-04-29T07:10:04.250874Z",
     "iopub.status.busy": "2021-04-29T07:10:04.249361Z",
     "iopub.status.idle": "2021-04-29T07:10:04.251729Z",
     "shell.execute_reply": "2021-04-29T07:10:04.252190Z"
    },
    "papermill": {
     "duration": 0.0329,
     "end_time": "2021-04-29T07:10:04.252325",
     "exception": false,
     "start_time": "2021-04-29T07:10:04.219425",
     "status": "completed"
    },
    "tags": []
   },
   "outputs": [],
   "source": [
    "# # Train the defined model on the dataset\n",
    "# history = model.fit(x=train_gen, steps_per_epoch=train_length//BATCH_SIZE, \n",
    "#                     validation_data=val_gen, validation_steps=val_length//BATCH_SIZE,\n",
    "#                     epochs=20)"
   ]
  },
  {
   "cell_type": "code",
   "execution_count": 13,
   "id": "drawn-asset",
   "metadata": {
    "execution": {
     "iopub.execute_input": "2021-04-29T07:10:04.309189Z",
     "iopub.status.busy": "2021-04-29T07:10:04.307925Z",
     "iopub.status.idle": "2021-04-29T07:10:04.310348Z",
     "shell.execute_reply": "2021-04-29T07:10:04.310785Z"
    },
    "papermill": {
     "duration": 0.032493,
     "end_time": "2021-04-29T07:10:04.310911",
     "exception": false,
     "start_time": "2021-04-29T07:10:04.278418",
     "status": "completed"
    },
    "tags": []
   },
   "outputs": [],
   "source": [
    "# # Save the model to the output\n",
    "# model.save_weights('trained_model.h5')"
   ]
  },
  {
   "cell_type": "code",
   "execution_count": 14,
   "id": "pretty-space",
   "metadata": {
    "execution": {
     "iopub.execute_input": "2021-04-29T07:10:04.368779Z",
     "iopub.status.busy": "2021-04-29T07:10:04.368264Z",
     "iopub.status.idle": "2021-04-29T07:10:40.857279Z",
     "shell.execute_reply": "2021-04-29T07:10:40.856831Z"
    },
    "papermill": {
     "duration": 36.520207,
     "end_time": "2021-04-29T07:10:40.857410",
     "exception": false,
     "start_time": "2021-04-29T07:10:04.337203",
     "status": "completed"
    },
    "tags": []
   },
   "outputs": [
    {
     "name": "stdout",
     "output_type": "stream",
     "text": [
      "126/126 [==============================] - 36s 238ms/step - loss: 2.2690 - iou_score: 0.0020 - precision: 0.0041 - recall: 0.9506\n",
      "Loss: 2.341\n",
      "Average IoU: 0.002\n",
      "Average Precision: 0.004\n",
      "Average Recall: 0.951\n"
     ]
    }
   ],
   "source": [
    "# Evaluate the model on the test generator\n",
    "scores = model.evaluate(test_gen, steps=test_length//BATCH_SIZE)\n",
    "print('Loss: {}'.format(round(scores[0], 3)))\n",
    "print('Average IoU: {}'.format(round(scores[1], 3)))\n",
    "print('Average Precision: {}'.format(round(scores[2], 3)))\n",
    "print('Average Recall: {}'.format(round(scores[3], 3)))"
   ]
  }
 ],
 "metadata": {
  "kernelspec": {
   "display_name": "Python 3",
   "language": "python",
   "name": "python3"
  },
  "language_info": {
   "codemirror_mode": {
    "name": "ipython",
    "version": 3
   },
   "file_extension": ".py",
   "mimetype": "text/x-python",
   "name": "python",
   "nbconvert_exporter": "python",
   "pygments_lexer": "ipython3",
   "version": "3.7.10"
  },
  "papermill": {
   "default_parameters": {},
   "duration": 90.716748,
   "end_time": "2021-04-29T07:10:44.462064",
   "environment_variables": {},
   "exception": null,
   "input_path": "__notebook__.ipynb",
   "output_path": "__notebook__.ipynb",
   "parameters": {},
   "start_time": "2021-04-29T07:09:13.745316",
   "version": "2.3.3"
  }
 },
 "nbformat": 4,
 "nbformat_minor": 5
}
