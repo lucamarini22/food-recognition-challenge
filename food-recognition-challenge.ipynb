{
 "cells": [
  {
   "cell_type": "code",
   "execution_count": 1,
   "id": "molecular-landing",
   "metadata": {
    "_kg_hide-input": false,
    "_kg_hide-output": true,
    "execution": {
     "iopub.execute_input": "2021-05-08T12:56:14.200037Z",
     "iopub.status.busy": "2021-05-08T12:56:14.199521Z",
     "iopub.status.idle": "2021-05-08T12:56:28.869460Z",
     "shell.execute_reply": "2021-05-08T12:56:28.870270Z"
    },
    "papermill": {
     "duration": 14.692606,
     "end_time": "2021-05-08T12:56:28.870650",
     "exception": false,
     "start_time": "2021-05-08T12:56:14.178044",
     "status": "completed"
    },
    "tags": []
   },
   "outputs": [
    {
     "name": "stdout",
     "output_type": "stream",
     "text": [
      "Collecting pycocotools\r\n",
      "  Downloading pycocotools-2.0.2.tar.gz (23 kB)\r\n",
      "Requirement already satisfied: setuptools>=18.0 in /opt/conda/lib/python3.7/site-packages (from pycocotools) (49.6.0.post20210108)\r\n",
      "Requirement already satisfied: cython>=0.27.3 in /opt/conda/lib/python3.7/site-packages (from pycocotools) (0.29.23)\r\n",
      "Requirement already satisfied: matplotlib>=2.1.0 in /opt/conda/lib/python3.7/site-packages (from pycocotools) (3.4.1)\r\n",
      "Requirement already satisfied: python-dateutil>=2.7 in /opt/conda/lib/python3.7/site-packages (from matplotlib>=2.1.0->pycocotools) (2.8.1)\r\n",
      "Requirement already satisfied: numpy>=1.16 in /opt/conda/lib/python3.7/site-packages (from matplotlib>=2.1.0->pycocotools) (1.19.5)\r\n",
      "Requirement already satisfied: cycler>=0.10 in /opt/conda/lib/python3.7/site-packages (from matplotlib>=2.1.0->pycocotools) (0.10.0)\r\n",
      "Requirement already satisfied: kiwisolver>=1.0.1 in /opt/conda/lib/python3.7/site-packages (from matplotlib>=2.1.0->pycocotools) (1.3.1)\r\n",
      "Requirement already satisfied: pillow>=6.2.0 in /opt/conda/lib/python3.7/site-packages (from matplotlib>=2.1.0->pycocotools) (7.2.0)\r\n",
      "Requirement already satisfied: pyparsing>=2.2.1 in /opt/conda/lib/python3.7/site-packages (from matplotlib>=2.1.0->pycocotools) (2.4.7)\r\n",
      "Requirement already satisfied: six in /opt/conda/lib/python3.7/site-packages (from cycler>=0.10->matplotlib>=2.1.0->pycocotools) (1.15.0)\r\n",
      "Building wheels for collected packages: pycocotools\r\n",
      "  Building wheel for pycocotools (setup.py) ... \u001b[?25l-\b \b\\\b \b|\b \b/\b \b-\b \b\\\b \b|\b \b/\b \b-\b \bdone\r\n",
      "\u001b[?25h  Created wheel for pycocotools: filename=pycocotools-2.0.2-cp37-cp37m-linux_x86_64.whl size=272451 sha256=d4e1b91b82c090d4dcad060ef24800e7fadd1f387a4b5612427e24425535053b\r\n",
      "  Stored in directory: /root/.cache/pip/wheels/bc/cf/1b/e95c99c5f9d1648be3f500ca55e7ce55f24818b0f48336adaf\r\n",
      "Successfully built pycocotools\r\n",
      "Installing collected packages: pycocotools\r\n",
      "Successfully installed pycocotools-2.0.2\r\n"
     ]
    }
   ],
   "source": [
    "# Install the pycoco library\n",
    "!pip install pycocotools"
   ]
  },
  {
   "cell_type": "code",
   "execution_count": 2,
   "id": "outstanding-pattern",
   "metadata": {
    "execution": {
     "iopub.execute_input": "2021-05-08T12:56:28.933903Z",
     "iopub.status.busy": "2021-05-08T12:56:28.932963Z",
     "iopub.status.idle": "2021-05-08T12:56:29.076736Z",
     "shell.execute_reply": "2021-05-08T12:56:29.077437Z"
    },
    "papermill": {
     "duration": 0.18009,
     "end_time": "2021-05-08T12:56:29.077639",
     "exception": false,
     "start_time": "2021-05-08T12:56:28.897549",
     "status": "completed"
    },
    "tags": []
   },
   "outputs": [],
   "source": [
    "# Import the necessary libraries\n",
    "import numpy as np\n",
    "import pandas as pd\n",
    "import os\n",
    "import random\n",
    "import cv2\n",
    "from pycocotools.coco import COCO\n",
    "import matplotlib.pyplot as plt\n",
    "%matplotlib inline"
   ]
  },
  {
   "cell_type": "code",
   "execution_count": 3,
   "id": "aboriginal-immune",
   "metadata": {
    "execution": {
     "iopub.execute_input": "2021-05-08T12:56:29.132863Z",
     "iopub.status.busy": "2021-05-08T12:56:29.132089Z",
     "iopub.status.idle": "2021-05-08T12:56:29.135132Z",
     "shell.execute_reply": "2021-05-08T12:56:29.135719Z"
    },
    "papermill": {
     "duration": 0.032716,
     "end_time": "2021-05-08T12:56:29.135896",
     "exception": false,
     "start_time": "2021-05-08T12:56:29.103180",
     "status": "completed"
    },
    "tags": []
   },
   "outputs": [],
   "source": [
    "# Define the image and annotation paths\n",
    "train_imgs_path = '../input/food-recognition-challenge/train-v0.4/train/images'\n",
    "train_anns_path = '../input/food-recognition-challenge/train-v0.4/train/annotations.json'\n",
    "\n",
    "val_imgs_path = '../input/food-recognition-challenge/val-v0.4/val/images'\n",
    "val_anns_path = '../input/food-recognition-challenge/val-v0.4/val/annotations.json'\n",
    "\n",
    "test_imgs_path = '../input/food-recognition-challenge/test_images-v0.4/val/images'\n",
    "test_anns_path = '../input/food-recognition-challenge/test_images-v0.4/val/annotations.json'"
   ]
  },
  {
   "cell_type": "markdown",
   "id": "internal-plenty",
   "metadata": {
    "papermill": {
     "duration": 0.025961,
     "end_time": "2021-05-08T12:56:29.188294",
     "exception": false,
     "start_time": "2021-05-08T12:56:29.162333",
     "status": "completed"
    },
    "tags": []
   },
   "source": [
    "# Reference to Image Segmentation\n",
    "\n",
    "https://divamgupta.com/image-segmentation/2019/06/06/deep-learning-semantic-segmentation-keras.html"
   ]
  },
  {
   "cell_type": "code",
   "execution_count": 4,
   "id": "homeless-session",
   "metadata": {
    "execution": {
     "iopub.execute_input": "2021-05-08T12:56:29.258013Z",
     "iopub.status.busy": "2021-05-08T12:56:29.257341Z",
     "iopub.status.idle": "2021-05-08T12:56:29.260396Z",
     "shell.execute_reply": "2021-05-08T12:56:29.260900Z"
    },
    "papermill": {
     "duration": 0.04801,
     "end_time": "2021-05-08T12:56:29.261280",
     "exception": false,
     "start_time": "2021-05-08T12:56:29.213270",
     "status": "completed"
    },
    "tags": []
   },
   "outputs": [],
   "source": [
    "# Function to load JSON into a COCO api\n",
    "def getCOCO(anns_path):\n",
    "    # Initialize the COCO api for instance annotations\n",
    "    coco = COCO(anns_path)\n",
    "    \n",
    "    # Load the categories in a variable\n",
    "    catIDs = coco.getCatIds()\n",
    "    cats = coco.loadCats(catIDs)\n",
    "    \n",
    "    # Print number of categories\n",
    "    nms = [cat['name'] for cat in cats]\n",
    "    \n",
    "    # Create a dataframe of the count of each category\n",
    "    df = pd.DataFrame(columns=['Category', 'ID', 'Count'])\n",
    "    \n",
    "    # Add each category and its count row by row\n",
    "    for i, catID in enumerate(catIDs):\n",
    "        imgIds = coco.getImgIds(catIds=catID)\n",
    "        df.loc[i] = [nms[i]] + [catID] + [len(imgIds)]\n",
    "    \n",
    "    return coco, df"
   ]
  },
  {
   "cell_type": "code",
   "execution_count": 5,
   "id": "characteristic-portland",
   "metadata": {
    "_kg_hide-output": true,
    "execution": {
     "iopub.execute_input": "2021-05-08T12:56:29.325003Z",
     "iopub.status.busy": "2021-05-08T12:56:29.324370Z",
     "iopub.status.idle": "2021-05-08T12:56:35.798463Z",
     "shell.execute_reply": "2021-05-08T12:56:35.797917Z"
    },
    "papermill": {
     "duration": 6.507394,
     "end_time": "2021-05-08T12:56:35.798593",
     "exception": false,
     "start_time": "2021-05-08T12:56:29.291199",
     "status": "completed"
    },
    "tags": []
   },
   "outputs": [
    {
     "name": "stdout",
     "output_type": "stream",
     "text": [
      "loading annotations into memory...\n",
      "Done (t=4.04s)\n",
      "creating index...\n",
      "index created!\n",
      "loading annotations into memory...\n",
      "Done (t=0.15s)\n",
      "creating index...\n",
      "index created!\n",
      "loading annotations into memory...\n",
      "Done (t=0.14s)\n",
      "creating index...\n",
      "index created!\n"
     ]
    }
   ],
   "source": [
    "# Load the annotations of the image dataset\n",
    "train_coco, train_classes = getCOCO(train_anns_path)\n",
    "val_coco, val_classes = getCOCO(val_anns_path)\n",
    "test_coco, test_classes = getCOCO(test_anns_path)"
   ]
  },
  {
   "cell_type": "code",
   "execution_count": 6,
   "id": "seasonal-orbit",
   "metadata": {
    "execution": {
     "iopub.execute_input": "2021-05-08T12:56:35.840115Z",
     "iopub.status.busy": "2021-05-08T12:56:35.839556Z",
     "iopub.status.idle": "2021-05-08T12:56:35.843575Z",
     "shell.execute_reply": "2021-05-08T12:56:35.843131Z"
    },
    "papermill": {
     "duration": 0.027957,
     "end_time": "2021-05-08T12:56:35.843688",
     "exception": false,
     "start_time": "2021-05-08T12:56:35.815731",
     "status": "completed"
    },
    "tags": []
   },
   "outputs": [],
   "source": [
    "def getMask(image_id, coco, classes, image_size):\n",
    "    # Create a zero array with the given size and number of classes\n",
    "    mask = np.zeros((image_size[0], image_size[1], 274))\n",
    "\n",
    "    annIds = coco.getAnnIds(int(image_id))\n",
    "    anns = coco.loadAnns(annIds)\n",
    "\n",
    "    for i, ann in enumerate(anns):\n",
    "        # Get the binary mask for the annotation\n",
    "        binary = cv2.resize(coco.annToMask(ann), image_size)\n",
    "\n",
    "        # Get the channel index for the annotation\n",
    "        channel = classes[classes.ID == ann['category_id']].index[0] + 1\n",
    "\n",
    "        # Update the channel of the annotation\n",
    "        mask[:, :, channel] = binary\n",
    "\n",
    "        # Update the background channel of the annotation\n",
    "        if i == 0:\n",
    "            mask[:, :, 0] = np.logical_or(mask[:, :, 0], np.logical_not(binary))\n",
    "        else:\n",
    "            mask[:, :, 0] = np.logical_and(mask[:, :, 0], np.logical_not(binary))\n",
    "\n",
    "    return mask"
   ]
  },
  {
   "cell_type": "code",
   "execution_count": 7,
   "id": "boxed-moment",
   "metadata": {
    "execution": {
     "iopub.execute_input": "2021-05-08T12:56:35.884459Z",
     "iopub.status.busy": "2021-05-08T12:56:35.883813Z",
     "iopub.status.idle": "2021-05-08T12:56:35.886933Z",
     "shell.execute_reply": "2021-05-08T12:56:35.887346Z"
    },
    "papermill": {
     "duration": 0.02727,
     "end_time": "2021-05-08T12:56:35.887482",
     "exception": false,
     "start_time": "2021-05-08T12:56:35.860212",
     "status": "completed"
    },
    "tags": []
   },
   "outputs": [],
   "source": [
    "def getGenerator(path, coco, classes, image_size, batch_size):\n",
    "    c = 0\n",
    "    n = os.listdir(path)\n",
    "    random.shuffle(n)  \n",
    "    \n",
    "    while (True):\n",
    "        img_batch = np.zeros((batch_size, image_size[0], image_size[1], 3)).astype('int')\n",
    "        mask_batch = np.zeros((batch_size, image_size[0], image_size[1], 274)).astype('float')\n",
    "\n",
    "        for i in range(c, c + batch_size):\n",
    "            img = cv2.imread(path + '/' + n[i])\n",
    "            img =  cv2.resize(img, image_size)\n",
    "            img = cv2.cvtColor(img, cv2.COLOR_BGR2RGB)\n",
    "            \n",
    "            mask = getMask(n[i][1:-4], coco, classes, image_size)\n",
    "            \n",
    "            img_batch[i-c] = img\n",
    "            mask_batch[i-c] = mask\n",
    "\n",
    "        c += batch_size\n",
    "        if(c + batch_size >= len(os.listdir(path))):\n",
    "            c = 0\n",
    "            random.shuffle(n)\n",
    "\n",
    "        yield img_batch, mask_batch"
   ]
  },
  {
   "cell_type": "code",
   "execution_count": 8,
   "id": "multiple-engineering",
   "metadata": {
    "execution": {
     "iopub.execute_input": "2021-05-08T12:56:35.927378Z",
     "iopub.status.busy": "2021-05-08T12:56:35.926829Z",
     "iopub.status.idle": "2021-05-08T12:56:37.279326Z",
     "shell.execute_reply": "2021-05-08T12:56:37.279928Z"
    },
    "papermill": {
     "duration": 1.375499,
     "end_time": "2021-05-08T12:56:37.280118",
     "exception": false,
     "start_time": "2021-05-08T12:56:35.904619",
     "status": "completed"
    },
    "tags": []
   },
   "outputs": [
    {
     "name": "stdout",
     "output_type": "stream",
     "text": [
      "Number of training images: 24120\n",
      "Number of validation images: 1269\n",
      "Number of test images: 1269\n"
     ]
    }
   ],
   "source": [
    "# Get the generators from the paths\n",
    "IMAGE_SIZE = (48, 48)\n",
    "BATCH_SIZE = 300\n",
    "\n",
    "train_gen = getGenerator(train_imgs_path, train_coco, train_classes, image_size=IMAGE_SIZE, batch_size=BATCH_SIZE)\n",
    "train_length = len(os.listdir(train_imgs_path))\n",
    "print('Number of training images: {}'.format(train_length))\n",
    "\n",
    "val_gen = getGenerator(val_imgs_path, val_coco, val_classes, image_size=IMAGE_SIZE, batch_size=BATCH_SIZE)\n",
    "val_length = len(os.listdir(val_imgs_path))\n",
    "print('Number of validation images: {}'.format(val_length))\n",
    "\n",
    "test_gen = getGenerator(test_imgs_path, test_coco, test_classes, image_size=IMAGE_SIZE, batch_size=BATCH_SIZE)\n",
    "test_length = len(os.listdir(test_imgs_path))\n",
    "print('Number of test images: {}'.format(test_length))"
   ]
  },
  {
   "cell_type": "code",
   "execution_count": 9,
   "id": "racial-intention",
   "metadata": {
    "execution": {
     "iopub.execute_input": "2021-05-08T12:56:37.323072Z",
     "iopub.status.busy": "2021-05-08T12:56:37.322582Z",
     "iopub.status.idle": "2021-05-08T12:56:37.326038Z",
     "shell.execute_reply": "2021-05-08T12:56:37.326498Z"
    },
    "papermill": {
     "duration": 0.028046,
     "end_time": "2021-05-08T12:56:37.326627",
     "exception": false,
     "start_time": "2021-05-08T12:56:37.298581",
     "status": "completed"
    },
    "tags": []
   },
   "outputs": [],
   "source": [
    "def visualise(path, coco, classes, n):\n",
    "    temp_gen = getGenerator(path, coco, classes, image_size=IMAGE_SIZE, batch_size=n)\n",
    "    images, masks = next(temp_gen)\n",
    "    \n",
    "    for i in range(n):\n",
    "        plt.figure(figsize=(10, 20))\n",
    "        \n",
    "        plt.subplot(1, 3, 1)\n",
    "        plt.title('Image')\n",
    "        plt.imshow(images[i])\n",
    "        plt.axis('off')\n",
    "        \n",
    "        plt.subplot(1, 3, 2)\n",
    "        plt.title('Background Channel')\n",
    "        plt.imshow(masks[i][:, :, 0])\n",
    "        plt.axis('off')\n",
    "        \n",
    "        plt.subplot(1, 3, 3)\n",
    "        plt.title('Max of Object Channels')\n",
    "        plt.imshow(np.max(masks[i][:, :, 1:], axis=2))\n",
    "        plt.axis('off')\n",
    "        \n",
    "        plt.show()"
   ]
  },
  {
   "cell_type": "code",
   "execution_count": 10,
   "id": "needed-jonathan",
   "metadata": {
    "execution": {
     "iopub.execute_input": "2021-05-08T12:56:37.366099Z",
     "iopub.status.busy": "2021-05-08T12:56:37.365364Z",
     "iopub.status.idle": "2021-05-08T12:56:37.931709Z",
     "shell.execute_reply": "2021-05-08T12:56:37.931006Z"
    },
    "papermill": {
     "duration": 0.587016,
     "end_time": "2021-05-08T12:56:37.931857",
     "exception": false,
     "start_time": "2021-05-08T12:56:37.344841",
     "status": "completed"
    },
    "tags": []
   },
   "outputs": [
    {
     "data": {
      "image/png": "[encoded data removed]",
      "text/plain": [
       "<Figure size 720x1440 with 3 Axes>"
      ]
     },
     "metadata": {
      "needs_background": "light"
     },
     "output_type": "display_data"
    },
    {
     "data": {
      "image/png": "[encoded data removed]",
      "text/plain": [
       "<Figure size 720x1440 with 3 Axes>"
      ]
     },
     "metadata": {
      "needs_background": "light"
     },
     "output_type": "display_data"
    },
    {
     "data": {
      "image/png": "[encoded data removed]",
      "text/plain": [
       "<Figure size 720x1440 with 3 Axes>"
      ]
     },
     "metadata": {
      "needs_background": "light"
     },
     "output_type": "display_data"
    }
   ],
   "source": [
    "# Visualise a few samples images with their backgrounds and objects\n",
    "visualise(train_imgs_path, train_coco, train_classes, 3)"
   ]
  },
  {
   "cell_type": "code",
   "execution_count": 11,
   "id": "driving-implementation",
   "metadata": {
    "_kg_hide-output": true,
    "execution": {
     "iopub.execute_input": "2021-05-08T12:56:37.987619Z",
     "iopub.status.busy": "2021-05-08T12:56:37.979736Z",
     "iopub.status.idle": "2021-05-08T12:56:51.907833Z",
     "shell.execute_reply": "2021-05-08T12:56:51.908912Z"
    },
    "papermill": {
     "duration": 13.956043,
     "end_time": "2021-05-08T12:56:51.909141",
     "exception": false,
     "start_time": "2021-05-08T12:56:37.953098",
     "status": "completed"
    },
    "tags": []
   },
   "outputs": [
    {
     "name": "stdout",
     "output_type": "stream",
     "text": [
      "Collecting segmentation_models\r\n",
      "  Downloading segmentation_models-1.0.1-py3-none-any.whl (33 kB)\r\n",
      "Collecting efficientnet==1.0.0\r\n",
      "  Downloading efficientnet-1.0.0-py3-none-any.whl (17 kB)\r\n",
      "Collecting keras-applications<=1.0.8,>=1.0.7\r\n",
      "  Downloading Keras_Applications-1.0.8-py3-none-any.whl (50 kB)\r\n",
      "\u001b[K     |████████████████████████████████| 50 kB 116 kB/s \r\n",
      "\u001b[?25hCollecting image-classifiers==1.0.0\r\n",
      "  Downloading image_classifiers-1.0.0-py3-none-any.whl (19 kB)\r\n",
      "Requirement already satisfied: scikit-image in /opt/conda/lib/python3.7/site-packages (from efficientnet==1.0.0->segmentation_models) (0.18.1)\r\n",
      "Requirement already satisfied: numpy>=1.9.1 in /opt/conda/lib/python3.7/site-packages (from keras-applications<=1.0.8,>=1.0.7->segmentation_models) (1.19.5)\r\n",
      "Requirement already satisfied: h5py in /opt/conda/lib/python3.7/site-packages (from keras-applications<=1.0.8,>=1.0.7->segmentation_models) (2.10.0)\r\n",
      "Requirement already satisfied: six in /opt/conda/lib/python3.7/site-packages (from h5py->keras-applications<=1.0.8,>=1.0.7->segmentation_models) (1.15.0)\r\n",
      "Requirement already satisfied: PyWavelets>=1.1.1 in /opt/conda/lib/python3.7/site-packages (from scikit-image->efficientnet==1.0.0->segmentation_models) (1.1.1)\r\n",
      "Requirement already satisfied: scipy>=1.0.1 in /opt/conda/lib/python3.7/site-packages (from scikit-image->efficientnet==1.0.0->segmentation_models) (1.5.4)\r\n",
      "Requirement already satisfied: pillow!=7.1.0,!=7.1.1,>=4.3.0 in /opt/conda/lib/python3.7/site-packages (from scikit-image->efficientnet==1.0.0->segmentation_models) (7.2.0)\r\n",
      "Requirement already satisfied: matplotlib!=3.0.0,>=2.0.0 in /opt/conda/lib/python3.7/site-packages (from scikit-image->efficientnet==1.0.0->segmentation_models) (3.4.1)\r\n",
      "Requirement already satisfied: tifffile>=2019.7.26 in /opt/conda/lib/python3.7/site-packages (from scikit-image->efficientnet==1.0.0->segmentation_models) (2021.4.8)\r\n",
      "Requirement already satisfied: networkx>=2.0 in /opt/conda/lib/python3.7/site-packages (from scikit-image->efficientnet==1.0.0->segmentation_models) (2.5)\r\n",
      "Requirement already satisfied: imageio>=2.3.0 in /opt/conda/lib/python3.7/site-packages (from scikit-image->efficientnet==1.0.0->segmentation_models) (2.9.0)\r\n",
      "Requirement already satisfied: cycler>=0.10 in /opt/conda/lib/python3.7/site-packages (from matplotlib!=3.0.0,>=2.0.0->scikit-image->efficientnet==1.0.0->segmentation_models) (0.10.0)\r\n",
      "Requirement already satisfied: pyparsing>=2.2.1 in /opt/conda/lib/python3.7/site-packages (from matplotlib!=3.0.0,>=2.0.0->scikit-image->efficientnet==1.0.0->segmentation_models) (2.4.7)\r\n",
      "Requirement already satisfied: kiwisolver>=1.0.1 in /opt/conda/lib/python3.7/site-packages (from matplotlib!=3.0.0,>=2.0.0->scikit-image->efficientnet==1.0.0->segmentation_models) (1.3.1)\r\n",
      "Requirement already satisfied: python-dateutil>=2.7 in /opt/conda/lib/python3.7/site-packages (from matplotlib!=3.0.0,>=2.0.0->scikit-image->efficientnet==1.0.0->segmentation_models) (2.8.1)\r\n",
      "Requirement already satisfied: decorator>=4.3.0 in /opt/conda/lib/python3.7/site-packages (from networkx>=2.0->scikit-image->efficientnet==1.0.0->segmentation_models) (4.4.2)\r\n",
      "Installing collected packages: keras-applications, image-classifiers, efficientnet, segmentation-models\r\n",
      "Successfully installed efficientnet-1.0.0 image-classifiers-1.0.0 keras-applications-1.0.8 segmentation-models-1.0.1\r\n",
      "env: SM_FRAMEWORK=tf.keras\n",
      "Segmentation Models: using `tf.keras` framework.\n"
     ]
    }
   ],
   "source": [
    "# Install and import the segmentation models library\n",
    "!pip install segmentation_models\n",
    "%env SM_FRAMEWORK=tf.keras\n",
    "import segmentation_models as sm"
   ]
  },
  {
   "cell_type": "code",
   "execution_count": 12,
   "id": "champion-apache",
   "metadata": {
    "execution": {
     "iopub.execute_input": "2021-05-08T12:56:52.022336Z",
     "iopub.status.busy": "2021-05-08T12:56:52.021476Z",
     "iopub.status.idle": "2021-05-08T12:57:03.773079Z",
     "shell.execute_reply": "2021-05-08T12:57:03.772553Z"
    },
    "papermill": {
     "duration": 11.821518,
     "end_time": "2021-05-08T12:57:03.773292",
     "exception": false,
     "start_time": "2021-05-08T12:56:51.951774",
     "status": "completed"
    },
    "tags": []
   },
   "outputs": [
    {
     "name": "stdout",
     "output_type": "stream",
     "text": [
      "Downloading data from https://github.com/qubvel/classification_models/releases/download/0.0.1/resnet152_imagenet_1000_no_top.h5\n",
      "234332160/234326024 [==============================] - 5s 0us/step\n"
     ]
    }
   ],
   "source": [
    "# Define the model to be trained\n",
    "model = sm.PSPNet('resnet152', encoder_weights='imagenet', encoder_freeze=True, \n",
    "                  input_shape=(IMAGE_SIZE[0], IMAGE_SIZE[1], 3), downsample_factor=4, \n",
    "                  classes=274, activation='softmax')\n",
    "\n",
    "model.compile('Adam', loss=sm.losses.cce_dice_loss, \n",
    "              metrics=[sm.metrics.iou_score, sm.metrics.precision, sm.metrics.recall])"
   ]
  },
  {
   "cell_type": "code",
   "execution_count": 13,
   "id": "rural-sheet",
   "metadata": {
    "execution": {
     "iopub.execute_input": "2021-05-08T12:57:03.882530Z",
     "iopub.status.busy": "2021-05-08T12:57:03.881959Z",
     "iopub.status.idle": "2021-05-08T12:57:03.886037Z",
     "shell.execute_reply": "2021-05-08T12:57:03.885632Z"
    },
    "papermill": {
     "duration": 0.059697,
     "end_time": "2021-05-08T12:57:03.886162",
     "exception": false,
     "start_time": "2021-05-08T12:57:03.826465",
     "status": "completed"
    },
    "tags": []
   },
   "outputs": [],
   "source": [
    "# # Load the trained model weights\n",
    "# weights_path = '../input/food-recognition-model/weights.h5'\n",
    "# model.load_weights(weights_path)"
   ]
  },
  {
   "cell_type": "code",
   "execution_count": 14,
   "id": "desperate-cooking",
   "metadata": {
    "_kg_hide-output": true,
    "execution": {
     "iopub.execute_input": "2021-05-08T12:57:03.997205Z",
     "iopub.status.busy": "2021-05-08T12:57:03.996512Z",
     "iopub.status.idle": "2021-05-08T18:07:05.700959Z",
     "shell.execute_reply": "2021-05-08T18:07:05.701460Z"
    },
    "papermill": {
     "duration": 18601.762204,
     "end_time": "2021-05-08T18:07:05.701637",
     "exception": false,
     "start_time": "2021-05-08T12:57:03.939433",
     "status": "completed"
    },
    "tags": []
   },
   "outputs": [
    {
     "name": "stdout",
     "output_type": "stream",
     "text": [
      "Epoch 1/40\n",
      "80/80 [==============================] - 598s 7s/step - loss: 0.9954 - iou_score: 0.0086 - precision: 0.0168 - recall: 0.3663 - val_loss: 1.0048 - val_iou_score: 0.0027 - val_precision: 0.0097 - val_recall: 0.3694\n",
      "Epoch 2/40\n",
      "80/80 [==============================] - 447s 6s/step - loss: 0.9621 - iou_score: 0.0295 - precision: 0.0648 - recall: 0.4069 - val_loss: 1.0023 - val_iou_score: 0.0069 - val_precision: 0.0310 - val_recall: 0.3697\n",
      "Epoch 3/40\n",
      "80/80 [==============================] - 465s 6s/step - loss: 0.9152 - iou_score: 0.0748 - precision: 0.1656 - recall: 0.4264 - val_loss: 0.6685 - val_iou_score: 0.3502 - val_precision: 0.9860 - val_recall: 0.3522\n",
      "Epoch 4/40\n",
      "80/80 [==============================] - 450s 6s/step - loss: 0.6550 - iou_score: 0.3616 - precision: 0.9836 - recall: 0.3661 - val_loss: 0.6477 - val_iou_score: 0.3697 - val_precision: 0.9905 - val_recall: 0.3719\n",
      "Epoch 5/40\n",
      "80/80 [==============================] - 462s 6s/step - loss: 0.6511 - iou_score: 0.3642 - precision: 0.9851 - recall: 0.3695 - val_loss: 0.6536 - val_iou_score: 0.3633 - val_precision: 0.9883 - val_recall: 0.3656\n",
      "Epoch 6/40\n",
      "80/80 [==============================] - 508s 6s/step - loss: 0.6532 - iou_score: 0.3615 - precision: 0.9849 - recall: 0.3670 - val_loss: 0.6447 - val_iou_score: 0.3703 - val_precision: 0.9847 - val_recall: 0.3758\n",
      "Epoch 7/40\n",
      "80/80 [==============================] - 469s 6s/step - loss: 0.6502 - iou_score: 0.3636 - precision: 0.9845 - recall: 0.3691 - val_loss: 0.6504 - val_iou_score: 0.3641 - val_precision: 0.9875 - val_recall: 0.3682\n",
      "Epoch 8/40\n",
      "80/80 [==============================] - 457s 6s/step - loss: 0.6413 - iou_score: 0.3725 - precision: 0.9843 - recall: 0.3783 - val_loss: 0.6495 - val_iou_score: 0.3651 - val_precision: 0.9861 - val_recall: 0.3698\n",
      "Epoch 9/40\n",
      "80/80 [==============================] - 456s 6s/step - loss: 0.6427 - iou_score: 0.3708 - precision: 0.9843 - recall: 0.3766 - val_loss: 0.6507 - val_iou_score: 0.3637 - val_precision: 0.9787 - val_recall: 0.3700\n",
      "Epoch 10/40\n",
      "80/80 [==============================] - 452s 6s/step - loss: 0.6521 - iou_score: 0.3616 - precision: 0.9845 - recall: 0.3676 - val_loss: 0.6479 - val_iou_score: 0.3671 - val_precision: 0.9792 - val_recall: 0.3711\n",
      "Epoch 11/40\n",
      "80/80 [==============================] - 455s 6s/step - loss: 0.6428 - iou_score: 0.3706 - precision: 0.9845 - recall: 0.3762 - val_loss: 0.6464 - val_iou_score: 0.3686 - val_precision: 0.9842 - val_recall: 0.3739\n",
      "Epoch 12/40\n",
      "80/80 [==============================] - 457s 6s/step - loss: 0.6497 - iou_score: 0.3637 - precision: 0.9848 - recall: 0.3702 - val_loss: 0.6417 - val_iou_score: 0.3726 - val_precision: 0.9819 - val_recall: 0.3775\n",
      "Epoch 13/40\n",
      "80/80 [==============================] - 457s 6s/step - loss: 0.6416 - iou_score: 0.3718 - precision: 0.9854 - recall: 0.3777 - val_loss: 0.6212 - val_iou_score: 0.3930 - val_precision: 0.9835 - val_recall: 0.3995\n",
      "Epoch 14/40\n",
      "80/80 [==============================] - 447s 6s/step - loss: 0.6452 - iou_score: 0.3681 - precision: 0.9859 - recall: 0.3739 - val_loss: 0.6278 - val_iou_score: 0.3862 - val_precision: 0.9844 - val_recall: 0.3923\n",
      "Epoch 15/40\n",
      "80/80 [==============================] - 455s 6s/step - loss: 0.6456 - iou_score: 0.3674 - precision: 0.9861 - recall: 0.3731 - val_loss: 0.6578 - val_iou_score: 0.3566 - val_precision: 0.9841 - val_recall: 0.3606\n",
      "Epoch 16/40\n",
      "80/80 [==============================] - 462s 6s/step - loss: 0.6421 - iou_score: 0.3711 - precision: 0.9846 - recall: 0.3769 - val_loss: 0.6398 - val_iou_score: 0.3749 - val_precision: 0.9849 - val_recall: 0.3792\n",
      "Epoch 17/40\n",
      "80/80 [==============================] - 470s 6s/step - loss: 0.6472 - iou_score: 0.3662 - precision: 0.9867 - recall: 0.3714 - val_loss: 0.6564 - val_iou_score: 0.3584 - val_precision: 0.9829 - val_recall: 0.3618\n",
      "Epoch 18/40\n",
      "80/80 [==============================] - 479s 6s/step - loss: 0.6443 - iou_score: 0.3689 - precision: 0.9881 - recall: 0.3744 - val_loss: 0.6570 - val_iou_score: 0.3589 - val_precision: 0.9886 - val_recall: 0.3606\n",
      "Epoch 19/40\n",
      "80/80 [==============================] - 472s 6s/step - loss: 0.6444 - iou_score: 0.3689 - precision: 0.9896 - recall: 0.3737 - val_loss: 0.6490 - val_iou_score: 0.3665 - val_precision: 0.9850 - val_recall: 0.3722\n",
      "Epoch 20/40\n",
      "80/80 [==============================] - 470s 6s/step - loss: 0.6452 - iou_score: 0.3683 - precision: 0.9900 - recall: 0.3731 - val_loss: 0.6496 - val_iou_score: 0.3652 - val_precision: 0.9868 - val_recall: 0.3707\n",
      "Epoch 21/40\n",
      "80/80 [==============================] - 470s 6s/step - loss: 0.6382 - iou_score: 0.3751 - precision: 0.9911 - recall: 0.3793 - val_loss: 0.6621 - val_iou_score: 0.3531 - val_precision: 0.9869 - val_recall: 0.3564\n",
      "Epoch 22/40\n",
      "80/80 [==============================] - 460s 6s/step - loss: 0.6459 - iou_score: 0.3674 - precision: 0.9914 - recall: 0.3715 - val_loss: 0.6603 - val_iou_score: 0.3544 - val_precision: 0.9833 - val_recall: 0.3599\n",
      "Epoch 23/40\n",
      "80/80 [==============================] - 462s 6s/step - loss: 0.6425 - iou_score: 0.3709 - precision: 0.9914 - recall: 0.3751 - val_loss: 0.6529 - val_iou_score: 0.3624 - val_precision: 0.9912 - val_recall: 0.3644\n",
      "Epoch 24/40\n",
      "80/80 [==============================] - 464s 6s/step - loss: 0.6405 - iou_score: 0.3729 - precision: 0.9912 - recall: 0.3770 - val_loss: 0.6470 - val_iou_score: 0.3682 - val_precision: 0.9862 - val_recall: 0.3725\n",
      "Epoch 25/40\n",
      "80/80 [==============================] - 460s 6s/step - loss: 0.6445 - iou_score: 0.3690 - precision: 0.9921 - recall: 0.3732 - val_loss: 0.6483 - val_iou_score: 0.3672 - val_precision: 0.9873 - val_recall: 0.3702\n",
      "Epoch 26/40\n",
      "80/80 [==============================] - 475s 6s/step - loss: 0.6465 - iou_score: 0.3669 - precision: 0.9917 - recall: 0.3708 - val_loss: 0.6579 - val_iou_score: 0.3571 - val_precision: 0.9842 - val_recall: 0.3636\n",
      "Epoch 27/40\n",
      "80/80 [==============================] - 463s 6s/step - loss: 0.6391 - iou_score: 0.3741 - precision: 0.9923 - recall: 0.3782 - val_loss: 0.6459 - val_iou_score: 0.3702 - val_precision: 0.9867 - val_recall: 0.3728\n",
      "Epoch 28/40\n",
      "80/80 [==============================] - 464s 6s/step - loss: 0.6472 - iou_score: 0.3661 - precision: 0.9923 - recall: 0.3703 - val_loss: 0.6464 - val_iou_score: 0.3684 - val_precision: 0.9872 - val_recall: 0.3710\n",
      "Epoch 29/40\n",
      "80/80 [==============================] - 450s 6s/step - loss: 0.6462 - iou_score: 0.3673 - precision: 0.9922 - recall: 0.3713 - val_loss: 0.6486 - val_iou_score: 0.3665 - val_precision: 0.9875 - val_recall: 0.3695\n",
      "Epoch 30/40\n",
      "80/80 [==============================] - 445s 6s/step - loss: 0.6465 - iou_score: 0.3669 - precision: 0.9925 - recall: 0.3707 - val_loss: 0.6373 - val_iou_score: 0.3781 - val_precision: 0.9778 - val_recall: 0.3823\n",
      "Epoch 31/40\n",
      "80/80 [==============================] - 448s 6s/step - loss: 0.6430 - iou_score: 0.3703 - precision: 0.9926 - recall: 0.3742 - val_loss: 0.6397 - val_iou_score: 0.3750 - val_precision: 0.9870 - val_recall: 0.3798\n",
      "Epoch 32/40\n",
      "80/80 [==============================] - 444s 6s/step - loss: 0.6418 - iou_score: 0.3715 - precision: 0.9932 - recall: 0.3750 - val_loss: 0.6423 - val_iou_score: 0.3725 - val_precision: 0.9851 - val_recall: 0.3772\n",
      "Epoch 33/40\n",
      "80/80 [==============================] - 450s 6s/step - loss: 0.6475 - iou_score: 0.3660 - precision: 0.9927 - recall: 0.3698 - val_loss: 0.6523 - val_iou_score: 0.3638 - val_precision: 0.9864 - val_recall: 0.3660\n",
      "Epoch 34/40\n",
      "80/80 [==============================] - 451s 6s/step - loss: 0.6433 - iou_score: 0.3701 - precision: 0.9932 - recall: 0.3735 - val_loss: 0.6579 - val_iou_score: 0.3573 - val_precision: 0.9822 - val_recall: 0.3628\n",
      "Epoch 35/40\n",
      "80/80 [==============================] - 469s 6s/step - loss: 0.6454 - iou_score: 0.3680 - precision: 0.9931 - recall: 0.3720 - val_loss: 0.6657 - val_iou_score: 0.3496 - val_precision: 0.9827 - val_recall: 0.3541\n",
      "Epoch 36/40\n",
      "80/80 [==============================] - 467s 6s/step - loss: 0.6488 - iou_score: 0.3648 - precision: 0.9937 - recall: 0.3680 - val_loss: 0.6454 - val_iou_score: 0.3705 - val_precision: 0.9869 - val_recall: 0.3724\n",
      "Epoch 37/40\n",
      "80/80 [==============================] - 472s 6s/step - loss: 0.6420 - iou_score: 0.3717 - precision: 0.9937 - recall: 0.3749 - val_loss: 0.6516 - val_iou_score: 0.3636 - val_precision: 0.9867 - val_recall: 0.3663\n",
      "Epoch 38/40\n",
      "80/80 [==============================] - 467s 6s/step - loss: 0.6386 - iou_score: 0.3748 - precision: 0.9937 - recall: 0.3779 - val_loss: 0.6589 - val_iou_score: 0.3564 - val_precision: 0.9836 - val_recall: 0.3593\n",
      "Epoch 39/40\n",
      "80/80 [==============================] - 459s 6s/step - loss: 0.6405 - iou_score: 0.3731 - precision: 0.9938 - recall: 0.3764 - val_loss: 0.6727 - val_iou_score: 0.3428 - val_precision: 0.9864 - val_recall: 0.3451\n",
      "Epoch 40/40\n",
      "80/80 [==============================] - 464s 6s/step - loss: 0.6380 - iou_score: 0.3755 - precision: 0.9938 - recall: 0.3789 - val_loss: 0.6362 - val_iou_score: 0.3787 - val_precision: 0.9838 - val_recall: 0.3834\n"
     ]
    }
   ],
   "source": [
    "# Train the defined model on the dataset\n",
    "history = model.fit(train_gen, steps_per_epoch=train_length//BATCH_SIZE, \n",
    "                    validation_data=val_gen, validation_steps=val_length//BATCH_SIZE, \n",
    "                    epochs=40)"
   ]
  },
  {
   "cell_type": "code",
   "execution_count": 15,
   "id": "after-toner",
   "metadata": {
    "execution": {
     "iopub.execute_input": "2021-05-08T18:07:07.544988Z",
     "iopub.status.busy": "2021-05-08T18:07:07.543848Z",
     "iopub.status.idle": "2021-05-08T18:07:07.886764Z",
     "shell.execute_reply": "2021-05-08T18:07:07.887205Z"
    },
    "papermill": {
     "duration": 1.259185,
     "end_time": "2021-05-08T18:07:07.887355",
     "exception": false,
     "start_time": "2021-05-08T18:07:06.628170",
     "status": "completed"
    },
    "tags": []
   },
   "outputs": [
    {
     "data": {
      "image/png": "[encoded data removed]",
      "text/plain": [
       "<Figure size 1440x432 with 2 Axes>"
      ]
     },
     "metadata": {
      "needs_background": "light"
     },
     "output_type": "display_data"
    }
   ],
   "source": [
    "# Plot the loss and iou score over the epochs\n",
    "plt.figure(figsize=(20, 6))\n",
    "plt.subplot(121)\n",
    "plt.plot(history.history['iou_score'])\n",
    "plt.plot(history.history['val_iou_score'])\n",
    "plt.title('Model IoU Score')\n",
    "plt.ylabel('IoU Score')\n",
    "plt.xlabel('Epoch')\n",
    "plt.legend(['Train', 'Test'], loc='upper left')\n",
    "\n",
    "# Plot training & validation loss values\n",
    "plt.subplot(122)\n",
    "plt.plot(history.history['loss'])\n",
    "plt.plot(history.history['val_loss'])\n",
    "plt.title('Model Loss')\n",
    "plt.ylabel('Loss')\n",
    "plt.xlabel('Epoch')\n",
    "plt.legend(['Train', 'Test'], loc='upper left')\n",
    "plt.show()"
   ]
  },
  {
   "cell_type": "code",
   "execution_count": 16,
   "id": "coupled-sucking",
   "metadata": {
    "execution": {
     "iopub.execute_input": "2021-05-08T18:07:09.695176Z",
     "iopub.status.busy": "2021-05-08T18:07:09.694603Z",
     "iopub.status.idle": "2021-05-08T18:07:09.789796Z",
     "shell.execute_reply": "2021-05-08T18:07:09.789268Z"
    },
    "papermill": {
     "duration": 1.006569,
     "end_time": "2021-05-08T18:07:09.789915",
     "exception": false,
     "start_time": "2021-05-08T18:07:08.783346",
     "status": "completed"
    },
    "tags": []
   },
   "outputs": [],
   "source": [
    "# Save the model to the output\n",
    "model.save_weights('weights.h5')"
   ]
  },
  {
   "cell_type": "code",
   "execution_count": 17,
   "id": "reflected-klein",
   "metadata": {
    "execution": {
     "iopub.execute_input": "2021-05-08T18:07:12.085622Z",
     "iopub.status.busy": "2021-05-08T18:07:12.085088Z",
     "iopub.status.idle": "2021-05-08T18:07:53.579650Z",
     "shell.execute_reply": "2021-05-08T18:07:53.579228Z"
    },
    "papermill": {
     "duration": 42.726773,
     "end_time": "2021-05-08T18:07:53.579841",
     "exception": false,
     "start_time": "2021-05-08T18:07:10.853068",
     "status": "completed"
    },
    "tags": []
   },
   "outputs": [
    {
     "name": "stdout",
     "output_type": "stream",
     "text": [
      "4/4 [==============================] - 28s 9s/step - loss: 0.6553 - iou_score: 0.3598 - precision: 0.9833 - recall: 0.3642\n",
      "\n",
      "Loss: 0.655\n",
      "Average IoU: 0.36\n",
      "Average Precision: 0.983\n",
      "Average Recall: 0.364\n"
     ]
    }
   ],
   "source": [
    "# Evaluate the model on the test generator\n",
    "scores = model.evaluate(test_gen, steps=test_length//BATCH_SIZE)\n",
    "print('\\nLoss: {}'.format(round(scores[0], 3)))\n",
    "print('Average IoU: {}'.format(round(scores[1], 3)))\n",
    "print('Average Precision: {}'.format(round(scores[2], 3)))\n",
    "print('Average Recall: {}'.format(round(scores[3], 3)))"
   ]
  }
 ],
 "metadata": {
  "kernelspec": {
   "display_name": "Python 3",
   "language": "python",
   "name": "python3"
  },
  "language_info": {
   "codemirror_mode": {
    "name": "ipython",
    "version": 3
   },
   "file_extension": ".py",
   "mimetype": "text/x-python",
   "name": "python",
   "nbconvert_exporter": "python",
   "pygments_lexer": "ipython3",
   "version": "3.7.10"
  },
  "papermill": {
   "default_parameters": {},
   "duration": 18710.750936,
   "end_time": "2021-05-08T18:07:58.303967",
   "environment_variables": {},
   "exception": null,
   "input_path": "__notebook__.ipynb",
   "output_path": "__notebook__.ipynb",
   "parameters": {},
   "start_time": "2021-05-08T12:56:07.553031",
   "version": "2.3.3"
  }
 },
 "nbformat": 4,
 "nbformat_minor": 5
}
