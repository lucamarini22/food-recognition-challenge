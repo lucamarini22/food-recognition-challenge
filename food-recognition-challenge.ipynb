{
 "cells": [
  {
   "cell_type": "code",
   "execution_count": 1,
   "id": "chief-integer",
   "metadata": {
    "_kg_hide-input": false,
    "_kg_hide-output": true,
    "execution": {
     "iopub.execute_input": "2021-05-01T09:08:28.296074Z",
     "iopub.status.busy": "2021-05-01T09:08:28.294981Z",
     "iopub.status.idle": "2021-05-01T09:08:43.868415Z",
     "shell.execute_reply": "2021-05-01T09:08:43.867787Z"
    },
    "papermill": {
     "duration": 15.611704,
     "end_time": "2021-05-01T09:08:43.868585",
     "exception": false,
     "start_time": "2021-05-01T09:08:28.256881",
     "status": "completed"
    },
    "tags": []
   },
   "outputs": [
    {
     "name": "stdout",
     "output_type": "stream",
     "text": [
      "Collecting pycocotools\r\n",
      "  Downloading pycocotools-2.0.2.tar.gz (23 kB)\r\n",
      "Requirement already satisfied: setuptools>=18.0 in /opt/conda/lib/python3.7/site-packages (from pycocotools) (49.6.0.post20210108)\r\n",
      "Requirement already satisfied: cython>=0.27.3 in /opt/conda/lib/python3.7/site-packages (from pycocotools) (0.29.23)\r\n",
      "Requirement already satisfied: matplotlib>=2.1.0 in /opt/conda/lib/python3.7/site-packages (from pycocotools) (3.4.1)\r\n",
      "Requirement already satisfied: cycler>=0.10 in /opt/conda/lib/python3.7/site-packages (from matplotlib>=2.1.0->pycocotools) (0.10.0)\r\n",
      "Requirement already satisfied: numpy>=1.16 in /opt/conda/lib/python3.7/site-packages (from matplotlib>=2.1.0->pycocotools) (1.19.5)\r\n",
      "Requirement already satisfied: pillow>=6.2.0 in /opt/conda/lib/python3.7/site-packages (from matplotlib>=2.1.0->pycocotools) (7.2.0)\r\n",
      "Requirement already satisfied: python-dateutil>=2.7 in /opt/conda/lib/python3.7/site-packages (from matplotlib>=2.1.0->pycocotools) (2.8.1)\r\n",
      "Requirement already satisfied: pyparsing>=2.2.1 in /opt/conda/lib/python3.7/site-packages (from matplotlib>=2.1.0->pycocotools) (2.4.7)\r\n",
      "Requirement already satisfied: kiwisolver>=1.0.1 in /opt/conda/lib/python3.7/site-packages (from matplotlib>=2.1.0->pycocotools) (1.3.1)\r\n",
      "Requirement already satisfied: six in /opt/conda/lib/python3.7/site-packages (from cycler>=0.10->matplotlib>=2.1.0->pycocotools) (1.15.0)\r\n",
      "Building wheels for collected packages: pycocotools\r\n",
      "  Building wheel for pycocotools (setup.py) ... \u001b[?25l-\b \b\\\b \b|\b \b/\b \b-\b \b\\\b \b|\b \b/\b \bdone\r\n",
      "\u001b[?25h  Created wheel for pycocotools: filename=pycocotools-2.0.2-cp37-cp37m-linux_x86_64.whl size=272451 sha256=1f895875ccd9b781f0ccb34e563a2808c9532f3f57f69ef2de06da8c81ad09d4\r\n",
      "  Stored in directory: /root/.cache/pip/wheels/bc/cf/1b/e95c99c5f9d1648be3f500ca55e7ce55f24818b0f48336adaf\r\n",
      "Successfully built pycocotools\r\n",
      "Installing collected packages: pycocotools\r\n",
      "Successfully installed pycocotools-2.0.2\r\n"
     ]
    }
   ],
   "source": [
    "# Install the pycoco library\n",
    "!pip install pycocotools"
   ]
  },
  {
   "cell_type": "code",
   "execution_count": 2,
   "id": "acting-metabolism",
   "metadata": {
    "execution": {
     "iopub.execute_input": "2021-05-01T09:08:43.902473Z",
     "iopub.status.busy": "2021-05-01T09:08:43.901681Z",
     "iopub.status.idle": "2021-05-01T09:08:44.053349Z",
     "shell.execute_reply": "2021-05-01T09:08:44.052854Z"
    },
    "papermill": {
     "duration": 0.170881,
     "end_time": "2021-05-01T09:08:44.053490",
     "exception": false,
     "start_time": "2021-05-01T09:08:43.882609",
     "status": "completed"
    },
    "tags": []
   },
   "outputs": [],
   "source": [
    "# Import the necessary libraries\n",
    "import numpy as np\n",
    "import pandas as pd\n",
    "import os\n",
    "import random\n",
    "import cv2\n",
    "from pycocotools.coco import COCO\n",
    "import matplotlib.pyplot as plt\n",
    "%matplotlib inline"
   ]
  },
  {
   "cell_type": "code",
   "execution_count": 3,
   "id": "graduate-appeal",
   "metadata": {
    "execution": {
     "iopub.execute_input": "2021-05-01T09:08:44.087859Z",
     "iopub.status.busy": "2021-05-01T09:08:44.086947Z",
     "iopub.status.idle": "2021-05-01T09:08:44.089797Z",
     "shell.execute_reply": "2021-05-01T09:08:44.089228Z"
    },
    "papermill": {
     "duration": 0.022179,
     "end_time": "2021-05-01T09:08:44.089910",
     "exception": false,
     "start_time": "2021-05-01T09:08:44.067731",
     "status": "completed"
    },
    "tags": []
   },
   "outputs": [],
   "source": [
    "# Define the image and annotation paths\n",
    "train_imgs_path = '../input/food-recognition-challenge/train-v0.4/train/images'\n",
    "train_anns_path = '../input/food-recognition-challenge/train-v0.4/train/annotations.json'\n",
    "\n",
    "test_imgs_path = '../input/food-recognition-challenge/test_images-v0.4/val/images'\n",
    "test_anns_path = '../input/food-recognition-challenge/test_images-v0.4/val/annotations.json'"
   ]
  },
  {
   "cell_type": "markdown",
   "id": "north-advertiser",
   "metadata": {
    "papermill": {
     "duration": 0.015202,
     "end_time": "2021-05-01T09:08:44.120376",
     "exception": false,
     "start_time": "2021-05-01T09:08:44.105174",
     "status": "completed"
    },
    "tags": []
   },
   "source": [
    "# Reference to Image Segmentation\n",
    "\n",
    "https://divamgupta.com/image-segmentation/2019/06/06/deep-learning-semantic-segmentation-keras.html"
   ]
  },
  {
   "cell_type": "code",
   "execution_count": 4,
   "id": "interracial-length",
   "metadata": {
    "execution": {
     "iopub.execute_input": "2021-05-01T09:08:44.158076Z",
     "iopub.status.busy": "2021-05-01T09:08:44.157128Z",
     "iopub.status.idle": "2021-05-01T09:08:44.160510Z",
     "shell.execute_reply": "2021-05-01T09:08:44.159834Z"
    },
    "papermill": {
     "duration": 0.02502,
     "end_time": "2021-05-01T09:08:44.160641",
     "exception": false,
     "start_time": "2021-05-01T09:08:44.135621",
     "status": "completed"
    },
    "tags": []
   },
   "outputs": [],
   "source": [
    "# Function to load JSON into a COCO api\n",
    "def getCOCO(anns_path):\n",
    "    # Initialize the COCO api for instance annotations\n",
    "    coco = COCO(anns_path)\n",
    "    \n",
    "    # Load the categories in a variable\n",
    "    catIDs = coco.getCatIds()\n",
    "    cats = coco.loadCats(catIDs)\n",
    "    \n",
    "    # Print number of categories\n",
    "    nms = [cat['name'] for cat in cats]\n",
    "    \n",
    "    # Create a dataframe of the count of each category\n",
    "    df = pd.DataFrame(columns=['Category', 'ID', 'Count'])\n",
    "    \n",
    "    # Add each category and its count row by row\n",
    "    for i, catID in enumerate(catIDs):\n",
    "        imgIds = coco.getImgIds(catIds=catID)\n",
    "        df.loc[i] = [nms[i]] + [catID] + [len(imgIds)]\n",
    "    \n",
    "    return coco, df"
   ]
  },
  {
   "cell_type": "code",
   "execution_count": 5,
   "id": "unexpected-matrix",
   "metadata": {
    "_kg_hide-output": true,
    "execution": {
     "iopub.execute_input": "2021-05-01T09:08:44.191587Z",
     "iopub.status.busy": "2021-05-01T09:08:44.191006Z",
     "iopub.status.idle": "2021-05-01T09:08:50.153503Z",
     "shell.execute_reply": "2021-05-01T09:08:50.152951Z"
    },
    "papermill": {
     "duration": 5.979321,
     "end_time": "2021-05-01T09:08:50.153653",
     "exception": false,
     "start_time": "2021-05-01T09:08:44.174332",
     "status": "completed"
    },
    "tags": []
   },
   "outputs": [
    {
     "name": "stdout",
     "output_type": "stream",
     "text": [
      "loading annotations into memory...\n",
      "Done (t=4.29s)\n",
      "creating index...\n",
      "index created!\n",
      "loading annotations into memory...\n",
      "Done (t=0.16s)\n",
      "creating index...\n",
      "index created!\n"
     ]
    }
   ],
   "source": [
    "# Load the annotations of the image dataset\n",
    "train_coco, train_classes = getCOCO(train_anns_path)\n",
    "test_coco, test_classes = getCOCO(test_anns_path)"
   ]
  },
  {
   "cell_type": "code",
   "execution_count": 6,
   "id": "charged-london",
   "metadata": {
    "execution": {
     "iopub.execute_input": "2021-05-01T09:08:50.193983Z",
     "iopub.status.busy": "2021-05-01T09:08:50.192416Z",
     "iopub.status.idle": "2021-05-01T09:08:50.194847Z",
     "shell.execute_reply": "2021-05-01T09:08:50.195310Z"
    },
    "papermill": {
     "duration": 0.025755,
     "end_time": "2021-05-01T09:08:50.195447",
     "exception": false,
     "start_time": "2021-05-01T09:08:50.169692",
     "status": "completed"
    },
    "tags": []
   },
   "outputs": [],
   "source": [
    "def getMask(image_id, coco, classes, image_size):\n",
    "    # Create a zero array with the given size and number of classes\n",
    "    mask = np.zeros((image_size[0], image_size[1], 274))\n",
    "\n",
    "    annIds = coco.getAnnIds(int(image_id))\n",
    "    anns = coco.loadAnns(annIds)\n",
    "\n",
    "    for i, ann in enumerate(anns):\n",
    "        # Get the binary mask for the annotation\n",
    "        binary = cv2.resize(coco.annToMask(ann), image_size)\n",
    "\n",
    "        # Get the channel index for the annotation\n",
    "        channel = classes[classes.ID == ann['category_id']].index[0] + 1\n",
    "\n",
    "        # Update the channel of the annotation\n",
    "        mask[:, :, channel] = binary\n",
    "\n",
    "        # Update the background channel of the annotation\n",
    "        if i == 0:\n",
    "            mask[:, :, 0] = np.logical_or(mask[:, :, 0], np.logical_not(binary))\n",
    "        else:\n",
    "            mask[:, :, 0] = np.logical_and(mask[:, :, 0], np.logical_not(binary))\n",
    "\n",
    "    return mask"
   ]
  },
  {
   "cell_type": "code",
   "execution_count": 7,
   "id": "greek-cassette",
   "metadata": {
    "execution": {
     "iopub.execute_input": "2021-05-01T09:08:50.239063Z",
     "iopub.status.busy": "2021-05-01T09:08:50.238469Z",
     "iopub.status.idle": "2021-05-01T09:08:50.241667Z",
     "shell.execute_reply": "2021-05-01T09:08:50.241229Z"
    },
    "papermill": {
     "duration": 0.030736,
     "end_time": "2021-05-01T09:08:50.241782",
     "exception": false,
     "start_time": "2021-05-01T09:08:50.211046",
     "status": "completed"
    },
    "tags": []
   },
   "outputs": [],
   "source": [
    "def getGenerator(img_folder, coco, classes, image_size, batch_size):\n",
    "    c = 0\n",
    "    n = os.listdir(img_folder)\n",
    "    random.shuffle(n)\n",
    "    \n",
    "    while (True):\n",
    "        img_batch = np.zeros((batch_size, image_size[0], image_size[1], 3)).astype('int')\n",
    "        mask_batch = np.zeros((batch_size, image_size[0], image_size[1], 274)).astype('float')\n",
    "\n",
    "        for i in range(c, c + batch_size):\n",
    "            img = cv2.imread(img_folder + '/' + n[i])\n",
    "            img =  cv2.resize(img, image_size)\n",
    "            img = cv2.cvtColor(img, cv2.COLOR_BGR2RGB)\n",
    "            img_batch[i-c] = img\n",
    "\n",
    "            mask = getMask(n[i][1:-4], coco, classes, image_size)\n",
    "            mask_batch[i-c] = mask\n",
    "\n",
    "        c += batch_size\n",
    "        if(c + batch_size >= len(os.listdir(img_folder))):\n",
    "            c = 0\n",
    "            random.shuffle(n)\n",
    "\n",
    "        yield img_batch, mask_batch"
   ]
  },
  {
   "cell_type": "code",
   "execution_count": 8,
   "id": "textile-transport",
   "metadata": {
    "execution": {
     "iopub.execute_input": "2021-05-01T09:08:50.276883Z",
     "iopub.status.busy": "2021-05-01T09:08:50.276260Z",
     "iopub.status.idle": "2021-05-01T09:08:53.136946Z",
     "shell.execute_reply": "2021-05-01T09:08:53.135891Z"
    },
    "papermill": {
     "duration": 2.880751,
     "end_time": "2021-05-01T09:08:53.137167",
     "exception": false,
     "start_time": "2021-05-01T09:08:50.256416",
     "status": "completed"
    },
    "tags": []
   },
   "outputs": [
    {
     "name": "stdout",
     "output_type": "stream",
     "text": [
      "Number of training images: 24120\n",
      "Number of test images: 1269\n"
     ]
    }
   ],
   "source": [
    "# Get the generators from the paths\n",
    "IMAGE_SIZE = (32, 32)\n",
    "BATCH_SIZE = 300\n",
    "\n",
    "train_gen = getGenerator(train_imgs_path, train_coco, train_classes, image_size=IMAGE_SIZE, batch_size=BATCH_SIZE)\n",
    "train_length = len(os.listdir(train_imgs_path))\n",
    "print('Number of training images: {}'.format(train_length))\n",
    "\n",
    "test_gen = getGenerator(test_imgs_path, test_coco, test_classes, image_size=IMAGE_SIZE, batch_size=BATCH_SIZE)\n",
    "test_length = len(os.listdir(test_imgs_path))\n",
    "print('Number of test images: {}'.format(test_length))"
   ]
  },
  {
   "cell_type": "code",
   "execution_count": 9,
   "id": "agricultural-study",
   "metadata": {
    "_kg_hide-output": true,
    "execution": {
     "iopub.execute_input": "2021-05-01T09:08:53.182980Z",
     "iopub.status.busy": "2021-05-01T09:08:53.182002Z",
     "iopub.status.idle": "2021-05-01T09:09:06.763112Z",
     "shell.execute_reply": "2021-05-01T09:09:06.762659Z"
    },
    "papermill": {
     "duration": 13.608846,
     "end_time": "2021-05-01T09:09:06.763259",
     "exception": false,
     "start_time": "2021-05-01T09:08:53.154413",
     "status": "completed"
    },
    "tags": []
   },
   "outputs": [
    {
     "name": "stdout",
     "output_type": "stream",
     "text": [
      "Collecting segmentation_models\r\n",
      "  Downloading segmentation_models-1.0.1-py3-none-any.whl (33 kB)\r\n",
      "Collecting image-classifiers==1.0.0\r\n",
      "  Downloading image_classifiers-1.0.0-py3-none-any.whl (19 kB)\r\n",
      "Collecting efficientnet==1.0.0\r\n",
      "  Downloading efficientnet-1.0.0-py3-none-any.whl (17 kB)\r\n",
      "Collecting keras-applications<=1.0.8,>=1.0.7\r\n",
      "  Downloading Keras_Applications-1.0.8-py3-none-any.whl (50 kB)\r\n",
      "\u001b[K     |████████████████████████████████| 50 kB 1.7 MB/s \r\n",
      "\u001b[?25hRequirement already satisfied: scikit-image in /opt/conda/lib/python3.7/site-packages (from efficientnet==1.0.0->segmentation_models) (0.18.1)\r\n",
      "Requirement already satisfied: h5py in /opt/conda/lib/python3.7/site-packages (from keras-applications<=1.0.8,>=1.0.7->segmentation_models) (2.10.0)\r\n",
      "Requirement already satisfied: numpy>=1.9.1 in /opt/conda/lib/python3.7/site-packages (from keras-applications<=1.0.8,>=1.0.7->segmentation_models) (1.19.5)\r\n",
      "Requirement already satisfied: six in /opt/conda/lib/python3.7/site-packages (from h5py->keras-applications<=1.0.8,>=1.0.7->segmentation_models) (1.15.0)\r\n",
      "Requirement already satisfied: pillow!=7.1.0,!=7.1.1,>=4.3.0 in /opt/conda/lib/python3.7/site-packages (from scikit-image->efficientnet==1.0.0->segmentation_models) (7.2.0)\r\n",
      "Requirement already satisfied: matplotlib!=3.0.0,>=2.0.0 in /opt/conda/lib/python3.7/site-packages (from scikit-image->efficientnet==1.0.0->segmentation_models) (3.4.1)\r\n",
      "Requirement already satisfied: tifffile>=2019.7.26 in /opt/conda/lib/python3.7/site-packages (from scikit-image->efficientnet==1.0.0->segmentation_models) (2021.4.8)\r\n",
      "Requirement already satisfied: scipy>=1.0.1 in /opt/conda/lib/python3.7/site-packages (from scikit-image->efficientnet==1.0.0->segmentation_models) (1.5.4)\r\n",
      "Requirement already satisfied: imageio>=2.3.0 in /opt/conda/lib/python3.7/site-packages (from scikit-image->efficientnet==1.0.0->segmentation_models) (2.9.0)\r\n",
      "Requirement already satisfied: networkx>=2.0 in /opt/conda/lib/python3.7/site-packages (from scikit-image->efficientnet==1.0.0->segmentation_models) (2.5)\r\n",
      "Requirement already satisfied: PyWavelets>=1.1.1 in /opt/conda/lib/python3.7/site-packages (from scikit-image->efficientnet==1.0.0->segmentation_models) (1.1.1)\r\n",
      "Requirement already satisfied: pyparsing>=2.2.1 in /opt/conda/lib/python3.7/site-packages (from matplotlib!=3.0.0,>=2.0.0->scikit-image->efficientnet==1.0.0->segmentation_models) (2.4.7)\r\n",
      "Requirement already satisfied: python-dateutil>=2.7 in /opt/conda/lib/python3.7/site-packages (from matplotlib!=3.0.0,>=2.0.0->scikit-image->efficientnet==1.0.0->segmentation_models) (2.8.1)\r\n",
      "Requirement already satisfied: cycler>=0.10 in /opt/conda/lib/python3.7/site-packages (from matplotlib!=3.0.0,>=2.0.0->scikit-image->efficientnet==1.0.0->segmentation_models) (0.10.0)\r\n",
      "Requirement already satisfied: kiwisolver>=1.0.1 in /opt/conda/lib/python3.7/site-packages (from matplotlib!=3.0.0,>=2.0.0->scikit-image->efficientnet==1.0.0->segmentation_models) (1.3.1)\r\n",
      "Requirement already satisfied: decorator>=4.3.0 in /opt/conda/lib/python3.7/site-packages (from networkx>=2.0->scikit-image->efficientnet==1.0.0->segmentation_models) (4.4.2)\r\n",
      "Installing collected packages: keras-applications, image-classifiers, efficientnet, segmentation-models\r\n",
      "Successfully installed efficientnet-1.0.0 image-classifiers-1.0.0 keras-applications-1.0.8 segmentation-models-1.0.1\r\n",
      "env: SM_FRAMEWORK=tf.keras\n",
      "Segmentation Models: using `tf.keras` framework.\n"
     ]
    }
   ],
   "source": [
    "# Install and import the segmentation models library\n",
    "!pip install segmentation_models\n",
    "%env SM_FRAMEWORK=tf.keras\n",
    "import segmentation_models as sm"
   ]
  },
  {
   "cell_type": "code",
   "execution_count": 10,
   "id": "flying-digest",
   "metadata": {
    "execution": {
     "iopub.execute_input": "2021-05-01T09:09:06.807026Z",
     "iopub.status.busy": "2021-05-01T09:09:06.806506Z",
     "iopub.status.idle": "2021-05-01T09:09:12.461685Z",
     "shell.execute_reply": "2021-05-01T09:09:12.460976Z"
    },
    "papermill": {
     "duration": 5.679183,
     "end_time": "2021-05-01T09:09:12.461824",
     "exception": false,
     "start_time": "2021-05-01T09:09:06.782641",
     "status": "completed"
    },
    "tags": []
   },
   "outputs": [
    {
     "name": "stdout",
     "output_type": "stream",
     "text": [
      "Downloading data from https://github.com/qubvel/classification_models/releases/download/0.0.1/resnet34_imagenet_1000_no_top.h5\n",
      "85524480/85521592 [==============================] - 1s 0us/step\n"
     ]
    }
   ],
   "source": [
    "# Define the model to be trained\n",
    "model = sm.Unet('resnet34', encoder_freeze=True, classes=274, activation='softmax')\n",
    "model.compile('Adam', loss=sm.losses.cce_dice_loss, \n",
    "              metrics=[sm.metrics.iou_score, sm.metrics.precision, sm.metrics.recall])"
   ]
  },
  {
   "cell_type": "code",
   "execution_count": 11,
   "id": "diagnostic-copyright",
   "metadata": {
    "execution": {
     "iopub.execute_input": "2021-05-01T09:09:12.526511Z",
     "iopub.status.busy": "2021-05-01T09:09:12.525894Z",
     "iopub.status.idle": "2021-05-01T09:09:12.530405Z",
     "shell.execute_reply": "2021-05-01T09:09:12.529915Z"
    },
    "papermill": {
     "duration": 0.039776,
     "end_time": "2021-05-01T09:09:12.530530",
     "exception": false,
     "start_time": "2021-05-01T09:09:12.490754",
     "status": "completed"
    },
    "tags": []
   },
   "outputs": [],
   "source": [
    "# # Load the trained model weights\n",
    "# weights_path = '../input/food-recognition-model/weights.h5'\n",
    "# model.load_weights(weights_path)"
   ]
  },
  {
   "cell_type": "code",
   "execution_count": 12,
   "id": "united-folks",
   "metadata": {
    "_kg_hide-output": true,
    "execution": {
     "iopub.execute_input": "2021-05-01T09:09:12.590340Z",
     "iopub.status.busy": "2021-05-01T09:09:12.589598Z",
     "iopub.status.idle": "2021-05-01T10:12:03.048927Z",
     "shell.execute_reply": "2021-05-01T10:12:03.049386Z"
    },
    "papermill": {
     "duration": 3770.491814,
     "end_time": "2021-05-01T10:12:03.049579",
     "exception": false,
     "start_time": "2021-05-01T09:09:12.557765",
     "status": "completed"
    },
    "tags": []
   },
   "outputs": [
    {
     "name": "stdout",
     "output_type": "stream",
     "text": [
      "Epoch 1/10\n",
      "80/80 [==============================] - 597s 7s/step - loss: 1.0121 - iou_score: 0.0015 - precision: 0.0044 - recall: 0.3584\n",
      "Epoch 2/10\n",
      "80/80 [==============================] - 350s 4s/step - loss: 0.9978 - iou_score: 0.0061 - precision: 0.0093 - recall: 0.3692\n",
      "Epoch 3/10\n",
      "80/80 [==============================] - 344s 4s/step - loss: 0.9915 - iou_score: 0.0096 - precision: 0.0157 - recall: 0.3763\n",
      "Epoch 4/10\n",
      "80/80 [==============================] - 346s 4s/step - loss: 0.9853 - iou_score: 0.0133 - precision: 0.0228 - recall: 0.3834\n",
      "Epoch 5/10\n",
      "80/80 [==============================] - 350s 4s/step - loss: 0.9778 - iou_score: 0.0181 - precision: 0.0317 - recall: 0.3935\n",
      "Epoch 6/10\n",
      "80/80 [==============================] - 349s 4s/step - loss: 0.9693 - iou_score: 0.0237 - precision: 0.0421 - recall: 0.3954\n",
      "Epoch 7/10\n",
      "80/80 [==============================] - 355s 4s/step - loss: 0.9642 - iou_score: 0.0273 - precision: 0.0495 - recall: 0.4014\n",
      "Epoch 8/10\n",
      "80/80 [==============================] - 362s 5s/step - loss: 0.9578 - iou_score: 0.0319 - precision: 0.0571 - recall: 0.4062\n",
      "Epoch 9/10\n",
      "80/80 [==============================] - 351s 4s/step - loss: 0.9535 - iou_score: 0.0350 - precision: 0.0630 - recall: 0.4184\n",
      "Epoch 10/10\n",
      "80/80 [==============================] - 356s 4s/step - loss: 0.9480 - iou_score: 0.0388 - precision: 0.0698 - recall: 0.4212\n"
     ]
    }
   ],
   "source": [
    "# Train the defined model on the dataset\n",
    "history = model.fit(train_gen, steps_per_epoch=train_length//BATCH_SIZE, epochs=10)"
   ]
  },
  {
   "cell_type": "code",
   "execution_count": 13,
   "id": "charitable-squad",
   "metadata": {
    "execution": {
     "iopub.execute_input": "2021-05-01T10:12:03.547015Z",
     "iopub.status.busy": "2021-05-01T10:12:03.546458Z",
     "iopub.status.idle": "2021-05-01T10:12:03.855210Z",
     "shell.execute_reply": "2021-05-01T10:12:03.854657Z"
    },
    "papermill": {
     "duration": 0.564026,
     "end_time": "2021-05-01T10:12:03.855350",
     "exception": false,
     "start_time": "2021-05-01T10:12:03.291324",
     "status": "completed"
    },
    "tags": []
   },
   "outputs": [],
   "source": [
    "# Save the model to the output\n",
    "model.save_weights('weights.h5')"
   ]
  },
  {
   "cell_type": "code",
   "execution_count": 14,
   "id": "coral-links",
   "metadata": {
    "execution": {
     "iopub.execute_input": "2021-05-01T10:12:04.352823Z",
     "iopub.status.busy": "2021-05-01T10:12:04.352257Z",
     "iopub.status.idle": "2021-05-01T10:12:36.759388Z",
     "shell.execute_reply": "2021-05-01T10:12:36.760351Z"
    },
    "papermill": {
     "duration": 32.662002,
     "end_time": "2021-05-01T10:12:36.760609",
     "exception": false,
     "start_time": "2021-05-01T10:12:04.098607",
     "status": "completed"
    },
    "tags": []
   },
   "outputs": [
    {
     "name": "stdout",
     "output_type": "stream",
     "text": [
      "4/4 [==============================] - 21s 7s/step - loss: 0.9671 - iou_score: 0.0270 - precision: 0.0526 - recall: 0.4123\n",
      "\n",
      "Loss: 0.967\n",
      "Average IoU: 0.027\n",
      "Average Precision: 0.053\n",
      "Average Recall: 0.412\n"
     ]
    }
   ],
   "source": [
    "# Evaluate the model on the test generator\n",
    "scores = model.evaluate(test_gen, steps=test_length//BATCH_SIZE)\n",
    "print('\\nLoss: {}'.format(round(scores[0], 3)))\n",
    "print('Average IoU: {}'.format(round(scores[1], 3)))\n",
    "print('Average Precision: {}'.format(round(scores[2], 3)))\n",
    "print('Average Recall: {}'.format(round(scores[3], 3)))"
   ]
  }
 ],
 "metadata": {
  "kernelspec": {
   "display_name": "Python 3",
   "language": "python",
   "name": "python3"
  },
  "language_info": {
   "codemirror_mode": {
    "name": "ipython",
    "version": 3
   },
   "file_extension": ".py",
   "mimetype": "text/x-python",
   "name": "python",
   "nbconvert_exporter": "python",
   "pygments_lexer": "ipython3",
   "version": "3.7.10"
  },
  "papermill": {
   "default_parameters": {},
   "duration": 3860.049911,
   "end_time": "2021-05-01T10:12:41.053773",
   "environment_variables": {},
   "exception": null,
   "input_path": "__notebook__.ipynb",
   "output_path": "__notebook__.ipynb",
   "parameters": {},
   "start_time": "2021-05-01T09:08:21.003862",
   "version": "2.3.3"
  }
 },
 "nbformat": 4,
 "nbformat_minor": 5
}
